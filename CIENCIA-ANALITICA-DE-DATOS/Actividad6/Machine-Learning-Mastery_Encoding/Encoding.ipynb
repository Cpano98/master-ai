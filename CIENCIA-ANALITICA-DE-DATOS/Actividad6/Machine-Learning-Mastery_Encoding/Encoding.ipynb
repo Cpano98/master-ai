{
 "cells": [
  {
   "cell_type": "markdown",
   "metadata": {
    "id": "qkfSqB1JLD4b"
   },
   "source": [
    "Machine Learning Mastery\n",
    "    \n",
    "    AUTHOR: Dr. Jason Brownlee \n",
    "\n",
    "### Ordinal and One-Hot Encodings for Categorical Data"
   ]
  },
  {
   "cell_type": "code",
   "execution_count": 1,
   "metadata": {
    "colab": {
     "base_uri": "https://localhost:8080/"
    },
    "executionInfo": {
     "elapsed": 16663,
     "status": "ok",
     "timestamp": 1672362510152,
     "user": {
      "displayName": "Grettel Barceló Alonso",
      "userId": "01577411478517144249"
     },
     "user_tz": 360
    },
    "id": "F0LztVDuCBz0",
    "outputId": "db67a08f-417c-4351-f16d-62eb1c124235"
   },
   "outputs": [],
   "source": [
    "# from google.colab import drive\n",
    "# drive.mount('/content/drive')"
   ]
  },
  {
   "cell_type": "code",
   "execution_count": 2,
   "metadata": {
    "executionInfo": {
     "elapsed": 1221,
     "status": "ok",
     "timestamp": 1672362511369,
     "user": {
      "displayName": "Grettel Barceló Alonso",
      "userId": "01577411478517144249"
     },
     "user_tz": 360
    },
    "id": "-KnZr09PCD4T"
   },
   "outputs": [],
   "source": [
    "# import os\n",
    "# DIR = \"/content/drive/MyDrive/Colab Notebooks/MNA/TC4029 - Ciencia y analítica de datos/Semana 6/Machine-Learning-Mastery_Encoding\"\n",
    "# os.chdir(DIR)"
   ]
  },
  {
   "cell_type": "code",
   "execution_count": 3,
   "metadata": {
    "executionInfo": {
     "elapsed": 189,
     "status": "ok",
     "timestamp": 1672362749896,
     "user": {
      "displayName": "Grettel Barceló Alonso",
      "userId": "01577411478517144249"
     },
     "user_tz": 360
    },
    "id": "aNQ-PTQdLD4d"
   },
   "outputs": [],
   "source": [
    "import pandas as pd\n",
    "from numpy import asarray\n",
    "from sklearn.preprocessing import LabelEncoder\n",
    "from sklearn.preprocessing import OrdinalEncoder\n",
    "from sklearn.preprocessing import OneHotEncoder"
   ]
  },
  {
   "cell_type": "markdown",
   "metadata": {
    "id": "5W19KE-1Eeld"
   },
   "source": [
    "**NOTA**. Sólo se incluye el código de la codificación, que es lo relevante al tema de Ingeniería de características\n",
    "\n",
    "Se incluye un ejemplo de **codificación binaria**"
   ]
  },
  {
   "cell_type": "markdown",
   "metadata": {
    "id": "LWkyTMQ4zRj1"
   },
   "source": [
    "## Ordinal Encoding"
   ]
  },
  {
   "cell_type": "code",
   "execution_count": 4,
   "metadata": {
    "colab": {
     "base_uri": "https://localhost:8080/"
    },
    "executionInfo": {
     "elapsed": 9,
     "status": "ok",
     "timestamp": 1672362513769,
     "user": {
      "displayName": "Grettel Barceló Alonso",
      "userId": "01577411478517144249"
     },
     "user_tz": 360
    },
    "id": "A24BHe9YzEMJ",
    "outputId": "593f263f-f11a-46f4-8cf6-40c0b625f2c6"
   },
   "outputs": [
    {
     "name": "stdout",
     "output_type": "stream",
     "text": [
      "[['red']\n",
      " ['green']\n",
      " ['blue']]\n",
      "[[2.]\n",
      " [1.]\n",
      " [0.]]\n"
     ]
    }
   ],
   "source": [
    "# define data\n",
    "data = asarray([['red'], ['green'], ['blue']])\n",
    "print(data)\n",
    "# define ordinal encoding\n",
    "encoder = OrdinalEncoder()\n",
    "# transform data\n",
    "result = encoder.fit_transform(data)\n",
    "print(result)"
   ]
  },
  {
   "cell_type": "markdown",
   "metadata": {
    "id": "Dn0wVo3Qznx_"
   },
   "source": [
    "## One-Hot Encoding"
   ]
  },
  {
   "cell_type": "code",
   "execution_count": 5,
   "metadata": {
    "colab": {
     "base_uri": "https://localhost:8080/"
    },
    "executionInfo": {
     "elapsed": 9,
     "status": "ok",
     "timestamp": 1672362513770,
     "user": {
      "displayName": "Grettel Barceló Alonso",
      "userId": "01577411478517144249"
     },
     "user_tz": 360
    },
    "id": "oj6M9qaYzaQK",
    "outputId": "01a45d22-f6ed-49a0-c403-e28554a859f0"
   },
   "outputs": [
    {
     "name": "stdout",
     "output_type": "stream",
     "text": [
      "[['red']\n",
      " ['green']\n",
      " ['blue']]\n"
     ]
    },
    {
     "ename": "TypeError",
     "evalue": "OneHotEncoder.__init__() got an unexpected keyword argument 'sparse'",
     "output_type": "error",
     "traceback": [
      "\u001b[0;31m---------------------------------------------------------------------------\u001b[0m",
      "\u001b[0;31mTypeError\u001b[0m                                 Traceback (most recent call last)",
      "Cell \u001b[0;32mIn[5], line 5\u001b[0m\n\u001b[1;32m      3\u001b[0m \u001b[38;5;28mprint\u001b[39m(data)\n\u001b[1;32m      4\u001b[0m \u001b[38;5;66;03m# define one hot encoding\u001b[39;00m\n\u001b[0;32m----> 5\u001b[0m encoder \u001b[38;5;241m=\u001b[39m OneHotEncoder(sparse\u001b[38;5;241m=\u001b[39m\u001b[38;5;28;01mFalse\u001b[39;00m)\n\u001b[1;32m      6\u001b[0m \u001b[38;5;66;03m# transform data\u001b[39;00m\n\u001b[1;32m      7\u001b[0m onehot \u001b[38;5;241m=\u001b[39m encoder\u001b[38;5;241m.\u001b[39mfit_transform(data)\n",
      "\u001b[0;31mTypeError\u001b[0m: OneHotEncoder.__init__() got an unexpected keyword argument 'sparse'"
     ]
    }
   ],
   "source": [
    "# define data\n",
    "data = asarray([['red'], ['green'], ['blue']])\n",
    "print(data)\n",
    "# define one hot encoding\n",
    "encoder = OneHotEncoder(sparse=False)\n",
    "# transform data\n",
    "onehot = encoder.fit_transform(data)\n",
    "print(onehot)"
   ]
  },
  {
   "cell_type": "markdown",
   "metadata": {
    "id": "3REtHkplzsgg"
   },
   "source": [
    "## Dummy Variable Encoding"
   ]
  },
  {
   "cell_type": "code",
   "execution_count": null,
   "metadata": {
    "colab": {
     "base_uri": "https://localhost:8080/"
    },
    "executionInfo": {
     "elapsed": 6,
     "status": "ok",
     "timestamp": 1672362513770,
     "user": {
      "displayName": "Grettel Barceló Alonso",
      "userId": "01577411478517144249"
     },
     "user_tz": 360
    },
    "id": "I4aFBXunzwlj",
    "outputId": "28ccc46c-52e1-411d-ba9f-b1677cfa5e23"
   },
   "outputs": [],
   "source": [
    "# define data\n",
    "data = asarray([['red'], ['green'], ['blue']])\n",
    "print(data)\n",
    "# define one hot encoding\n",
    "encoder = OneHotEncoder(drop='first', sparse=False)\n",
    "# transform data\n",
    "onehot = encoder.fit_transform(data)\n",
    "print(onehot)"
   ]
  },
  {
   "cell_type": "markdown",
   "metadata": {
    "id": "FTF6qPV2jbdX"
   },
   "source": [
    "## Binary Encoding"
   ]
  },
  {
   "cell_type": "markdown",
   "metadata": {
    "id": "IZg3m9ib0H6L"
   },
   "source": [
    "Binary encoding is a categorical encoding technique that uses binary code – that is, a sequence of zeroes and ones – to represent the different categories of the variable. \n",
    "\n",
    "Binary encoding encodes the data in fewer dimensions than one-hot encoding. More generally, we determine the number of binary features needed to encode a variable as log2(number of distinct categories). This is particularly useful when we have highly cardinal variables. For example, if a variable contains 128 unique categories, with one-hot encoding, we would need 127 features to encode the variable, whereas with binary encoding, we would only need 7 (log2(128)=7). "
   ]
  },
  {
   "cell_type": "code",
   "execution_count": null,
   "metadata": {
    "colab": {
     "base_uri": "https://localhost:8080/"
    },
    "executionInfo": {
     "elapsed": 5023,
     "status": "ok",
     "timestamp": 1672362780514,
     "user": {
      "displayName": "Grettel Barceló Alonso",
      "userId": "01577411478517144249"
     },
     "user_tz": 360
    },
    "id": "ByVrlFN3jfal",
    "outputId": "876df1b0-1651-4eb5-cb7f-b33a7daa2fb6"
   },
   "outputs": [],
   "source": [
    "!pip install category_encoders\n",
    "from category_encoders.binary import BinaryEncoder"
   ]
  },
  {
   "cell_type": "code",
   "execution_count": null,
   "metadata": {
    "colab": {
     "base_uri": "https://localhost:8080/"
    },
    "executionInfo": {
     "elapsed": 139,
     "status": "ok",
     "timestamp": 1672363041218,
     "user": {
      "displayName": "Grettel Barceló Alonso",
      "userId": "01577411478517144249"
     },
     "user_tz": 360
    },
    "id": "xwcrQkXNlsve",
    "outputId": "ea8e0ce5-0f50-45b6-88c0-0057415a587e"
   },
   "outputs": [],
   "source": [
    "# define data\n",
    "data = asarray([['red'], ['green'], ['blue']])\n",
    "print(data)\n",
    "# define binary encoding\n",
    "encoder = BinaryEncoder()\n",
    "# transform data\n",
    "result = encoder.fit_transform(data)\n",
    "print(result)"
   ]
  },
  {
   "cell_type": "markdown",
   "metadata": {
    "id": "Vqwuk5H_z7UQ"
   },
   "source": [
    "# Breast Cancer Dataset\n",
    "## OrdinalEncoder Transform"
   ]
  },
  {
   "cell_type": "code",
   "execution_count": null,
   "metadata": {
    "executionInfo": {
     "elapsed": 164,
     "status": "ok",
     "timestamp": 1672363200427,
     "user": {
      "displayName": "Grettel Barceló Alonso",
      "userId": "01577411478517144249"
     },
     "user_tz": 360
    },
    "id": "eINRcP1_xArp"
   },
   "outputs": [],
   "source": [
    "# load dataset\n",
    "dataset = pd.read_csv('breast-cancer.csv', header=None)\n",
    "# retrieve the array of data\n",
    "data = dataset.values"
   ]
  },
  {
   "cell_type": "code",
   "execution_count": null,
   "metadata": {
    "executionInfo": {
     "elapsed": 143,
     "status": "ok",
     "timestamp": 1672363201535,
     "user": {
      "displayName": "Grettel Barceló Alonso",
      "userId": "01577411478517144249"
     },
     "user_tz": 360
    },
    "id": "P1GmCYjxw4nc"
   },
   "outputs": [],
   "source": [
    "# separate into input and output columns\n",
    "X = data[:, :-1].astype(str)\n",
    "y = data[:, -1].astype(str)"
   ]
  },
  {
   "cell_type": "code",
   "execution_count": null,
   "metadata": {
    "executionInfo": {
     "elapsed": 220,
     "status": "ok",
     "timestamp": 1672363202469,
     "user": {
      "displayName": "Grettel Barceló Alonso",
      "userId": "01577411478517144249"
     },
     "user_tz": 360
    },
    "id": "NHoYo96GxN5m"
   },
   "outputs": [],
   "source": [
    "# ordinal encode input variables\n",
    "ordinal_encoder = OrdinalEncoder()\n",
    "X = ordinal_encoder.fit_transform(X)"
   ]
  },
  {
   "cell_type": "code",
   "execution_count": null,
   "metadata": {
    "executionInfo": {
     "elapsed": 172,
     "status": "ok",
     "timestamp": 1672363203301,
     "user": {
      "displayName": "Grettel Barceló Alonso",
      "userId": "01577411478517144249"
     },
     "user_tz": 360
    },
    "id": "YnVfY-NvxQUi"
   },
   "outputs": [],
   "source": [
    "# ordinal encode target variable\n",
    "label_encoder = LabelEncoder()\n",
    "y = label_encoder.fit_transform(y)"
   ]
  },
  {
   "cell_type": "code",
   "execution_count": null,
   "metadata": {
    "colab": {
     "base_uri": "https://localhost:8080/"
    },
    "executionInfo": {
     "elapsed": 156,
     "status": "ok",
     "timestamp": 1672363204493,
     "user": {
      "displayName": "Grettel Barceló Alonso",
      "userId": "01577411478517144249"
     },
     "user_tz": 360
    },
    "id": "oG8OFbLtxR7l",
    "outputId": "e908f56f-fcc7-4b3d-fa0c-0f1412a37136"
   },
   "outputs": [],
   "source": [
    "# summarize the transformed data\n",
    "print('Input', X.shape)\n",
    "print(X[:5, :])\n",
    "print('Output', y.shape)\n",
    "print(y[:5])"
   ]
  },
  {
   "cell_type": "code",
   "execution_count": null,
   "metadata": {
    "colab": {
     "base_uri": "https://localhost:8080/",
     "height": 424
    },
    "executionInfo": {
     "elapsed": 137,
     "status": "ok",
     "timestamp": 1672365880789,
     "user": {
      "displayName": "Grettel Barceló Alonso",
      "userId": "01577411478517144249"
     },
     "user_tz": 360
    },
    "id": "EoZEqtAjnXwc",
    "outputId": "880c7f70-e84d-4ac8-acb3-781ce86c148e"
   },
   "outputs": [],
   "source": [
    "# Same previous example with dataframe treatment\n",
    "dataset.columns = ['age','menopause','tumor-size','inv-nodes','node-caps','deg-malig','breast','breast-quad','irradiat','Class']\n",
    "# Columns to be encoded are specified\n",
    "categorical_variables = ['age','menopause','tumor-size','inv-nodes','node-caps','deg-malig','breast','breast-quad','irradiat']\n",
    "ordinal_encoder = OrdinalEncoder()\n",
    "ordinal_ar = ordinal_encoder.fit_transform(dataset[categorical_variables])\n",
    "# The returned ndarray is converted to a dataframe\n",
    "ordinal_df = pd.DataFrame(ordinal_ar, columns=categorical_variables)\n",
    "ordinal_df"
   ]
  },
  {
   "cell_type": "markdown",
   "metadata": {
    "id": "cOd1dYDW0HAX"
   },
   "source": [
    "# Breast Cancer Dataset\n",
    "## OneHotEncoder Transform"
   ]
  },
  {
   "cell_type": "code",
   "execution_count": null,
   "metadata": {
    "executionInfo": {
     "elapsed": 144,
     "status": "ok",
     "timestamp": 1672366055472,
     "user": {
      "displayName": "Grettel Barceló Alonso",
      "userId": "01577411478517144249"
     },
     "user_tz": 360
    },
    "id": "WfZspI0h0WjZ"
   },
   "outputs": [],
   "source": [
    "# load dataset\n",
    "dataset = pd.read_csv('breast-cancer.csv', header=None)\n",
    "# retrieve the array of data\n",
    "data = dataset.values"
   ]
  },
  {
   "cell_type": "code",
   "execution_count": null,
   "metadata": {
    "executionInfo": {
     "elapsed": 1,
     "status": "ok",
     "timestamp": 1672366056327,
     "user": {
      "displayName": "Grettel Barceló Alonso",
      "userId": "01577411478517144249"
     },
     "user_tz": 360
    },
    "id": "qjkUZEX40Rjj"
   },
   "outputs": [],
   "source": [
    "# separate into input and output columns\n",
    "X = data[:, :-1].astype(str)\n",
    "y = data[:, -1].astype(str)"
   ]
  },
  {
   "cell_type": "code",
   "execution_count": null,
   "metadata": {
    "executionInfo": {
     "elapsed": 201,
     "status": "ok",
     "timestamp": 1672366057313,
     "user": {
      "displayName": "Grettel Barceló Alonso",
      "userId": "01577411478517144249"
     },
     "user_tz": 360
    },
    "id": "uExS_h0f0ZZd"
   },
   "outputs": [],
   "source": [
    "# one hot encode input variables\n",
    "onehot_encoder = OneHotEncoder(drop='first', sparse=False)\n",
    "X = onehot_encoder.fit_transform(X)"
   ]
  },
  {
   "cell_type": "code",
   "execution_count": null,
   "metadata": {
    "executionInfo": {
     "elapsed": 210,
     "status": "ok",
     "timestamp": 1672366058373,
     "user": {
      "displayName": "Grettel Barceló Alonso",
      "userId": "01577411478517144249"
     },
     "user_tz": 360
    },
    "id": "8flNLgj00ayB"
   },
   "outputs": [],
   "source": [
    "# ordinal encode target variable\n",
    "label_encoder = LabelEncoder()\n",
    "y = label_encoder.fit_transform(y)"
   ]
  },
  {
   "cell_type": "code",
   "execution_count": null,
   "metadata": {
    "colab": {
     "base_uri": "https://localhost:8080/"
    },
    "executionInfo": {
     "elapsed": 4,
     "status": "ok",
     "timestamp": 1672366059596,
     "user": {
      "displayName": "Grettel Barceló Alonso",
      "userId": "01577411478517144249"
     },
     "user_tz": 360
    },
    "id": "_jlMgx8d0e72",
    "outputId": "23b5c98b-51ab-4319-cfd7-ce9304ef53c5"
   },
   "outputs": [],
   "source": [
    "# summarize the transformed data\n",
    "print('Input', X.shape)\n",
    "print(X[:5, :])"
   ]
  },
  {
   "cell_type": "code",
   "execution_count": null,
   "metadata": {
    "colab": {
     "base_uri": "https://localhost:8080/",
     "height": 522
    },
    "executionInfo": {
     "elapsed": 194,
     "status": "ok",
     "timestamp": 1672366200910,
     "user": {
      "displayName": "Grettel Barceló Alonso",
      "userId": "01577411478517144249"
     },
     "user_tz": 360
    },
    "id": "_FJq6CorxnBs",
    "outputId": "c9a38ce6-eb48-4fbf-a980-9aba2dcc9cb0"
   },
   "outputs": [],
   "source": [
    "# Same previous example with dataframe treatment\n",
    "dataset.columns = ['age','menopause','tumor-size','inv-nodes','node-caps','deg-malig','breast','breast-quad','irradiat','Class']\n",
    "# Columns to be encoded are specified\n",
    "categorical_variables = ['age','menopause','tumor-size','inv-nodes','node-caps','deg-malig','breast','breast-quad','irradiat']\n",
    "onehot_encoder = OneHotEncoder(drop='first', sparse=False)\n",
    "onehot_ar = onehot_encoder.fit_transform(dataset[categorical_variables])\n",
    "# The returned ndarray is converted to a dataframe\n",
    "onehot_df = pd.DataFrame(onehot_ar)\n",
    "onehot_df.columns = onehot_encoder.get_feature_names_out()\n",
    "onehot_df"
   ]
  },
  {
   "cell_type": "markdown",
   "metadata": {
    "id": "yYNgCHbBnLOl"
   },
   "source": [
    "# Breast Cancer Dataset\n",
    "## BinaryEncoder Transform"
   ]
  },
  {
   "cell_type": "code",
   "execution_count": null,
   "metadata": {
    "colab": {
     "base_uri": "https://localhost:8080/",
     "height": 505
    },
    "executionInfo": {
     "elapsed": 366,
     "status": "ok",
     "timestamp": 1672366459255,
     "user": {
      "displayName": "Grettel Barceló Alonso",
      "userId": "01577411478517144249"
     },
     "user_tz": 360
    },
    "id": "vRzAfhtZy6yN",
    "outputId": "256ceb00-dbd9-4720-8d12-300aac7b1778"
   },
   "outputs": [],
   "source": [
    "dataset = pd.read_csv('breast-cancer.csv', header=None)\n",
    "dataset.columns = ['age','menopause','tumor-size','inv-nodes','node-caps','deg-malig','breast','breast-quad','irradiat','Class']\n",
    "# Columns to be encoded are specified\n",
    "categorical_variables = ['age','menopause','tumor-size','inv-nodes','node-caps','deg-malig','breast','breast-quad','irradiat']\n",
    "binary_encoder = BinaryEncoder()\n",
    "binary_df = binary_encoder.fit_transform(dataset[categorical_variables])\n",
    "# Returns directly a dataframe with the names in the columns\n",
    "binary_df"
   ]
  },
  {
   "cell_type": "code",
   "execution_count": null,
   "metadata": {
    "colab": {
     "base_uri": "https://localhost:8080/"
    },
    "executionInfo": {
     "elapsed": 147,
     "status": "ok",
     "timestamp": 1672367703360,
     "user": {
      "displayName": "Grettel Barceló Alonso",
      "userId": "01577411478517144249"
     },
     "user_tz": 360
    },
    "id": "nCjRtki41vU9",
    "outputId": "c34b32c9-adfa-46b6-9330-f06a307c821b"
   },
   "outputs": [],
   "source": [
    "print(dataset['age'].nunique())\n",
    "print(dataset['age'].unique())"
   ]
  },
  {
   "cell_type": "markdown",
   "metadata": {
    "id": "PtMMTI2a3AIT"
   },
   "source": [
    "6 categories in `age` were transformed in:\n",
    "\n",
    "*   (6 - 1) = 5 columns with onehot encoding (`age_'30-39'`, `age_'40-49'`, `age_'50-59'`, `age_'60-69'`, `age_'70-79'`)\n",
    "*   log2(6) = 2.5849... = 3 columns with binary encoding (`age_0`, `age_1`, `age_2`)\n",
    "\n"
   ]
  }
 ],
 "metadata": {
  "colab": {
   "collapsed_sections": [
    "LWkyTMQ4zRj1",
    "Dn0wVo3Qznx_",
    "3REtHkplzsgg",
    "FTF6qPV2jbdX",
    "Vqwuk5H_z7UQ",
    "cOd1dYDW0HAX",
    "yYNgCHbBnLOl"
   ],
   "provenance": []
  },
  "kernelspec": {
   "display_name": "Python 3 (ipykernel)",
   "language": "python",
   "name": "python3"
  },
  "language_info": {
   "codemirror_mode": {
    "name": "ipython",
    "version": 3
   },
   "file_extension": ".py",
   "mimetype": "text/x-python",
   "name": "python",
   "nbconvert_exporter": "python",
   "pygments_lexer": "ipython3",
   "version": "3.11.9"
  }
 },
 "nbformat": 4,
 "nbformat_minor": 4
}

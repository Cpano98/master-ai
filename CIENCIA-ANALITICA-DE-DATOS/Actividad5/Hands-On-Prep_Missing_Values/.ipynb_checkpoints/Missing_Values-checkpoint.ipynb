{
 "cells": [
  {
   "cell_type": "markdown",
   "metadata": {
    "id": "jTe_6nBv42hD"
   },
   "source": [
    "# Hands-On Data Preprocessing in Python\n",
    "    \n",
    "    AUTHOR: Dr. Roy Jafari \n",
    "\n",
    "### Chapter 11: Data Cleaning Level III\n",
    "### **Missing Values**"
   ]
  },
  {
   "cell_type": "code",
   "execution_count": 1,
   "metadata": {
    "executionInfo": {
     "elapsed": 1239,
     "status": "ok",
     "timestamp": 1671647133658,
     "user": {
      "displayName": "Grettel Barceló Alonso",
      "userId": "01577411478517144249"
     },
     "user_tz": 360
    },
    "id": "gZIU6Xbz42hM"
   },
   "outputs": [],
   "source": [
    "import numpy as np\n",
    "import pandas as pd\n",
    "import matplotlib.pyplot as plt\n",
    "import seaborn as sns"
   ]
  },
  {
   "cell_type": "code",
   "execution_count": 2,
   "metadata": {
    "colab": {
     "base_uri": "https://localhost:8080/"
    },
    "executionInfo": {
     "elapsed": 1122,
     "status": "ok",
     "timestamp": 1671649180395,
     "user": {
      "displayName": "Grettel Barceló Alonso",
      "userId": "01577411478517144249"
     },
     "user_tz": 360
    },
    "id": "ltCZpDoL7lEx",
    "outputId": "440f74f2-5c42-43a1-8c2a-045c40fa9964"
   },
   "outputs": [
    {
     "ename": "ModuleNotFoundError",
     "evalue": "No module named 'google'",
     "output_type": "error",
     "traceback": [
      "\u001b[0;31m---------------------------------------------------------------------------\u001b[0m",
      "\u001b[0;31mModuleNotFoundError\u001b[0m                       Traceback (most recent call last)",
      "Cell \u001b[0;32mIn[2], line 1\u001b[0m\n\u001b[0;32m----> 1\u001b[0m \u001b[38;5;28;01mfrom\u001b[39;00m \u001b[38;5;21;01mgoogle\u001b[39;00m\u001b[38;5;21;01m.\u001b[39;00m\u001b[38;5;21;01mcolab\u001b[39;00m \u001b[38;5;28;01mimport\u001b[39;00m drive\n\u001b[1;32m      2\u001b[0m drive\u001b[38;5;241m.\u001b[39mmount(\u001b[38;5;124m'\u001b[39m\u001b[38;5;124m/content/drive\u001b[39m\u001b[38;5;124m'\u001b[39m)\n",
      "\u001b[0;31mModuleNotFoundError\u001b[0m: No module named 'google'"
     ]
    }
   ],
   "source": [
    "# from google.colab import drive\n",
    "drive.mount('/content/drive')"
   ]
  },
  {
   "cell_type": "code",
   "execution_count": null,
   "metadata": {
    "executionInfo": {
     "elapsed": 2,
     "status": "ok",
     "timestamp": 1671649181658,
     "user": {
      "displayName": "Grettel Barceló Alonso",
      "userId": "01577411478517144249"
     },
     "user_tz": 360
    },
    "id": "LKj1bic17nKF"
   },
   "outputs": [],
   "source": [
    "import os\n",
    "DIR = \"/content/drive/MyDrive/Colab Notebooks/MNA/TC4029 - Ciencia y analítica de datos/Semana 5/Hands-On-Prep_Missing_Values\"\n",
    "os.chdir(DIR)"
   ]
  },
  {
   "cell_type": "markdown",
   "metadata": {
    "id": "XcPoKacP42hP"
   },
   "source": [
    "# Example of detecting missing values"
   ]
  },
  {
   "cell_type": "code",
   "execution_count": null,
   "metadata": {
    "colab": {
     "base_uri": "https://localhost:8080/",
     "height": 424
    },
    "executionInfo": {
     "elapsed": 1418,
     "status": "ok",
     "timestamp": 1671647164483,
     "user": {
      "displayName": "Grettel Barceló Alonso",
      "userId": "01577411478517144249"
     },
     "user_tz": 360
    },
    "id": "e6LmYukd42hQ",
    "outputId": "94d1c387-1a21-41bc-dac9-8bb3b2a9dfab",
    "scrolled": true
   },
   "outputs": [],
   "source": [
    "air_df = pd.read_csv('Airdata.csv')\n",
    "air_df"
   ]
  },
  {
   "cell_type": "code",
   "execution_count": null,
   "metadata": {
    "colab": {
     "base_uri": "https://localhost:8080/"
    },
    "executionInfo": {
     "elapsed": 307,
     "status": "ok",
     "timestamp": 1671647167923,
     "user": {
      "displayName": "Grettel Barceló Alonso",
      "userId": "01577411478517144249"
     },
     "user_tz": 360
    },
    "id": "VaqBQsdk42hQ",
    "outputId": "3c5291c3-2a81-4b19-8d4c-e1d860f099b4"
   },
   "outputs": [],
   "source": [
    "air_df.info()"
   ]
  },
  {
   "cell_type": "code",
   "execution_count": null,
   "metadata": {
    "colab": {
     "base_uri": "https://localhost:8080/"
    },
    "executionInfo": {
     "elapsed": 270,
     "status": "ok",
     "timestamp": 1671647182183,
     "user": {
      "displayName": "Grettel Barceló Alonso",
      "userId": "01577411478517144249"
     },
     "user_tz": 360
    },
    "id": "WDkAvdVm7ToV",
    "outputId": "42fdf027-8e46-4bd4-ba33-880cf2fadb1f"
   },
   "outputs": [],
   "source": [
    "print('Number of missing values:')\n",
    "air_df.isna().sum()"
   ]
  },
  {
   "cell_type": "markdown",
   "metadata": {
    "id": "Yz_82lRE42hR"
   },
   "source": [
    "# Diagnosis of missing values\n",
    "## Diagnosing the missing values in NO2_Location_A\n",
    "### Diagnosing the missing values based on Temperature"
   ]
  },
  {
   "cell_type": "code",
   "execution_count": null,
   "metadata": {
    "colab": {
     "base_uri": "https://localhost:8080/"
    },
    "executionInfo": {
     "elapsed": 526,
     "status": "ok",
     "timestamp": 1671648363203,
     "user": {
      "displayName": "Grettel Barceló Alonso",
      "userId": "01577411478517144249"
     },
     "user_tz": 360
    },
    "id": "zMgo9zhs42hR",
    "outputId": "c008c9fc-e08a-4c8b-e160-500489328d42"
   },
   "outputs": [],
   "source": [
    "BM_MV = air_df.NO2_Location_A.isna()\n",
    "MV_labels = ['With Missing Values','Without Missing Values']\n",
    "BM_MV"
   ]
  },
  {
   "cell_type": "code",
   "execution_count": null,
   "metadata": {
    "executionInfo": {
     "elapsed": 281,
     "status": "ok",
     "timestamp": 1671648365993,
     "user": {
      "displayName": "Grettel Barceló Alonso",
      "userId": "01577411478517144249"
     },
     "user_tz": 360
    },
    "id": "ui17qgQL9Sh5"
   },
   "outputs": [],
   "source": [
    "box_sr = pd.Series('',index = BM_MV.unique())\n",
    "for poss in BM_MV.unique():\n",
    "    BM = BM_MV == poss\n",
    "    box_sr[poss] = air_df[BM].Temperature"
   ]
  },
  {
   "cell_type": "code",
   "execution_count": null,
   "metadata": {
    "colab": {
     "base_uri": "https://localhost:8080/"
    },
    "executionInfo": {
     "elapsed": 3,
     "status": "ok",
     "timestamp": 1671647815154,
     "user": {
      "displayName": "Grettel Barceló Alonso",
      "userId": "01577411478517144249"
     },
     "user_tz": 360
    },
    "id": "zqGFr-3M-UXq",
    "outputId": "b112326e-68b2-4e0e-e257-9cb93808ff13"
   },
   "outputs": [],
   "source": [
    "# Temperature values corresponding to observations with NaN in air_df.NO2_Location_A\n",
    "box_sr[True]"
   ]
  },
  {
   "cell_type": "code",
   "execution_count": null,
   "metadata": {
    "colab": {
     "base_uri": "https://localhost:8080/"
    },
    "executionInfo": {
     "elapsed": 319,
     "status": "ok",
     "timestamp": 1671648264300,
     "user": {
      "displayName": "Grettel Barceló Alonso",
      "userId": "01577411478517144249"
     },
     "user_tz": 360
    },
    "id": "UUTFIDYfAA8J",
    "outputId": "9b2a8ba6-7644-44f0-f294-0b0ebdcece2c"
   },
   "outputs": [],
   "source": [
    "# Temperature values corresponding to observations with NO NaN values in air_df.NO2_Location_A\n",
    "box_sr[False]"
   ]
  },
  {
   "cell_type": "code",
   "execution_count": null,
   "metadata": {
    "colab": {
     "base_uri": "https://localhost:8080/",
     "height": 317
    },
    "executionInfo": {
     "elapsed": 276,
     "status": "ok",
     "timestamp": 1671647921666,
     "user": {
      "displayName": "Grettel Barceló Alonso",
      "userId": "01577411478517144249"
     },
     "user_tz": 360
    },
    "id": "pk3T_8Rg9F6z",
    "outputId": "3251fcd0-ad43-4287-9cff-3c9993fba928"
   },
   "outputs": [],
   "source": [
    "plt.boxplot(box_sr,vert=False)\n",
    "plt.yticks([1,2],MV_labels)"
   ]
  },
  {
   "cell_type": "code",
   "execution_count": null,
   "metadata": {
    "colab": {
     "base_uri": "https://localhost:8080/",
     "height": 281
    },
    "executionInfo": {
     "elapsed": 874,
     "status": "ok",
     "timestamp": 1671648440671,
     "user": {
      "displayName": "Grettel Barceló Alonso",
      "userId": "01577411478517144249"
     },
     "user_tz": 360
    },
    "id": "8h8tlHYR42hS",
    "outputId": "f53abc2a-4c51-40eb-cd81-a73f2d7d86a7"
   },
   "outputs": [],
   "source": [
    "BM_MV = air_df.NO2_Location_A.isna()\n",
    "temp_range = (air_df.Temperature.min(),air_df.Temperature.max())\n",
    "MV_labels = ['With Missing Values','Without Missing Values']\n",
    "\n",
    "plt.figure(figsize=(10,4))\n",
    "\n",
    "for i,poss in enumerate(BM_MV.unique()):\n",
    "    plt.subplot(1,2,i+1)\n",
    "    BM = BM_MV == poss\n",
    "    air_df[BM].Temperature.hist()\n",
    "    plt.xlim = temp_range\n",
    "    plt.title(MV_labels[i])"
   ]
  },
  {
   "cell_type": "code",
   "execution_count": null,
   "metadata": {
    "colab": {
     "base_uri": "https://localhost:8080/"
    },
    "executionInfo": {
     "elapsed": 298,
     "status": "ok",
     "timestamp": 1671648483337,
     "user": {
      "displayName": "Grettel Barceló Alonso",
      "userId": "01577411478517144249"
     },
     "user_tz": 360
    },
    "id": "z4bfz52f42hT",
    "outputId": "9993ed3f-21b6-4271-b3a4-acf62063c153"
   },
   "outputs": [],
   "source": [
    "from scipy.stats import ttest_ind\n",
    "BM_MV = air_df.NO2_Location_A.isna()\n",
    "ttest_ind(air_df[BM_MV].Temperature, air_df[~BM_MV].Temperature)"
   ]
  },
  {
   "cell_type": "code",
   "execution_count": null,
   "metadata": {
    "id": "xgvdZFli42hT",
    "outputId": "f6095985-3034-43d7-a114-9b562635e92d"
   },
   "outputs": [],
   "source": [
    "ttest_ind(air_df[BM_MV].Temperature, air_df[~BM_MV].Temperature).pvalue"
   ]
  },
  {
   "cell_type": "markdown",
   "metadata": {
    "id": "zrZFgsHy42hU"
   },
   "source": [
    "### Diagnosing the missing values based on all the numerical attributes "
   ]
  },
  {
   "cell_type": "code",
   "execution_count": null,
   "metadata": {
    "executionInfo": {
     "elapsed": 316,
     "status": "ok",
     "timestamp": 1671648524164,
     "user": {
      "displayName": "Grettel Barceló Alonso",
      "userId": "01577411478517144249"
     },
     "user_tz": 360
    },
    "id": "FHJOWn1V42hV"
   },
   "outputs": [],
   "source": [
    "from scipy.stats import ttest_ind\n",
    "def Diagnose_MV_Numerical(df,str_att_name,BM_MV):\n",
    "    MV_labels = {True:'With Missing Values',False:'Without Missing Values'}\n",
    "    \n",
    "    labels=[]\n",
    "    box_sr = pd.Series('',index = BM_MV.unique())    \n",
    "    for poss in BM_MV.unique():\n",
    "        BM = BM_MV == poss\n",
    "        box_sr[poss] = df[BM][str_att_name].dropna()\n",
    "        labels.append(MV_labels[poss])\n",
    "   \n",
    "    plt.boxplot(box_sr,vert=False)\n",
    "    plt.yticks([1,2],labels)\n",
    "    plt.xlabel(str_att_name)\n",
    "    plt.show()\n",
    "    \n",
    "    plt.figure(figsize=(10,4))\n",
    "    \n",
    "    att_range = (df[str_att_name].min(),df[str_att_name].max())\n",
    "\n",
    "    for i,poss in enumerate(BM_MV.unique()):\n",
    "        plt.subplot(1,2,i+1)\n",
    "        BM = BM_MV == poss\n",
    "        df[BM][str_att_name].hist()\n",
    "        plt.xlim = att_range\n",
    "        plt.xlabel(str_att_name)\n",
    "        plt.title(MV_labels[poss])\n",
    "\n",
    "    plt.show()\n",
    "    \n",
    "    group_1_data = df[BM_MV][str_att_name].dropna()\n",
    "    group_2_data = df[~BM_MV][str_att_name].dropna()\n",
    "    \n",
    "    p_value = ttest_ind(group_1_data,group_2_data).pvalue\n",
    "    \n",
    "    print('p-value of t-test: {}'.format(p_value))"
   ]
  },
  {
   "cell_type": "code",
   "execution_count": null,
   "metadata": {
    "colab": {
     "base_uri": "https://localhost:8080/",
     "height": 1000
    },
    "executionInfo": {
     "elapsed": 2166,
     "status": "ok",
     "timestamp": 1671648532280,
     "user": {
      "displayName": "Grettel Barceló Alonso",
      "userId": "01577411478517144249"
     },
     "user_tz": 360
    },
    "id": "9nzlXf3x42hV",
    "outputId": "d134aa78-5896-4c2a-fcfa-0a27dfca0c91"
   },
   "outputs": [],
   "source": [
    "numerical_attributes = ['Temperature', 'Humidity', 'Wind_Speed', 'Wind_Direction']\n",
    "\n",
    "BM_MV = air_df.NO2_Location_A.isna()\n",
    "for att in numerical_attributes:\n",
    "    print('Diagnosis Analysis of Missing Values for {}:'.format(att))\n",
    "    Diagnose_MV_Numerical(air_df,att,BM_MV)\n",
    "    print('- - - - - - - - - - - - divider - - - - - - - - - - - ')"
   ]
  },
  {
   "cell_type": "markdown",
   "metadata": {
    "id": "4RWkiP8S42hV"
   },
   "source": [
    "### Diagnosing the missing values based on weekday"
   ]
  },
  {
   "cell_type": "code",
   "execution_count": null,
   "metadata": {
    "executionInfo": {
     "elapsed": 1045,
     "status": "ok",
     "timestamp": 1671648587978,
     "user": {
      "displayName": "Grettel Barceló Alonso",
      "userId": "01577411478517144249"
     },
     "user_tz": 360
    },
    "id": "c9Hak_Ih42hV"
   },
   "outputs": [],
   "source": [
    "air_df.DateTime = pd.to_datetime(air_df.DateTime)\n",
    "air_df['month'] = air_df.DateTime.dt.month\n",
    "air_df['day'] = air_df.DateTime.dt.day\n",
    "air_df['hour'] = air_df.DateTime.dt.hour\n",
    "air_df['weekday'] = air_df.DateTime.dt.day_name()"
   ]
  },
  {
   "cell_type": "code",
   "execution_count": null,
   "metadata": {
    "colab": {
     "base_uri": "https://localhost:8080/",
     "height": 424
    },
    "executionInfo": {
     "elapsed": 270,
     "status": "ok",
     "timestamp": 1671648589186,
     "user": {
      "displayName": "Grettel Barceló Alonso",
      "userId": "01577411478517144249"
     },
     "user_tz": 360
    },
    "id": "uR6gOoM642hV",
    "outputId": "5cc3bf9d-7745-45dc-e3cf-f8c47eeaa9c6",
    "scrolled": true
   },
   "outputs": [],
   "source": [
    "air_df"
   ]
  },
  {
   "cell_type": "code",
   "execution_count": null,
   "metadata": {
    "colab": {
     "base_uri": "https://localhost:8080/",
     "height": 329
    },
    "executionInfo": {
     "elapsed": 567,
     "status": "ok",
     "timestamp": 1671648591560,
     "user": {
      "displayName": "Grettel Barceló Alonso",
      "userId": "01577411478517144249"
     },
     "user_tz": 360
    },
    "id": "TyR0i18F42hW",
    "outputId": "b735fc7b-bd69-4eed-ab26-5dea63529108"
   },
   "outputs": [],
   "source": [
    "BM_MV = air_df.NO2_Location_A.isna()\n",
    "MV_labels = ['Without Missing Values','With Missing Values']\n",
    "\n",
    "plt.figure(figsize=(10,4))\n",
    "for i,poss in enumerate(BM_MV.unique()):\n",
    "    plt.subplot(1,2,i+1)\n",
    "    BM = BM_MV == poss\n",
    "    air_df[BM].weekday.value_counts().plot.bar()\n",
    "    plt.title(MV_labels[i])\n",
    "plt.show()"
   ]
  },
  {
   "cell_type": "code",
   "execution_count": null,
   "metadata": {
    "colab": {
     "base_uri": "https://localhost:8080/",
     "height": 143
    },
    "executionInfo": {
     "elapsed": 367,
     "status": "ok",
     "timestamp": 1671648596654,
     "user": {
      "displayName": "Grettel Barceló Alonso",
      "userId": "01577411478517144249"
     },
     "user_tz": 360
    },
    "id": "5ayXUJvQ42hW",
    "outputId": "6a1c1332-1873-4b59-cab7-367f3d53363e"
   },
   "outputs": [],
   "source": [
    "from scipy.stats import chi2_contingency\n",
    "BM_MV = air_df.NO2_Location_A.isna()\n",
    "contigency_table = pd.crosstab(BM_MV,air_df.weekday)\n",
    "contigency_table"
   ]
  },
  {
   "cell_type": "code",
   "execution_count": null,
   "metadata": {
    "colab": {
     "base_uri": "https://localhost:8080/"
    },
    "executionInfo": {
     "elapsed": 294,
     "status": "ok",
     "timestamp": 1671648599633,
     "user": {
      "displayName": "Grettel Barceló Alonso",
      "userId": "01577411478517144249"
     },
     "user_tz": 360
    },
    "id": "Bn2gXdmB42hW",
    "outputId": "a19e65f3-192b-478d-8de8-433359c876ae"
   },
   "outputs": [],
   "source": [
    "chi2_contingency(contigency_table)"
   ]
  },
  {
   "cell_type": "markdown",
   "metadata": {
    "id": "68utElkr42hX"
   },
   "source": [
    "#### Diagnosing the missing values based on all the categorical attributes "
   ]
  },
  {
   "cell_type": "code",
   "execution_count": null,
   "metadata": {
    "executionInfo": {
     "elapsed": 275,
     "status": "ok",
     "timestamp": 1671648660619,
     "user": {
      "displayName": "Grettel Barceló Alonso",
      "userId": "01577411478517144249"
     },
     "user_tz": 360
    },
    "id": "dhBOfxYu42hY"
   },
   "outputs": [],
   "source": [
    "from scipy.stats import chi2_contingency\n",
    "def Diagnose_MV_Categorical(df,str_att_name,BM_MV):\n",
    "    MV_labels = {True:'With Missing Values',False:'Without Missing Values'}\n",
    "\n",
    "    plt.figure(figsize=(10,4))\n",
    "    for i,poss in enumerate(BM_MV.unique()):\n",
    "        plt.subplot(1,2,i+1)\n",
    "        BM = BM_MV == poss\n",
    "        df[BM][str_att_name].value_counts().plot.bar()\n",
    "        plt.title(MV_labels[poss])\n",
    "    plt.show()\n",
    "\n",
    "    contigency_table = pd.crosstab(BM_MV,df[str_att_name])   \n",
    "    p_value = chi2_contingency(contigency_table)[1]\n",
    "    \n",
    "    print('p-value of Chi_squared test: {}'.format(p_value))"
   ]
  },
  {
   "cell_type": "code",
   "execution_count": null,
   "metadata": {
    "colab": {
     "base_uri": "https://localhost:8080/",
     "height": 1000
    },
    "executionInfo": {
     "elapsed": 1736,
     "status": "ok",
     "timestamp": 1671648664811,
     "user": {
      "displayName": "Grettel Barceló Alonso",
      "userId": "01577411478517144249"
     },
     "user_tz": 360
    },
    "id": "O4BMRGRY42hZ",
    "outputId": "41987d70-167a-4e2a-8a1b-ad46e122eda5"
   },
   "outputs": [],
   "source": [
    "categorical_attributes = ['month', 'day','hour', 'weekday']\n",
    "\n",
    "BM_MV = air_df.NO2_Location_A.isna()\n",
    "for att in categorical_attributes:\n",
    "    print('Diagnosis Analysis of Missing Values for {}:'.format(att))\n",
    "    Diagnose_MV_Categorical(air_df,att,BM_MV)\n",
    "    print('- - - - - - - - - - - - divider - - - - - - - - - - - ')"
   ]
  },
  {
   "cell_type": "markdown",
   "metadata": {
    "id": "OIWtYFhE42hZ"
   },
   "source": [
    "## Diagnosing the missing values in NO2_Location_B"
   ]
  },
  {
   "cell_type": "code",
   "execution_count": null,
   "metadata": {
    "colab": {
     "base_uri": "https://localhost:8080/",
     "height": 1000
    },
    "executionInfo": {
     "elapsed": 3861,
     "status": "ok",
     "timestamp": 1671648689496,
     "user": {
      "displayName": "Grettel Barceló Alonso",
      "userId": "01577411478517144249"
     },
     "user_tz": 360
    },
    "id": "TR6CCYej42ha",
    "outputId": "4955324a-2377-4006-9a49-be302e8285d1"
   },
   "outputs": [],
   "source": [
    "categorical_attributes = ['month', 'day','hour', 'weekday']\n",
    "numerical_attributes = ['Temperature', 'Humidity', 'Wind_Speed', 'Wind_Direction']\n",
    "\n",
    "BM_MV = air_df.NO2_Location_B.isna()\n",
    "for att in numerical_attributes:\n",
    "    print('Diagnosis Analysis of Missing Values for {}:'.format(att))\n",
    "    Diagnose_MV_Numerical(air_df,att,BM_MV)\n",
    "    print('- - - - - - - - - - - - divider - - - - - - - - - - - ')\n",
    "\n",
    "for att in categorical_attributes:\n",
    "    print('Diagnosis Analysis of Missing Values for {}:'.format(att))\n",
    "    Diagnose_MV_Categorical(air_df,att,BM_MV)\n",
    "    print('- - - - - - - - - - - - divider - - - - - - - - - - - ')"
   ]
  },
  {
   "cell_type": "markdown",
   "metadata": {
    "id": "rpqPpbKI42ha"
   },
   "source": [
    "## Diagnosing the missing values in NO2_Location_C"
   ]
  },
  {
   "cell_type": "code",
   "execution_count": null,
   "metadata": {
    "colab": {
     "base_uri": "https://localhost:8080/",
     "height": 1000
    },
    "executionInfo": {
     "elapsed": 4857,
     "status": "ok",
     "timestamp": 1671648706463,
     "user": {
      "displayName": "Grettel Barceló Alonso",
      "userId": "01577411478517144249"
     },
     "user_tz": 360
    },
    "id": "XKAdbEGp42ha",
    "outputId": "e54be920-47d6-4ddd-8154-4a076c08c840"
   },
   "outputs": [],
   "source": [
    "categorical_attributes = ['month', 'day','hour', 'weekday']\n",
    "numerical_attributes = ['Temperature', 'Humidity',\n",
    "                        'Wind_Speed', 'Wind_Direction']\n",
    "BM_MV = air_df.NO2_Location_C.isna()\n",
    "for att in numerical_attributes:\n",
    "    print('Diagnosis Analysis for {}:'.format(att))\n",
    "    Diagnose_MV_Numerical(air_df,att,BM_MV)\n",
    "    print('- - - - - - - - - divider - -  - - - - - - ')\n",
    "for att in categorical_attributes:\n",
    "    print('Diagnosis Analysis for {}:'.format(att))\n",
    "    Diagnose_MV_Categorical(air_df,att,BM_MV)\n",
    "    print('- - - - - - - - - divider - - - - - - - - - ')"
   ]
  },
  {
   "cell_type": "markdown",
   "metadata": {
    "id": "58wxn_Sv42hb"
   },
   "source": [
    "# Dealing with missing values\n",
    "## Example 1 "
   ]
  },
  {
   "cell_type": "code",
   "execution_count": null,
   "metadata": {
    "id": "DcKnNEZy42hc",
    "outputId": "f5c313ae-23a4-48d3-d597-e3952e9fae40"
   },
   "outputs": [],
   "source": [
    "air_df"
   ]
  },
  {
   "cell_type": "code",
   "execution_count": null,
   "metadata": {
    "id": "GE20KhAG42hc",
    "outputId": "99fee7df-3949-48e2-f5f4-76c3129304bd"
   },
   "outputs": [],
   "source": [
    "air_df.groupby('hour').NO2_Location_A.mean().plot.bar()\n",
    "plt.show()"
   ]
  },
  {
   "cell_type": "markdown",
   "metadata": {
    "id": "h9UePEVt42hc"
   },
   "source": [
    "## Example 2 "
   ]
  },
  {
   "cell_type": "code",
   "execution_count": null,
   "metadata": {
    "id": "uTn4RQIz42hd",
    "outputId": "02a28d84-46a7-4081-8d34-ede8854d8934"
   },
   "outputs": [],
   "source": [
    "month_poss = air_df.month.unique()\n",
    "hour_poss = air_df.hour.unique()\n",
    "plt.figure(figsize=(15,4))\n",
    "\n",
    "for mn in month_poss:\n",
    "    BM = (air_df.month == mn) & (air_df.day ==1)\n",
    "    wdf = air_df[BM]\n",
    "    plt.plot(wdf.NO2_Location_A.values,\n",
    "             label=mn)\n",
    "plt.legend(ncol=6)\n",
    "plt.xticks(hour_poss)\n",
    "plt.show()"
   ]
  },
  {
   "cell_type": "code",
   "execution_count": null,
   "metadata": {
    "id": "leIZ5Gaf42hd",
    "outputId": "d73a65b6-5a9a-4a8a-c3df-b98a6c802e6b"
   },
   "outputs": [],
   "source": [
    "NO2_Location_A_noMV = air_df.NO2_Location_A.interpolate(method='linear')\n",
    "\n",
    "month_poss = air_df.month.unique()\n",
    "hour_poss = air_df.hour.unique()\n",
    "plt.figure(figsize=(15,4))\n",
    "\n",
    "for mn in month_poss:\n",
    "    BM = (air_df.month == mn) & (air_df.day ==1)\n",
    "    plt.plot(NO2_Location_A_noMV[BM].values,\n",
    "             label=mn)\n",
    "plt.legend(ncol=6)\n",
    "plt.xticks(hour_poss)\n",
    "plt.show()"
   ]
  },
  {
   "cell_type": "markdown",
   "metadata": {
    "id": "NkcXOZlt42hd"
   },
   "source": [
    "## Example 3"
   ]
  },
  {
   "cell_type": "code",
   "execution_count": null,
   "metadata": {
    "id": "KHgnRQ_K42hd",
    "outputId": "8bf6cafb-ddce-4981-fc7b-4f14d89a955b",
    "scrolled": true
   },
   "outputs": [],
   "source": [
    "air_df.groupby('hour')[\n",
    "    ['NO2_Location_A','NO2_Location_B']].mean().plot.bar()\n",
    "plt.show()"
   ]
  },
  {
   "cell_type": "markdown",
   "metadata": {
    "id": "XZl9OCsb42hd"
   },
   "source": [
    "## Example 4"
   ]
  },
  {
   "cell_type": "code",
   "execution_count": null,
   "metadata": {
    "id": "duGq9ERb42hd",
    "outputId": "eef28733-f6a0-45a0-d2b9-04208b6ef1ed"
   },
   "outputs": [],
   "source": [
    "air_df.groupby('hour')[['NO2_Location_A','NO2_Location_B','NO2_Location_C']].mean().plot.bar()\n",
    "plt.show()"
   ]
  },
  {
   "cell_type": "markdown",
   "metadata": {
    "id": "o6QFNvGv42hd"
   },
   "source": [
    "## Example 5"
   ]
  },
  {
   "cell_type": "code",
   "execution_count": null,
   "metadata": {
    "executionInfo": {
     "elapsed": 931,
     "status": "ok",
     "timestamp": 1671649213507,
     "user": {
      "displayName": "Grettel Barceló Alonso",
      "userId": "01577411478517144249"
     },
     "user_tz": 360
    },
    "id": "9FFJWtLz42hd"
   },
   "outputs": [],
   "source": [
    "patient_df = pd.read_csv('kidney_disease.csv')"
   ]
  },
  {
   "cell_type": "code",
   "execution_count": null,
   "metadata": {
    "colab": {
     "base_uri": "https://localhost:8080/"
    },
    "executionInfo": {
     "elapsed": 257,
     "status": "ok",
     "timestamp": 1671649216135,
     "user": {
      "displayName": "Grettel Barceló Alonso",
      "userId": "01577411478517144249"
     },
     "user_tz": 360
    },
    "id": "4LGbCHDn42he",
    "outputId": "d83e7b7e-3708-4f62-a78d-b12219ebcd2a"
   },
   "outputs": [],
   "source": [
    "print('Number of missing values:')\n",
    "patient_df.isna().sum()"
   ]
  },
  {
   "cell_type": "code",
   "execution_count": null,
   "metadata": {
    "colab": {
     "base_uri": "https://localhost:8080/",
     "height": 487
    },
    "executionInfo": {
     "elapsed": 1362,
     "status": "ok",
     "timestamp": 1671649232007,
     "user": {
      "displayName": "Grettel Barceló Alonso",
      "userId": "01577411478517144249"
     },
     "user_tz": 360
    },
    "id": "TeVxydAN42hk",
    "outputId": "8b80ddf4-971f-47fd-a1fd-1c23d71576b1"
   },
   "outputs": [],
   "source": [
    "plt.figure(figsize=(4,7))\n",
    "sns.heatmap(patient_df.isna())"
   ]
  },
  {
   "cell_type": "code",
   "execution_count": null,
   "metadata": {
    "id": "2af-rXPR42hl",
    "outputId": "a6058723-89aa-4ae0-b415-366cff25b3c4"
   },
   "outputs": [],
   "source": [
    "categorical_attributes = ['diagnosis']\n",
    "numerical_attributes = ['sc','pcv','sg','hemo']\n",
    "\n",
    "BM_MV = patient_df.rc.isna()\n",
    "for att in numerical_attributes:\n",
    "    print('Diagnosis Analysis for {}:'.format(att))\n",
    "    Diagnose_MV_Numerical(patient_df,att,BM_MV)\n",
    "    print('- - - - - - - - - divider - -  - - - - - - ')\n",
    "for att in categorical_attributes:\n",
    "    print('Diagnosis Analysis for {}:'.format(att))\n",
    "    Diagnose_MV_Categorical(patient_df,att,BM_MV)\n",
    "    print('- - - - - - - - - divider - - - - - - - - - ')"
   ]
  },
  {
   "cell_type": "code",
   "execution_count": null,
   "metadata": {
    "id": "ElMIFZMm42hl",
    "outputId": "8af97866-1593-42ee-bf56-ff0d1920122a"
   },
   "outputs": [],
   "source": [
    "categorical_attributes = ['diagnosis']\n",
    "numerical_attributes = ['rc','pcv','sg','hemo']\n",
    "\n",
    "BM_MV = patient_df.sc.isna()\n",
    "for att in numerical_attributes:\n",
    "    print('Diagnosis Analysis for {}:'.format(att))\n",
    "    Diagnose_MV_Numerical(patient_df,att,BM_MV)\n",
    "    print('- - - - - - - - - divider - -  - - - - - - ')\n",
    "for att in categorical_attributes:\n",
    "    print('Diagnosis Analysis for {}:'.format(att))\n",
    "    Diagnose_MV_Categorical(patient_df,att,BM_MV)\n",
    "    print('- - - - - - - - - divider - - - - - - - - - ')"
   ]
  },
  {
   "cell_type": "code",
   "execution_count": null,
   "metadata": {
    "id": "SbBoXeH242hl",
    "outputId": "7b2aaba6-7059-4b23-f4e8-09035875eeda"
   },
   "outputs": [],
   "source": [
    "categorical_attributes = ['diagnosis']\n",
    "numerical_attributes = ['rc','sc','sg','hemo']\n",
    "\n",
    "BM_MV = patient_df.pcv.isna()\n",
    "for att in numerical_attributes:\n",
    "    print('Diagnosis Analysis for {}:'.format(att))\n",
    "    Diagnose_MV_Numerical(patient_df,att,BM_MV)\n",
    "    print('- - - - - - - - - divider - -  - - - - - - ')\n",
    "for att in categorical_attributes:\n",
    "    print('Diagnosis Analysis for {}:'.format(att))\n",
    "    Diagnose_MV_Categorical(patient_df,att,BM_MV)\n",
    "    print('- - - - - - - - - divider - - - - - - - - - ')"
   ]
  },
  {
   "cell_type": "code",
   "execution_count": null,
   "metadata": {
    "id": "_A5Wgogo42hl",
    "outputId": "9c2a703b-17cc-4bd9-fd2c-f0262c50bdab"
   },
   "outputs": [],
   "source": [
    "categorical_attributes = ['diagnosis']\n",
    "numerical_attributes = ['rc','sc','pcv','hemo']\n",
    "\n",
    "BM_MV = patient_df.sg.isna()\n",
    "for att in numerical_attributes:\n",
    "    print('Diagnosis Analysis for {}:'.format(att))\n",
    "    Diagnose_MV_Numerical(patient_df,att,BM_MV)\n",
    "    print('- - - - - - - - - divider - -  - - - - - - ')\n",
    "for att in categorical_attributes:\n",
    "    print('Diagnosis Analysis for {}:'.format(att))\n",
    "    Diagnose_MV_Categorical(patient_df,att,BM_MV)\n",
    "    print('- - - - - - - - - divider - - - - - - - - - ')"
   ]
  },
  {
   "cell_type": "code",
   "execution_count": null,
   "metadata": {
    "id": "mLnufx9C42hl",
    "outputId": "1908566a-be26-4448-c855-abb24960a7bd"
   },
   "outputs": [],
   "source": [
    "categorical_attributes = ['diagnosis']\n",
    "numerical_attributes = ['rc','sc','pcv','sg']\n",
    "\n",
    "BM_MV = patient_df.hemo.isna()\n",
    "for att in numerical_attributes:\n",
    "    print('Diagnosis Analysis for {}:'.format(att))\n",
    "    Diagnose_MV_Numerical(patient_df,att,BM_MV)\n",
    "    print('- - - - - - - - - divider - -  - - - - - - ')\n",
    "for att in categorical_attributes:\n",
    "    print('Diagnosis Analysis for {}:'.format(att))\n",
    "    Diagnose_MV_Categorical(patient_df,att,BM_MV)\n",
    "    print('- - - - - - - - - divider - - - - - - - - - ')"
   ]
  },
  {
   "cell_type": "code",
   "execution_count": null,
   "metadata": {
    "id": "6Mwhk6MX42hl"
   },
   "outputs": [],
   "source": [
    "patient_df['rc_BMV'] = patient_df.rc.isna().astype(int)\n",
    "patient_df['pcv_BMV'] = patient_df.pcv.isna().astype(int)\n",
    "patient_df['sg_BMV'] = patient_df.sg.isna().astype(int)\n",
    "patient_df['hemo_BMV'] = patient_df.hemo.isna().astype(int)"
   ]
  },
  {
   "cell_type": "code",
   "execution_count": null,
   "metadata": {
    "id": "y4XdR-oh42hl",
    "outputId": "bc1554a0-6405-48b0-a0b1-053310669294"
   },
   "outputs": [],
   "source": [
    "numerical_attributes = ['pcv','rc','sc','sg','hemo']\n",
    "for att in numerical_attributes:\n",
    "    patient_df[att].plot.box(vert=False)\n",
    "    plt.show()"
   ]
  },
  {
   "cell_type": "code",
   "execution_count": null,
   "metadata": {
    "id": "JFMRT4QB42hm"
   },
   "outputs": [],
   "source": [
    "patient_df.sc.fillna(patient_df.sc.median(),inplace=True)\n",
    "patient_df.fillna(patient_df.mean(),inplace=True)"
   ]
  },
  {
   "cell_type": "code",
   "execution_count": null,
   "metadata": {
    "id": "sFWs0DhQ42hn",
    "outputId": "e9798723-be1e-47e8-fccf-e721f36d9fde"
   },
   "outputs": [],
   "source": [
    "plt.figure(figsize=(4,7))\n",
    "sns.heatmap(patient_df.isna())"
   ]
  }
 ],
 "metadata": {
  "colab": {
   "provenance": []
  },
  "kernelspec": {
   "display_name": "Python 3 (ipykernel)",
   "language": "python",
   "name": "python3"
  },
  "language_info": {
   "codemirror_mode": {
    "name": "ipython",
    "version": 3
   },
   "file_extension": ".py",
   "mimetype": "text/x-python",
   "name": "python",
   "nbconvert_exporter": "python",
   "pygments_lexer": "ipython3",
   "version": "3.11.9"
  }
 },
 "nbformat": 4,
 "nbformat_minor": 4
}

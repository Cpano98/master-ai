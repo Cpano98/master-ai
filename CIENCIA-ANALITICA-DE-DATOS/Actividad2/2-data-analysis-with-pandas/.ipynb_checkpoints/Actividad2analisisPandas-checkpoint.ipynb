{
 "cells": [
  {
   "cell_type": "markdown",
   "metadata": {
    "id": "SML-04QQLd9l"
   },
   "source": [
    "**MAESTRÍA EN INTELIGENCIA ARTIFICIAL APLICADA**\n",
    "\n",
    "**Curso: TC4029 - Ciencia y analítica de datos**\n",
    "\n",
    "Tecnológico de Monterrey\n",
    "\n",
    "Prof Grettel Barceló Alonso\n",
    "\n",
    "**Semana 2**\n",
    "Pandas para el análisis de datos en Python\n",
    "\n",
    "---"
   ]
  },
  {
   "cell_type": "markdown",
   "metadata": {
    "id": "6q35__bSBB3G"
   },
   "source": [
    "*   NOMBRE: CARLOS PANO HERNÁNDEZ\n",
    "*   MATRÍCULA: A01066264\n"
   ]
  },
  {
   "cell_type": "markdown",
   "metadata": {
    "id": "AepY3wwtDXkc"
   },
   "source": [
    "---"
   ]
  },
  {
   "cell_type": "markdown",
   "metadata": {
    "id": "BumCtObqBqGr"
   },
   "source": [
    "En esta actividad usarás el archivo de datos `LaqnData.csv`. Cada fila de este conjunto de datos muestra un registro de medición, por hora, de uno de los siguientes cinco contaminantes del aire:\n",
    "\n",
    "*   `NO` (óxido nítrico)\n",
    "*   `NO2` (dióxido de nitrógeno)\n",
    "*   `NOX` (óxidos nitrosos)\n",
    "*   `PM10` (partículas suspendidas con un diámetro aerodinámico igual o menor a 10 micrómetros)\n",
    "*   `PM2.5` (partículas suspendidas con un diámetro aerodinámico igual o menor a 2.5 micrómetros)\n",
    "\n",
    "Los datos se recopilaron en una ubicación de Londres durante todo el año 2017.\n",
    "\n",
    "**NOTA IMPORTANTE:** Asegúrate de responder *explícitamente* todos los cuestionamientos.\n"
   ]
  },
  {
   "cell_type": "markdown",
   "metadata": {
    "id": "mqtTwAL3Mr44"
   },
   "source": [
    "1.\tDescarga el archivo: `LaqnData.csv` y guarda, en un dataframe (`air_df`), todos sus registros.\n",
    "*   Observa la estructura y contenido del dataframe con los atributos y métodos estudiados (`shape`, `columns`, `head()`, `tail()`, `dtypes`)\n",
    "*   Calcula el porcentaje de valores faltantes por columna."
   ]
  },
  {
   "cell_type": "code",
   "execution_count": null,
   "metadata": {
    "id": "F5JognteLaJV"
   },
   "outputs": [],
   "source": []
  },
  {
   "cell_type": "markdown",
   "metadata": {
    "id": "APrlS185Cw-K"
   },
   "source": [
    "2.\tObtén la cantidad de valores únicos por columna (`nunique()`) para responder:\n",
    "\n",
    "\n",
    "*   ¿Cuántas mediciones se hicieron?\n",
    "*   ¿Cuántos contaminantes del aire (`Species`) se analizaron?\n",
    "*   ¿Qué columnas no agregan ningún valor informativo porque el mismo valor en todo el conjunto de datos? Elimínalas del dataframe.\n",
    "*   La columna `Units` tampoco posee valor informativo. Verifícalo con la función `unique()` y elimínala del dataframe."
   ]
  },
  {
   "cell_type": "code",
   "execution_count": null,
   "metadata": {
    "id": "Ke0EGLVaCwm6"
   },
   "outputs": [],
   "source": []
  },
  {
   "cell_type": "markdown",
   "metadata": {
    "id": "zEddCwHWEJZ7"
   },
   "source": [
    "3.\tRealiza el conteo de valores por categoría (`value_counts()`) para la columna `Species` y determina si las lecturas de cada contaminante coincide con el total de mediciones."
   ]
  },
  {
   "cell_type": "code",
   "execution_count": null,
   "metadata": {
    "id": "inCKasmZEPsv"
   },
   "outputs": [],
   "source": []
  },
  {
   "cell_type": "markdown",
   "metadata": {
    "id": "zhJM6l1vETfI"
   },
   "source": [
    "4.\tUtiliza la función `groupby()` para determinar el promedio del valor por contaminante."
   ]
  },
  {
   "cell_type": "code",
   "execution_count": null,
   "metadata": {
    "id": "zstyHahSETJK"
   },
   "outputs": [],
   "source": []
  },
  {
   "cell_type": "markdown",
   "metadata": {
    "id": "GY2ux-Q_EV7J"
   },
   "source": [
    "5.\tEl conjunto de datos está en un formato largo. Aplique la función apropiada para cambiarlo al formato ancho (`ReadingDateTime` como índice y cada contaminante en una columna). Nombre el dataframe resultante como `pvt_df`."
   ]
  },
  {
   "cell_type": "code",
   "execution_count": null,
   "metadata": {
    "id": "1IETxb9vFIF-"
   },
   "outputs": [],
   "source": []
  },
  {
   "cell_type": "markdown",
   "metadata": {
    "id": "JmbiBXqFFIZx"
   },
   "source": [
    "6.\tA través de la función `describe()` responde:\n",
    "\n",
    "*   ¿Cuál es el mayor valor de `NO2` registrado? ¿A qué día pertenece?\n",
    "*   ¿Cuál es el menor valor de `PM10` registrado?¿A qué día pertenece?\n",
    "*   ¿Cuál es la mediana del `NO`? ¿Cómo se interpreta?\n",
    "*   ¿Cuál es el primer cuartil de `PM2.5`? ¿Qué significa?"
   ]
  },
  {
   "cell_type": "code",
   "execution_count": null,
   "metadata": {
    "id": "_qWYoEx3Fbod"
   },
   "outputs": [],
   "source": []
  },
  {
   "cell_type": "markdown",
   "metadata": {
    "id": "Rki16hYaFd9p"
   },
   "source": [
    "7.\tDibuja un histograma para cada columna de `pvt_df`. ¿Qué contaminante tiene mayor variabilidad?"
   ]
  },
  {
   "cell_type": "code",
   "execution_count": null,
   "metadata": {
    "id": "NaGkunSeFfn8"
   },
   "outputs": [],
   "source": []
  },
  {
   "cell_type": "markdown",
   "metadata": {
    "id": "2hJ4LzP3fgvy"
   },
   "source": [
    "8.\tEjecuta el siguiente código y comenta qué hace cada línea:"
   ]
  },
  {
   "cell_type": "code",
   "execution_count": null,
   "metadata": {
    "id": "goQuWzNVfomA"
   },
   "outputs": [],
   "source": [
    "datetime_df = air_df.ReadingDateTime.str.split(' ',expand=True)\n",
    "datetime_df.columns = ['Date','Time']\n",
    "datetime_df\n",
    "date_df = datetime_df.Date.str.split('/',expand=True)\n",
    "date_df.columns = ['Day','Month','Year']\n",
    "date_df\n",
    "air_df = air_df.join(date_df).join(datetime_df.Time).drop(columns=['ReadingDateTime','Year'])\n",
    "air_df = air_df.set_index(['Month','Day','Time','Species'])\n",
    "air_df"
   ]
  },
  {
   "cell_type": "markdown",
   "metadata": {
    "id": "37E3dol8fpik"
   },
   "source": [
    "9. Ejecuta la siguiente instrucción y compara su salida con la del código anterior (ejercicio 8). ¿Son iguales?"
   ]
  },
  {
   "cell_type": "code",
   "execution_count": null,
   "metadata": {
    "id": "cgbAxJrvfweW"
   },
   "outputs": [],
   "source": [
    "air_df.unstack()"
   ]
  },
  {
   "cell_type": "markdown",
   "metadata": {
    "id": "K1vWLX2ffxHV"
   },
   "source": [
    "10.\tExplica cuáles son las diferencias y similitudes entre el par `melt()/pivot()` y el par `stack()/unstack()`. Si tuvieras que elegir una contraparte para `melt()` entre `stack()/unstack()`, ¿cuál elegirías? ¿Por qué?"
   ]
  },
  {
   "cell_type": "markdown",
   "metadata": {
    "id": "L0EtgOVIfzRd"
   },
   "source": []
  }
 ],
 "metadata": {
  "colab": {
   "provenance": []
  },
  "kernelspec": {
   "display_name": "Python 3 (ipykernel)",
   "language": "python",
   "name": "python3"
  },
  "language_info": {
   "codemirror_mode": {
    "name": "ipython",
    "version": 3
   },
   "file_extension": ".py",
   "mimetype": "text/x-python",
   "name": "python",
   "nbconvert_exporter": "python",
   "pygments_lexer": "ipython3",
   "version": "3.9.18"
  }
 },
 "nbformat": 4,
 "nbformat_minor": 1
}

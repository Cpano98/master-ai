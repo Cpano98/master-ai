{
 "cells": [
  {
   "cell_type": "markdown",
   "metadata": {
    "id": "LdUaMRtvGvJ1"
   },
   "source": [
    "data36.com by Tomi Mester\n",
    "    \n",
    "    AUTHOR: Tamas Ujhelyi \n",
    "\n",
    "### Polynomial Regression in Python using scikit-learn"
   ]
  },
  {
   "cell_type": "code",
   "execution_count": 1,
   "metadata": {
    "executionInfo": {
     "elapsed": 149,
     "status": "ok",
     "timestamp": 1675300280837,
     "user": {
      "displayName": "Grettel Barceló Alonso",
      "userId": "01577411478517144249"
     },
     "user_tz": 360
    },
    "id": "z080M2VnCwtm"
   },
   "outputs": [],
   "source": [
    "import numpy as np\n",
    "import pandas as pd\n",
    "import matplotlib.pyplot as plt"
   ]
  },
  {
   "cell_type": "markdown",
   "metadata": {
    "id": "gzR0bGg6G9Xc"
   },
   "source": [
    "## Coding a polynomial regression model with a single feature"
   ]
  },
  {
   "cell_type": "code",
   "execution_count": 2,
   "metadata": {
    "colab": {
     "base_uri": "https://localhost:8080/",
     "height": 374
    },
    "executionInfo": {
     "elapsed": 213,
     "status": "ok",
     "timestamp": 1675300281236,
     "user": {
      "displayName": "Grettel Barceló Alonso",
      "userId": "01577411478517144249"
     },
     "user_tz": 360
    },
    "id": "K_yxjdtPCyiN",
    "outputId": "945c1e2e-fff8-4bf3-bc03-81400f513e8d"
   },
   "outputs": [
    {
     "data": {
      "image/png": "[encoded data removed]",
      "text/plain": [
       "<Figure size 1000x600 with 1 Axes>"
      ]
     },
     "metadata": {},
     "output_type": "display_data"
    }
   ],
   "source": [
    "x = np.arange(0, 30)\n",
    "y = [3, 4, 5, 7, 10, 8, 9, 10, 10, 23, 27, 44, 50, 63, 67, 60, 62, 70, 75, 88, 81, 87, 95, 100, 108, 135, 151, 160, 169, 179]\n",
    "plt.figure(figsize=(10,6))\n",
    "plt.scatter(x, y)\n",
    "plt.show()"
   ]
  },
  {
   "cell_type": "markdown",
   "metadata": {
    "id": "Oidwb_12Fq9V"
   },
   "source": [
    "Establishing the degree of the polynomial"
   ]
  },
  {
   "cell_type": "code",
   "execution_count": 3,
   "metadata": {
    "colab": {
     "base_uri": "https://localhost:8080/"
    },
    "executionInfo": {
     "elapsed": 9,
     "status": "ok",
     "timestamp": 1675300281236,
     "user": {
      "displayName": "Grettel Barceló Alonso",
      "userId": "01577411478517144249"
     },
     "user_tz": 360
    },
    "id": "CT0qdAQnC3hw",
    "outputId": "94cddc02-c96c-4445-a122-9b9fd28338e7"
   },
   "outputs": [
    {
     "data": {
      "text/html": [
       "<style>#sk-container-id-1 {\n",
       "  /* Definition of color scheme common for light and dark mode */\n",
       "  --sklearn-color-text: black;\n",
       "  --sklearn-color-line: gray;\n",
       "  /* Definition of color scheme for unfitted estimators */\n",
       "  --sklearn-color-unfitted-level-0: #fff5e6;\n",
       "  --sklearn-color-unfitted-level-1: #f6e4d2;\n",
       "  --sklearn-color-unfitted-level-2: #ffe0b3;\n",
       "  --sklearn-color-unfitted-level-3: chocolate;\n",
       "  /* Definition of color scheme for fitted estimators */\n",
       "  --sklearn-color-fitted-level-0: #f0f8ff;\n",
       "  --sklearn-color-fitted-level-1: #d4ebff;\n",
       "  --sklearn-color-fitted-level-2: #b3dbfd;\n",
       "  --sklearn-color-fitted-level-3: cornflowerblue;\n",
       "\n",
       "  /* Specific color for light theme */\n",
       "  --sklearn-color-text-on-default-background: var(--sg-text-color, var(--theme-code-foreground, var(--jp-content-font-color1, black)));\n",
       "  --sklearn-color-background: var(--sg-background-color, var(--theme-background, var(--jp-layout-color0, white)));\n",
       "  --sklearn-color-border-box: var(--sg-text-color, var(--theme-code-foreground, var(--jp-content-font-color1, black)));\n",
       "  --sklearn-color-icon: #696969;\n",
       "\n",
       "  @media (prefers-color-scheme: dark) {\n",
       "    /* Redefinition of color scheme for dark theme */\n",
       "    --sklearn-color-text-on-default-background: var(--sg-text-color, var(--theme-code-foreground, var(--jp-content-font-color1, white)));\n",
       "    --sklearn-color-background: var(--sg-background-color, var(--theme-background, var(--jp-layout-color0, #111)));\n",
       "    --sklearn-color-border-box: var(--sg-text-color, var(--theme-code-foreground, var(--jp-content-font-color1, white)));\n",
       "    --sklearn-color-icon: #878787;\n",
       "  }\n",
       "}\n",
       "\n",
       "#sk-container-id-1 {\n",
       "  color: var(--sklearn-color-text);\n",
       "}\n",
       "\n",
       "#sk-container-id-1 pre {\n",
       "  padding: 0;\n",
       "}\n",
       "\n",
       "#sk-container-id-1 input.sk-hidden--visually {\n",
       "  border: 0;\n",
       "  clip: rect(1px 1px 1px 1px);\n",
       "  clip: rect(1px, 1px, 1px, 1px);\n",
       "  height: 1px;\n",
       "  margin: -1px;\n",
       "  overflow: hidden;\n",
       "  padding: 0;\n",
       "  position: absolute;\n",
       "  width: 1px;\n",
       "}\n",
       "\n",
       "#sk-container-id-1 div.sk-dashed-wrapped {\n",
       "  border: 1px dashed var(--sklearn-color-line);\n",
       "  margin: 0 0.4em 0.5em 0.4em;\n",
       "  box-sizing: border-box;\n",
       "  padding-bottom: 0.4em;\n",
       "  background-color: var(--sklearn-color-background);\n",
       "}\n",
       "\n",
       "#sk-container-id-1 div.sk-container {\n",
       "  /* jupyter's `normalize.less` sets `[hidden] { display: none; }`\n",
       "     but bootstrap.min.css set `[hidden] { display: none !important; }`\n",
       "     so we also need the `!important` here to be able to override the\n",
       "     default hidden behavior on the sphinx rendered scikit-learn.org.\n",
       "     See: https://github.com/scikit-learn/scikit-learn/issues/21755 */\n",
       "  display: inline-block !important;\n",
       "  position: relative;\n",
       "}\n",
       "\n",
       "#sk-container-id-1 div.sk-text-repr-fallback {\n",
       "  display: none;\n",
       "}\n",
       "\n",
       "div.sk-parallel-item,\n",
       "div.sk-serial,\n",
       "div.sk-item {\n",
       "  /* draw centered vertical line to link estimators */\n",
       "  background-image: linear-gradient(var(--sklearn-color-text-on-default-background), var(--sklearn-color-text-on-default-background));\n",
       "  background-size: 2px 100%;\n",
       "  background-repeat: no-repeat;\n",
       "  background-position: center center;\n",
       "}\n",
       "\n",
       "/* Parallel-specific style estimator block */\n",
       "\n",
       "#sk-container-id-1 div.sk-parallel-item::after {\n",
       "  content: \"\";\n",
       "  width: 100%;\n",
       "  border-bottom: 2px solid var(--sklearn-color-text-on-default-background);\n",
       "  flex-grow: 1;\n",
       "}\n",
       "\n",
       "#sk-container-id-1 div.sk-parallel {\n",
       "  display: flex;\n",
       "  align-items: stretch;\n",
       "  justify-content: center;\n",
       "  background-color: var(--sklearn-color-background);\n",
       "  position: relative;\n",
       "}\n",
       "\n",
       "#sk-container-id-1 div.sk-parallel-item {\n",
       "  display: flex;\n",
       "  flex-direction: column;\n",
       "}\n",
       "\n",
       "#sk-container-id-1 div.sk-parallel-item:first-child::after {\n",
       "  align-self: flex-end;\n",
       "  width: 50%;\n",
       "}\n",
       "\n",
       "#sk-container-id-1 div.sk-parallel-item:last-child::after {\n",
       "  align-self: flex-start;\n",
       "  width: 50%;\n",
       "}\n",
       "\n",
       "#sk-container-id-1 div.sk-parallel-item:only-child::after {\n",
       "  width: 0;\n",
       "}\n",
       "\n",
       "/* Serial-specific style estimator block */\n",
       "\n",
       "#sk-container-id-1 div.sk-serial {\n",
       "  display: flex;\n",
       "  flex-direction: column;\n",
       "  align-items: center;\n",
       "  background-color: var(--sklearn-color-background);\n",
       "  padding-right: 1em;\n",
       "  padding-left: 1em;\n",
       "}\n",
       "\n",
       "\n",
       "/* Toggleable style: style used for estimator/Pipeline/ColumnTransformer box that is\n",
       "clickable and can be expanded/collapsed.\n",
       "- Pipeline and ColumnTransformer use this feature and define the default style\n",
       "- Estimators will overwrite some part of the style using the `sk-estimator` class\n",
       "*/\n",
       "\n",
       "/* Pipeline and ColumnTransformer style (default) */\n",
       "\n",
       "#sk-container-id-1 div.sk-toggleable {\n",
       "  /* Default theme specific background. It is overwritten whether we have a\n",
       "  specific estimator or a Pipeline/ColumnTransformer */\n",
       "  background-color: var(--sklearn-color-background);\n",
       "}\n",
       "\n",
       "/* Toggleable label */\n",
       "#sk-container-id-1 label.sk-toggleable__label {\n",
       "  cursor: pointer;\n",
       "  display: block;\n",
       "  width: 100%;\n",
       "  margin-bottom: 0;\n",
       "  padding: 0.5em;\n",
       "  box-sizing: border-box;\n",
       "  text-align: center;\n",
       "}\n",
       "\n",
       "#sk-container-id-1 label.sk-toggleable__label-arrow:before {\n",
       "  /* Arrow on the left of the label */\n",
       "  content: \"▸\";\n",
       "  float: left;\n",
       "  margin-right: 0.25em;\n",
       "  color: var(--sklearn-color-icon);\n",
       "}\n",
       "\n",
       "#sk-container-id-1 label.sk-toggleable__label-arrow:hover:before {\n",
       "  color: var(--sklearn-color-text);\n",
       "}\n",
       "\n",
       "/* Toggleable content - dropdown */\n",
       "\n",
       "#sk-container-id-1 div.sk-toggleable__content {\n",
       "  max-height: 0;\n",
       "  max-width: 0;\n",
       "  overflow: hidden;\n",
       "  text-align: left;\n",
       "  /* unfitted */\n",
       "  background-color: var(--sklearn-color-unfitted-level-0);\n",
       "}\n",
       "\n",
       "#sk-container-id-1 div.sk-toggleable__content.fitted {\n",
       "  /* fitted */\n",
       "  background-color: var(--sklearn-color-fitted-level-0);\n",
       "}\n",
       "\n",
       "#sk-container-id-1 div.sk-toggleable__content pre {\n",
       "  margin: 0.2em;\n",
       "  border-radius: 0.25em;\n",
       "  color: var(--sklearn-color-text);\n",
       "  /* unfitted */\n",
       "  background-color: var(--sklearn-color-unfitted-level-0);\n",
       "}\n",
       "\n",
       "#sk-container-id-1 div.sk-toggleable__content.fitted pre {\n",
       "  /* unfitted */\n",
       "  background-color: var(--sklearn-color-fitted-level-0);\n",
       "}\n",
       "\n",
       "#sk-container-id-1 input.sk-toggleable__control:checked~div.sk-toggleable__content {\n",
       "  /* Expand drop-down */\n",
       "  max-height: 200px;\n",
       "  max-width: 100%;\n",
       "  overflow: auto;\n",
       "}\n",
       "\n",
       "#sk-container-id-1 input.sk-toggleable__control:checked~label.sk-toggleable__label-arrow:before {\n",
       "  content: \"▾\";\n",
       "}\n",
       "\n",
       "/* Pipeline/ColumnTransformer-specific style */\n",
       "\n",
       "#sk-container-id-1 div.sk-label input.sk-toggleable__control:checked~label.sk-toggleable__label {\n",
       "  color: var(--sklearn-color-text);\n",
       "  background-color: var(--sklearn-color-unfitted-level-2);\n",
       "}\n",
       "\n",
       "#sk-container-id-1 div.sk-label.fitted input.sk-toggleable__control:checked~label.sk-toggleable__label {\n",
       "  background-color: var(--sklearn-color-fitted-level-2);\n",
       "}\n",
       "\n",
       "/* Estimator-specific style */\n",
       "\n",
       "/* Colorize estimator box */\n",
       "#sk-container-id-1 div.sk-estimator input.sk-toggleable__control:checked~label.sk-toggleable__label {\n",
       "  /* unfitted */\n",
       "  background-color: var(--sklearn-color-unfitted-level-2);\n",
       "}\n",
       "\n",
       "#sk-container-id-1 div.sk-estimator.fitted input.sk-toggleable__control:checked~label.sk-toggleable__label {\n",
       "  /* fitted */\n",
       "  background-color: var(--sklearn-color-fitted-level-2);\n",
       "}\n",
       "\n",
       "#sk-container-id-1 div.sk-label label.sk-toggleable__label,\n",
       "#sk-container-id-1 div.sk-label label {\n",
       "  /* The background is the default theme color */\n",
       "  color: var(--sklearn-color-text-on-default-background);\n",
       "}\n",
       "\n",
       "/* On hover, darken the color of the background */\n",
       "#sk-container-id-1 div.sk-label:hover label.sk-toggleable__label {\n",
       "  color: var(--sklearn-color-text);\n",
       "  background-color: var(--sklearn-color-unfitted-level-2);\n",
       "}\n",
       "\n",
       "/* Label box, darken color on hover, fitted */\n",
       "#sk-container-id-1 div.sk-label.fitted:hover label.sk-toggleable__label.fitted {\n",
       "  color: var(--sklearn-color-text);\n",
       "  background-color: var(--sklearn-color-fitted-level-2);\n",
       "}\n",
       "\n",
       "/* Estimator label */\n",
       "\n",
       "#sk-container-id-1 div.sk-label label {\n",
       "  font-family: monospace;\n",
       "  font-weight: bold;\n",
       "  display: inline-block;\n",
       "  line-height: 1.2em;\n",
       "}\n",
       "\n",
       "#sk-container-id-1 div.sk-label-container {\n",
       "  text-align: center;\n",
       "}\n",
       "\n",
       "/* Estimator-specific */\n",
       "#sk-container-id-1 div.sk-estimator {\n",
       "  font-family: monospace;\n",
       "  border: 1px dotted var(--sklearn-color-border-box);\n",
       "  border-radius: 0.25em;\n",
       "  box-sizing: border-box;\n",
       "  margin-bottom: 0.5em;\n",
       "  /* unfitted */\n",
       "  background-color: var(--sklearn-color-unfitted-level-0);\n",
       "}\n",
       "\n",
       "#sk-container-id-1 div.sk-estimator.fitted {\n",
       "  /* fitted */\n",
       "  background-color: var(--sklearn-color-fitted-level-0);\n",
       "}\n",
       "\n",
       "/* on hover */\n",
       "#sk-container-id-1 div.sk-estimator:hover {\n",
       "  /* unfitted */\n",
       "  background-color: var(--sklearn-color-unfitted-level-2);\n",
       "}\n",
       "\n",
       "#sk-container-id-1 div.sk-estimator.fitted:hover {\n",
       "  /* fitted */\n",
       "  background-color: var(--sklearn-color-fitted-level-2);\n",
       "}\n",
       "\n",
       "/* Specification for estimator info (e.g. \"i\" and \"?\") */\n",
       "\n",
       "/* Common style for \"i\" and \"?\" */\n",
       "\n",
       ".sk-estimator-doc-link,\n",
       "a:link.sk-estimator-doc-link,\n",
       "a:visited.sk-estimator-doc-link {\n",
       "  float: right;\n",
       "  font-size: smaller;\n",
       "  line-height: 1em;\n",
       "  font-family: monospace;\n",
       "  background-color: var(--sklearn-color-background);\n",
       "  border-radius: 1em;\n",
       "  height: 1em;\n",
       "  width: 1em;\n",
       "  text-decoration: none !important;\n",
       "  margin-left: 1ex;\n",
       "  /* unfitted */\n",
       "  border: var(--sklearn-color-unfitted-level-1) 1pt solid;\n",
       "  color: var(--sklearn-color-unfitted-level-1);\n",
       "}\n",
       "\n",
       ".sk-estimator-doc-link.fitted,\n",
       "a:link.sk-estimator-doc-link.fitted,\n",
       "a:visited.sk-estimator-doc-link.fitted {\n",
       "  /* fitted */\n",
       "  border: var(--sklearn-color-fitted-level-1) 1pt solid;\n",
       "  color: var(--sklearn-color-fitted-level-1);\n",
       "}\n",
       "\n",
       "/* On hover */\n",
       "div.sk-estimator:hover .sk-estimator-doc-link:hover,\n",
       ".sk-estimator-doc-link:hover,\n",
       "div.sk-label-container:hover .sk-estimator-doc-link:hover,\n",
       ".sk-estimator-doc-link:hover {\n",
       "  /* unfitted */\n",
       "  background-color: var(--sklearn-color-unfitted-level-3);\n",
       "  color: var(--sklearn-color-background);\n",
       "  text-decoration: none;\n",
       "}\n",
       "\n",
       "div.sk-estimator.fitted:hover .sk-estimator-doc-link.fitted:hover,\n",
       ".sk-estimator-doc-link.fitted:hover,\n",
       "div.sk-label-container:hover .sk-estimator-doc-link.fitted:hover,\n",
       ".sk-estimator-doc-link.fitted:hover {\n",
       "  /* fitted */\n",
       "  background-color: var(--sklearn-color-fitted-level-3);\n",
       "  color: var(--sklearn-color-background);\n",
       "  text-decoration: none;\n",
       "}\n",
       "\n",
       "/* Span, style for the box shown on hovering the info icon */\n",
       ".sk-estimator-doc-link span {\n",
       "  display: none;\n",
       "  z-index: 9999;\n",
       "  position: relative;\n",
       "  font-weight: normal;\n",
       "  right: .2ex;\n",
       "  padding: .5ex;\n",
       "  margin: .5ex;\n",
       "  width: min-content;\n",
       "  min-width: 20ex;\n",
       "  max-width: 50ex;\n",
       "  color: var(--sklearn-color-text);\n",
       "  box-shadow: 2pt 2pt 4pt #999;\n",
       "  /* unfitted */\n",
       "  background: var(--sklearn-color-unfitted-level-0);\n",
       "  border: .5pt solid var(--sklearn-color-unfitted-level-3);\n",
       "}\n",
       "\n",
       ".sk-estimator-doc-link.fitted span {\n",
       "  /* fitted */\n",
       "  background: var(--sklearn-color-fitted-level-0);\n",
       "  border: var(--sklearn-color-fitted-level-3);\n",
       "}\n",
       "\n",
       ".sk-estimator-doc-link:hover span {\n",
       "  display: block;\n",
       "}\n",
       "\n",
       "/* \"?\"-specific style due to the `<a>` HTML tag */\n",
       "\n",
       "#sk-container-id-1 a.estimator_doc_link {\n",
       "  float: right;\n",
       "  font-size: 1rem;\n",
       "  line-height: 1em;\n",
       "  font-family: monospace;\n",
       "  background-color: var(--sklearn-color-background);\n",
       "  border-radius: 1rem;\n",
       "  height: 1rem;\n",
       "  width: 1rem;\n",
       "  text-decoration: none;\n",
       "  /* unfitted */\n",
       "  color: var(--sklearn-color-unfitted-level-1);\n",
       "  border: var(--sklearn-color-unfitted-level-1) 1pt solid;\n",
       "}\n",
       "\n",
       "#sk-container-id-1 a.estimator_doc_link.fitted {\n",
       "  /* fitted */\n",
       "  border: var(--sklearn-color-fitted-level-1) 1pt solid;\n",
       "  color: var(--sklearn-color-fitted-level-1);\n",
       "}\n",
       "\n",
       "/* On hover */\n",
       "#sk-container-id-1 a.estimator_doc_link:hover {\n",
       "  /* unfitted */\n",
       "  background-color: var(--sklearn-color-unfitted-level-3);\n",
       "  color: var(--sklearn-color-background);\n",
       "  text-decoration: none;\n",
       "}\n",
       "\n",
       "#sk-container-id-1 a.estimator_doc_link.fitted:hover {\n",
       "  /* fitted */\n",
       "  background-color: var(--sklearn-color-fitted-level-3);\n",
       "}\n",
       "</style><div id=\"sk-container-id-1\" class=\"sk-top-container\"><div class=\"sk-text-repr-fallback\"><pre>PolynomialFeatures(include_bias=False)</pre><b>In a Jupyter environment, please rerun this cell to show the HTML representation or trust the notebook. <br />On GitHub, the HTML representation is unable to render, please try loading this page with nbviewer.org.</b></div><div class=\"sk-container\" hidden><div class=\"sk-item\"><div class=\"sk-estimator  sk-toggleable\"><input class=\"sk-toggleable__control sk-hidden--visually\" id=\"sk-estimator-id-1\" type=\"checkbox\" checked><label for=\"sk-estimator-id-1\" class=\"sk-toggleable__label  sk-toggleable__label-arrow \">&nbsp;&nbsp;PolynomialFeatures<a class=\"sk-estimator-doc-link \" rel=\"noreferrer\" target=\"_blank\" href=\"https://scikit-learn.org/1.5/modules/generated/sklearn.preprocessing.PolynomialFeatures.html\">?<span>Documentation for PolynomialFeatures</span></a><span class=\"sk-estimator-doc-link \">i<span>Not fitted</span></span></label><div class=\"sk-toggleable__content \"><pre>PolynomialFeatures(include_bias=False)</pre></div> </div></div></div></div>"
      ],
      "text/plain": [
       "PolynomialFeatures(include_bias=False)"
      ]
     },
     "execution_count": 3,
     "metadata": {},
     "output_type": "execute_result"
    }
   ],
   "source": [
    "from sklearn.preprocessing import PolynomialFeatures\n",
    "poly = PolynomialFeatures(degree=2, include_bias=False)\n",
    "poly"
   ]
  },
  {
   "cell_type": "markdown",
   "metadata": {
    "id": "RaYbzsPMFumT"
   },
   "source": [
    "Creating the new features"
   ]
  },
  {
   "cell_type": "code",
   "execution_count": 4,
   "metadata": {
    "colab": {
     "base_uri": "https://localhost:8080/"
    },
    "executionInfo": {
     "elapsed": 17,
     "status": "ok",
     "timestamp": 1675300281426,
     "user": {
      "displayName": "Grettel Barceló Alonso",
      "userId": "01577411478517144249"
     },
     "user_tz": 360
    },
    "id": "wnRK8rg7C69C",
    "outputId": "bb162ed8-da6a-4b1a-abd2-83e573ac88b6"
   },
   "outputs": [
    {
     "data": {
      "text/plain": [
       "array([[  0.,   0.],\n",
       "       [  1.,   1.],\n",
       "       [  2.,   4.],\n",
       "       [  3.,   9.],\n",
       "       [  4.,  16.],\n",
       "       [  5.,  25.],\n",
       "       [  6.,  36.],\n",
       "       [  7.,  49.],\n",
       "       [  8.,  64.],\n",
       "       [  9.,  81.],\n",
       "       [ 10., 100.],\n",
       "       [ 11., 121.],\n",
       "       [ 12., 144.],\n",
       "       [ 13., 169.],\n",
       "       [ 14., 196.],\n",
       "       [ 15., 225.],\n",
       "       [ 16., 256.],\n",
       "       [ 17., 289.],\n",
       "       [ 18., 324.],\n",
       "       [ 19., 361.],\n",
       "       [ 20., 400.],\n",
       "       [ 21., 441.],\n",
       "       [ 22., 484.],\n",
       "       [ 23., 529.],\n",
       "       [ 24., 576.],\n",
       "       [ 25., 625.],\n",
       "       [ 26., 676.],\n",
       "       [ 27., 729.],\n",
       "       [ 28., 784.],\n",
       "       [ 29., 841.]])"
      ]
     },
     "execution_count": 4,
     "metadata": {},
     "output_type": "execute_result"
    }
   ],
   "source": [
    "poly_features = poly.fit_transform(x.reshape(-1, 1))\n",
    "poly_features"
   ]
  },
  {
   "cell_type": "markdown",
   "metadata": {
    "id": "okNK4rIWFyCd"
   },
   "source": [
    "Creating the polynomial regression model"
   ]
  },
  {
   "cell_type": "code",
   "execution_count": 5,
   "metadata": {
    "colab": {
     "base_uri": "https://localhost:8080/"
    },
    "executionInfo": {
     "elapsed": 10,
     "status": "ok",
     "timestamp": 1675300281426,
     "user": {
      "displayName": "Grettel Barceló Alonso",
      "userId": "01577411478517144249"
     },
     "user_tz": 360
    },
    "id": "EkoKTYjEDb9B",
    "outputId": "47838dfe-1ee2-4bb1-8f72-bb3480151186"
   },
   "outputs": [
    {
     "data": {
      "text/plain": [
       "array([  1.70806452,   3.04187987,   4.70292388,   6.69119657,\n",
       "         9.00669792,  11.64942794,  14.61938662,  17.91657397,\n",
       "        21.54098999,  25.49263467,  29.77150802,  34.37761004,\n",
       "        39.31094073,  44.57150008,  50.1592881 ,  56.07430478,\n",
       "        62.31655014,  68.88602415,  75.78272684,  83.00665819,\n",
       "        90.55781821,  98.4362069 , 106.64182425, 115.17467027,\n",
       "       124.03474495, 133.22204831, 142.73658033, 152.57834101,\n",
       "       162.74733037, 173.24354839])"
      ]
     },
     "execution_count": 5,
     "metadata": {},
     "output_type": "execute_result"
    }
   ],
   "source": [
    "from sklearn.linear_model import LinearRegression\n",
    "poly_reg_model = LinearRegression()\n",
    "poly_reg_model.fit(poly_features, y)\n",
    "y_predicted = poly_reg_model.predict(poly_features)\n",
    "y_predicted"
   ]
  },
  {
   "cell_type": "code",
   "execution_count": 6,
   "metadata": {
    "colab": {
     "base_uri": "https://localhost:8080/",
     "height": 392
    },
    "executionInfo": {
     "elapsed": 226,
     "status": "ok",
     "timestamp": 1675300281648,
     "user": {
      "displayName": "Grettel Barceló Alonso",
      "userId": "01577411478517144249"
     },
     "user_tz": 360
    },
    "id": "Spj88w9uDv7E",
    "outputId": "172f05eb-24eb-498d-b26d-0e969820147d"
   },
   "outputs": [
    {
     "data": {
      "image/png": "[encoded data removed]",
      "text/plain": [
       "<Figure size 1000x600 with 1 Axes>"
      ]
     },
     "metadata": {},
     "output_type": "display_data"
    }
   ],
   "source": [
    "plt.figure(figsize=(10, 6))\n",
    "plt.title(\"Your first polynomial regression – congrats! :)\", size=16)\n",
    "plt.scatter(x, y)\n",
    "plt.plot(x, y_predicted, c=\"red\")\n",
    "plt.show()"
   ]
  },
  {
   "cell_type": "markdown",
   "metadata": {
    "id": "h5x1wagzDz1s"
   },
   "source": [
    "## Coding a polynomial regression model with multiple features"
   ]
  },
  {
   "cell_type": "code",
   "execution_count": 7,
   "metadata": {
    "executionInfo": {
     "elapsed": 4,
     "status": "ok",
     "timestamp": 1675300281649,
     "user": {
      "displayName": "Grettel Barceló Alonso",
      "userId": "01577411478517144249"
     },
     "user_tz": 360
    },
    "id": "JkgvgaXgD3h7"
   },
   "outputs": [],
   "source": [
    "np.random.seed(1)\n",
    "x_1 = np.absolute(np.random.randn(100, 1) * 10)\n",
    "x_2 = np.absolute(np.random.randn(100, 1) * 30)\n",
    "y = 2*x_1**2 + 3*x_1 + 2 + np.random.randn(100, 1)*20"
   ]
  },
  {
   "cell_type": "code",
   "execution_count": 8,
   "metadata": {
    "colab": {
     "base_uri": "https://localhost:8080/",
     "height": 281
    },
    "executionInfo": {
     "elapsed": 499,
     "status": "ok",
     "timestamp": 1675300282145,
     "user": {
      "displayName": "Grettel Barceló Alonso",
      "userId": "01577411478517144249"
     },
     "user_tz": 360
    },
    "id": "jDaVh38_D50s",
    "outputId": "4c1bbf23-5ced-4a4f-ef6b-8f843f2e4728"
   },
   "outputs": [
    {
     "data": {
      "image/png": "[encoded data removed]",
      "text/plain": [
       "<Figure size 1000x400 with 2 Axes>"
      ]
     },
     "metadata": {},
     "output_type": "display_data"
    }
   ],
   "source": [
    "fig, axes = plt.subplots(nrows=1, ncols=2, figsize=(10, 4))\n",
    "axes[0].scatter(x_1, y)\n",
    "axes[1].scatter(x_2, y)\n",
    "axes[0].set_title(\"x_1 plotted\")\n",
    "axes[1].set_title(\"x_2 plotted\")\n",
    "plt.show()"
   ]
  },
  {
   "cell_type": "code",
   "execution_count": 9,
   "metadata": {
    "colab": {
     "base_uri": "https://localhost:8080/",
     "height": 419
    },
    "executionInfo": {
     "elapsed": 59,
     "status": "ok",
     "timestamp": 1675300282145,
     "user": {
      "displayName": "Grettel Barceló Alonso",
      "userId": "01577411478517144249"
     },
     "user_tz": 360
    },
    "id": "82iGh66eD9g6",
    "outputId": "dfff0168-598a-4aa6-b093-89ed1c492a88"
   },
   "outputs": [
    {
     "data": {
      "text/html": [
       "<div>\n",
       "<style scoped>\n",
       "    .dataframe tbody tr th:only-of-type {\n",
       "        vertical-align: middle;\n",
       "    }\n",
       "\n",
       "    .dataframe tbody tr th {\n",
       "        vertical-align: top;\n",
       "    }\n",
       "\n",
       "    .dataframe thead th {\n",
       "        text-align: right;\n",
       "    }\n",
       "</style>\n",
       "<table border=\"1\" class=\"dataframe\">\n",
       "  <thead>\n",
       "    <tr style=\"text-align: right;\">\n",
       "      <th></th>\n",
       "      <th>x_1</th>\n",
       "      <th>x_2</th>\n",
       "      <th>y</th>\n",
       "    </tr>\n",
       "  </thead>\n",
       "  <tbody>\n",
       "    <tr>\n",
       "      <th>0</th>\n",
       "      <td>16.243454</td>\n",
       "      <td>13.413857</td>\n",
       "      <td>570.412369</td>\n",
       "    </tr>\n",
       "    <tr>\n",
       "      <th>1</th>\n",
       "      <td>6.117564</td>\n",
       "      <td>36.735231</td>\n",
       "      <td>111.681987</td>\n",
       "    </tr>\n",
       "    <tr>\n",
       "      <th>2</th>\n",
       "      <td>5.281718</td>\n",
       "      <td>12.104749</td>\n",
       "      <td>62.392124</td>\n",
       "    </tr>\n",
       "    <tr>\n",
       "      <th>3</th>\n",
       "      <td>10.729686</td>\n",
       "      <td>17.807356</td>\n",
       "      <td>303.538953</td>\n",
       "    </tr>\n",
       "    <tr>\n",
       "      <th>4</th>\n",
       "      <td>8.654076</td>\n",
       "      <td>32.847355</td>\n",
       "      <td>151.109269</td>\n",
       "    </tr>\n",
       "    <tr>\n",
       "      <th>...</th>\n",
       "      <td>...</td>\n",
       "      <td>...</td>\n",
       "      <td>...</td>\n",
       "    </tr>\n",
       "    <tr>\n",
       "      <th>95</th>\n",
       "      <td>0.773401</td>\n",
       "      <td>48.823150</td>\n",
       "      <td>-0.430738</td>\n",
       "    </tr>\n",
       "    <tr>\n",
       "      <th>96</th>\n",
       "      <td>3.438537</td>\n",
       "      <td>18.069578</td>\n",
       "      <td>44.308720</td>\n",
       "    </tr>\n",
       "    <tr>\n",
       "      <th>97</th>\n",
       "      <td>0.435969</td>\n",
       "      <td>12.608466</td>\n",
       "      <td>19.383456</td>\n",
       "    </tr>\n",
       "    <tr>\n",
       "      <th>98</th>\n",
       "      <td>6.200008</td>\n",
       "      <td>24.328550</td>\n",
       "      <td>78.371729</td>\n",
       "    </tr>\n",
       "    <tr>\n",
       "      <th>99</th>\n",
       "      <td>6.980320</td>\n",
       "      <td>31.333263</td>\n",
       "      <td>132.108914</td>\n",
       "    </tr>\n",
       "  </tbody>\n",
       "</table>\n",
       "<p>100 rows × 3 columns</p>\n",
       "</div>"
      ],
      "text/plain": [
       "          x_1        x_2           y\n",
       "0   16.243454  13.413857  570.412369\n",
       "1    6.117564  36.735231  111.681987\n",
       "2    5.281718  12.104749   62.392124\n",
       "3   10.729686  17.807356  303.538953\n",
       "4    8.654076  32.847355  151.109269\n",
       "..        ...        ...         ...\n",
       "95   0.773401  48.823150   -0.430738\n",
       "96   3.438537  18.069578   44.308720\n",
       "97   0.435969  12.608466   19.383456\n",
       "98   6.200008  24.328550   78.371729\n",
       "99   6.980320  31.333263  132.108914\n",
       "\n",
       "[100 rows x 3 columns]"
      ]
     },
     "execution_count": 9,
     "metadata": {},
     "output_type": "execute_result"
    }
   ],
   "source": [
    "df = pd.DataFrame({\"x_1\":x_1.reshape(100,), \"x_2\":x_2.reshape(100,), \"y\":y.reshape(100,)}, index=range(0,100))\n",
    "df"
   ]
  },
  {
   "cell_type": "markdown",
   "metadata": {
    "id": "ur98M8EQHhqv"
   },
   "source": [
    "Defining the training and the test data"
   ]
  },
  {
   "cell_type": "code",
   "execution_count": 10,
   "metadata": {
    "executionInfo": {
     "elapsed": 57,
     "status": "ok",
     "timestamp": 1675300282146,
     "user": {
      "displayName": "Grettel Barceló Alonso",
      "userId": "01577411478517144249"
     },
     "user_tz": 360
    },
    "id": "8w2bKXL1EBvk"
   },
   "outputs": [],
   "source": [
    "from sklearn.model_selection import train_test_split\n",
    "X, y = df[[\"x_1\", \"x_2\"]], df[\"y\"]\n",
    "poly = PolynomialFeatures(degree=2, include_bias=False)\n",
    "poly_features = poly.fit_transform(X)\n",
    "X_train, X_test, y_train, y_test = train_test_split(poly_features, y, test_size=0.3, random_state=42)"
   ]
  },
  {
   "cell_type": "markdown",
   "metadata": {
    "id": "VqzRWsWGJFEx"
   },
   "source": [
    "Creating a polynomial regression model"
   ]
  },
  {
   "cell_type": "code",
   "execution_count": 11,
   "metadata": {
    "colab": {
     "base_uri": "https://localhost:8080/"
    },
    "executionInfo": {
     "elapsed": 57,
     "status": "ok",
     "timestamp": 1675300282146,
     "user": {
      "displayName": "Grettel Barceló Alonso",
      "userId": "01577411478517144249"
     },
     "user_tz": 360
    },
    "id": "pS5eFiOmEGL1",
    "outputId": "4b98aedc-de62-4755-b615-739f88dc5436"
   },
   "outputs": [
    {
     "data": {
      "text/plain": [
       "array([ 41.6350313 ,  39.42128746, 452.06683015, 110.51727736,\n",
       "         2.65094349, 144.27230078, 185.75697454,  10.81034621,\n",
       "       462.83508143, 566.27203227,  -5.53330574, 125.27478433,\n",
       "       185.59939781, 168.88392753, 317.09608594, 171.92507502,\n",
       "        22.91712564, 167.36531564,  28.04318899,  44.46072362,\n",
       "        97.92748209,  13.34154912,   0.66046295, 131.74620326,\n",
       "       431.8011814 , 270.05259063,  22.60712417,  34.93332853,\n",
       "        33.95914936,  19.73818115])"
      ]
     },
     "execution_count": 11,
     "metadata": {},
     "output_type": "execute_result"
    }
   ],
   "source": [
    "poly_reg_model = LinearRegression()\n",
    "poly_reg_model.fit(X_train, y_train)\n",
    "poly_reg_y_predicted = poly_reg_model.predict(X_test)\n",
    "poly_reg_y_predicted"
   ]
  },
  {
   "cell_type": "code",
   "execution_count": 12,
   "metadata": {
    "colab": {
     "base_uri": "https://localhost:8080/"
    },
    "executionInfo": {
     "elapsed": 48,
     "status": "ok",
     "timestamp": 1675300282146,
     "user": {
      "displayName": "Grettel Barceló Alonso",
      "userId": "01577411478517144249"
     },
     "user_tz": 360
    },
    "id": "sPP2kFeIEICl",
    "outputId": "4a38bf02-6478-4749-8e67-3e45a5b90288"
   },
   "outputs": [
    {
     "data": {
      "text/plain": [
       "20.937707839078755"
      ]
     },
     "execution_count": 12,
     "metadata": {},
     "output_type": "execute_result"
    }
   ],
   "source": [
    "from sklearn.metrics import mean_squared_error\n",
    "poly_reg_rmse = np.sqrt(mean_squared_error(y_test, poly_reg_y_predicted))\n",
    "poly_reg_rmse"
   ]
  },
  {
   "cell_type": "markdown",
   "metadata": {
    "id": "i8wNGw0cELVy"
   },
   "source": [
    "Creating a linear regression model to compare"
   ]
  },
  {
   "cell_type": "code",
   "execution_count": 13,
   "metadata": {
    "colab": {
     "base_uri": "https://localhost:8080/"
    },
    "executionInfo": {
     "elapsed": 40,
     "status": "ok",
     "timestamp": 1675300282146,
     "user": {
      "displayName": "Grettel Barceló Alonso",
      "userId": "01577411478517144249"
     },
     "user_tz": 360
    },
    "id": "3kIurS49JnaA",
    "outputId": "13156bc0-7f98-4250-9f29-8e165a527c53"
   },
   "outputs": [
    {
     "data": {
      "text/plain": [
       "array([  41.63309114,    0.83556899,  504.1503167 ,  159.30135668,\n",
       "       -103.29453878,  206.69380231,  256.90218623,  -40.13222578,\n",
       "        500.44220098,  586.15382451, -116.48989847,  182.51836141,\n",
       "        262.12751533,  243.77372104,  388.73672059,  243.92985845,\n",
       "         -4.39080137,  240.43477218,   10.43622695,   46.8066603 ,\n",
       "        137.87116117,  -68.2726426 ,  -89.27914233,  195.82069617,\n",
       "        463.40741474,  343.008296  ,  -36.15407314,   23.69815202,\n",
       "         -8.53868937,  -87.39295134])"
      ]
     },
     "execution_count": 13,
     "metadata": {},
     "output_type": "execute_result"
    }
   ],
   "source": [
    "X_train, X_test, y_train, y_test = train_test_split(X, y, test_size=0.3, random_state=42)\n",
    "lin_reg_model = LinearRegression()\n",
    "lin_reg_model.fit(X_train, y_train)\n",
    "lin_reg_y_predicted = lin_reg_model.predict(X_test)\n",
    "lin_reg_y_predicted"
   ]
  },
  {
   "cell_type": "code",
   "execution_count": 14,
   "metadata": {
    "colab": {
     "base_uri": "https://localhost:8080/"
    },
    "executionInfo": {
     "elapsed": 35,
     "status": "ok",
     "timestamp": 1675300282147,
     "user": {
      "displayName": "Grettel Barceló Alonso",
      "userId": "01577411478517144249"
     },
     "user_tz": 360
    },
    "id": "WogrJlSAJ3DX",
    "outputId": "a7622b0f-eef0-4935-a344-ccea088048e8"
   },
   "outputs": [
    {
     "data": {
      "text/plain": [
       "62.302487453878506"
      ]
     },
     "execution_count": 14,
     "metadata": {},
     "output_type": "execute_result"
    }
   ],
   "source": [
    "lin_reg_rmse = np.sqrt(mean_squared_error(y_test, lin_reg_y_predicted))\n",
    "lin_reg_rmse"
   ]
  },
  {
   "cell_type": "markdown",
   "metadata": {
    "id": "SF5flg5vNOs7"
   },
   "source": [
    "Linear regression equation"
   ]
  },
  {
   "cell_type": "code",
   "execution_count": 15,
   "metadata": {
    "colab": {
     "base_uri": "https://localhost:8080/"
    },
    "executionInfo": {
     "elapsed": 29,
     "status": "ok",
     "timestamp": 1675300282147,
     "user": {
      "displayName": "Grettel Barceló Alonso",
      "userId": "01577411478517144249"
     },
     "user_tz": 360
    },
    "id": "EfMRY4MwKW4k",
    "outputId": "5b1870f6-c761-4c0a-a79b-f9bf25000373"
   },
   "outputs": [
    {
     "data": {
      "text/plain": [
       "array([43.73176255, -0.53140809])"
      ]
     },
     "execution_count": 15,
     "metadata": {},
     "output_type": "execute_result"
    }
   ],
   "source": [
    "lin_reg_model.coef_"
   ]
  },
  {
   "cell_type": "code",
   "execution_count": 16,
   "metadata": {
    "colab": {
     "base_uri": "https://localhost:8080/"
    },
    "executionInfo": {
     "elapsed": 24,
     "status": "ok",
     "timestamp": 1675300282147,
     "user": {
      "displayName": "Grettel Barceló Alonso",
      "userId": "01577411478517144249"
     },
     "user_tz": 360
    },
    "id": "ZFfKrarSKbyf",
    "outputId": "0c2d212e-0e5c-4032-f222-8cc81d384a6b"
   },
   "outputs": [
    {
     "data": {
      "text/plain": [
       "-117.07280081594811"
      ]
     },
     "execution_count": 16,
     "metadata": {},
     "output_type": "execute_result"
    }
   ],
   "source": [
    "lin_reg_model.intercept_"
   ]
  },
  {
   "cell_type": "markdown",
   "metadata": {
    "id": "PXxmo3W-K7Zb"
   },
   "source": [
    "$y = ß_0 + ß_1x\\_1 + ß_2x\\_2$\n",
    "\n",
    "$y = -117.072 + 43.731x\\_1 - 0.531x\\_2$"
   ]
  },
  {
   "cell_type": "markdown",
   "metadata": {
    "id": "q1wNJ4wnNRMz"
   },
   "source": [
    "Polynomial regression equation"
   ]
  },
  {
   "cell_type": "code",
   "execution_count": 17,
   "metadata": {
    "colab": {
     "base_uri": "https://localhost:8080/"
    },
    "executionInfo": {
     "elapsed": 20,
     "status": "ok",
     "timestamp": 1675300282148,
     "user": {
      "displayName": "Grettel Barceló Alonso",
      "userId": "01577411478517144249"
     },
     "user_tz": 360
    },
    "id": "DaYnvv7mO9OF",
    "outputId": "556b9a4a-ca76-458c-cbd7-dfa69cf03dcc"
   },
   "outputs": [
    {
     "data": {
      "text/plain": [
       "array([ 3.61945509, -1.0859955 ,  1.89905813,  0.0207338 ,  0.01300394])"
      ]
     },
     "execution_count": 17,
     "metadata": {},
     "output_type": "execute_result"
    }
   ],
   "source": [
    "poly_reg_model.coef_"
   ]
  },
  {
   "cell_type": "code",
   "execution_count": 18,
   "metadata": {
    "colab": {
     "base_uri": "https://localhost:8080/"
    },
    "executionInfo": {
     "elapsed": 15,
     "status": "ok",
     "timestamp": 1675300282148,
     "user": {
      "displayName": "Grettel Barceló Alonso",
      "userId": "01577411478517144249"
     },
     "user_tz": 360
    },
    "id": "NqcqqMeZO-mh",
    "outputId": "e15272d9-5b02-4397-d8c8-94904d9fac3c"
   },
   "outputs": [
    {
     "data": {
      "text/plain": [
       "14.123436038979122"
      ]
     },
     "execution_count": 18,
     "metadata": {},
     "output_type": "execute_result"
    }
   ],
   "source": [
    "poly_reg_model.intercept_"
   ]
  },
  {
   "cell_type": "markdown",
   "metadata": {
    "id": "vtl1h6YpLsHf"
   },
   "source": [
    "$y = ß_0 + ß_1x\\_1 + ß_2x\\_2 + ß_3x\\_1^2 + ß_4x\\_2^2 + ß_5x\\_1x\\_2$\n",
    "\n",
    "$y = 14.123 + 3.619x\\_1  - 1.085x\\_2 + 1.899x\\_1^2 + 0.020x\\_2^2 + 0.013x\\_1x\\_2$"
   ]
  },
  {
   "cell_type": "markdown",
   "metadata": {
    "id": "-mhFGKjmE9es"
   },
   "source": [
    "## Using pipeline"
   ]
  },
  {
   "cell_type": "code",
   "execution_count": 19,
   "metadata": {
    "colab": {
     "base_uri": "https://localhost:8080/"
    },
    "executionInfo": {
     "elapsed": 139,
     "status": "ok",
     "timestamp": 1675300468632,
     "user": {
      "displayName": "Grettel Barceló Alonso",
      "userId": "01577411478517144249"
     },
     "user_tz": 360
    },
    "id": "oAHfc0i-iJd4",
    "outputId": "dd4a186e-d931-494c-e6a1-f76db4a4bb6a"
   },
   "outputs": [
    {
     "data": {
      "text/plain": [
       "20.937707839078755"
      ]
     },
     "execution_count": 19,
     "metadata": {},
     "output_type": "execute_result"
    }
   ],
   "source": [
    "X, y = df[[\"x_1\", \"x_2\"]], df[\"y\"]\n",
    "X_train, X_test, y_train, y_test = train_test_split(X, y, test_size=0.3, random_state=42)\n",
    "\n",
    "from sklearn.pipeline import make_pipeline\n",
    "\n",
    "poly_reg_model = make_pipeline(PolynomialFeatures(degree=2, include_bias=False), LinearRegression())\n",
    "poly_reg_model.fit(X_train, y_train)\n",
    "poly_reg_y_predicted = poly_reg_model.predict(X_test)\n",
    "\n",
    "from sklearn.metrics import mean_squared_error\n",
    "poly_reg_rmse = np.sqrt(mean_squared_error(y_test, poly_reg_y_predicted))\n",
    "poly_reg_rmse"
   ]
  },
  {
   "cell_type": "markdown",
   "metadata": {
    "id": "5Vr4nUVIEqAa"
   },
   "source": [
    "## Finding the best degree"
   ]
  },
  {
   "cell_type": "code",
   "execution_count": 20,
   "metadata": {
    "colab": {
     "base_uri": "https://localhost:8080/",
     "height": 313
    },
    "executionInfo": {
     "elapsed": 745,
     "status": "ok",
     "timestamp": 1675316542932,
     "user": {
      "displayName": "Grettel Barceló Alonso",
      "userId": "01577411478517144249"
     },
     "user_tz": 360
    },
    "id": "6b90CH9v0Jrs",
    "outputId": "8d576cf2-3466-4db3-f280-e543d389840b"
   },
   "outputs": [
    {
     "name": "stdout",
     "output_type": "stream",
     "text": [
      "Best degree 2 with RMSE 20.937707839078755\n"
     ]
    },
    {
     "data": {
      "text/plain": [
       "Text(0, 0.5, 'RMSE')"
      ]
     },
     "execution_count": 20,
     "metadata": {},
     "output_type": "execute_result"
    },
    {
     "data": {
      "image/png": "[encoded data removed]",
      "text/plain": [
       "<Figure size 640x480 with 1 Axes>"
      ]
     },
     "metadata": {},
     "output_type": "display_data"
    }
   ],
   "source": [
    "rmses = []\n",
    "degrees = np.arange(1, 10)\n",
    "min_rmse, min_deg = 1e10, 0\n",
    "\n",
    "for deg in degrees:\n",
    "\n",
    "    poly_reg_model = make_pipeline(PolynomialFeatures(degree=deg, include_bias=False), LinearRegression())\n",
    "    poly_reg_model.fit(X_train, y_train)\n",
    "    poly_reg_y_predicted = poly_reg_model.predict(X_test)\n",
    "\n",
    "    poly_reg_rmse = np.sqrt(mean_squared_error(y_test, poly_reg_y_predicted))    \n",
    "    rmses.append(poly_reg_rmse)\n",
    "\n",
    "    # Cross-validation of degree\n",
    "    if min_rmse > poly_reg_rmse:\n",
    "        min_rmse = poly_reg_rmse\n",
    "        min_deg = deg\n",
    "\n",
    "# Plot and present results\n",
    "print('Best degree {} with RMSE {}'.format(min_deg, min_rmse))\n",
    "        \n",
    "plt.plot(degrees, rmses)\n",
    "plt.yscale('log')\n",
    "plt.xlabel('Degree')\n",
    "plt.ylabel('RMSE')"
   ]
  }
 ],
 "metadata": {
  "colab": {
   "provenance": []
  },
  "kernelspec": {
   "display_name": "Python 3 (ipykernel)",
   "language": "python",
   "name": "python3"
  },
  "language_info": {
   "codemirror_mode": {
    "name": "ipython",
    "version": 3
   },
   "file_extension": ".py",
   "mimetype": "text/x-python",
   "name": "python",
   "nbconvert_exporter": "python",
   "pygments_lexer": "ipython3",
   "version": "3.11.9"
  },
  "nav_menu": {
   "height": "279px",
   "width": "309px"
  },
  "toc": {
   "nav_menu": {},
   "number_sections": true,
   "sideBar": true,
   "skip_h1_title": false,
   "toc_cell": false,
   "toc_position": {},
   "toc_section_display": "block",
   "toc_window_display": false
  }
 },
 "nbformat": 4,
 "nbformat_minor": 4
}

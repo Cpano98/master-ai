{
  "cells": [
    {
      "cell_type": "code",
      "execution_count": 1,
      "metadata": {
        "id": "0b-wmXFGdQog"
      },
      "outputs": [],
      "source": [
        "import numpy as np\n",
        "import pandas as pd\n",
        "\n",
        "import re             # importamos \"re\" para el manejo de las expresiones regulares.\n"
      ]
    },
    {
      "cell_type": "code",
      "execution_count": 2,
      "metadata": {
        "id": "oTz0xKwHocQV"
      },
      "outputs": [
        {
          "data": {
            "text/html": [
              "<div>\n",
              "<style scoped>\n",
              "    .dataframe tbody tr th:only-of-type {\n",
              "        vertical-align: middle;\n",
              "    }\n",
              "\n",
              "    .dataframe tbody tr th {\n",
              "        vertical-align: top;\n",
              "    }\n",
              "\n",
              "    .dataframe thead th {\n",
              "        text-align: right;\n",
              "    }\n",
              "</style>\n",
              "<table border=\"1\" class=\"dataframe\">\n",
              "  <thead>\n",
              "    <tr style=\"text-align: right;\">\n",
              "      <th></th>\n",
              "      <th>comentarios</th>\n",
              "    </tr>\n",
              "  </thead>\n",
              "  <tbody>\n",
              "    <tr>\n",
              "      <th>0</th>\n",
              "      <td>Uno de los otros críticos ha mencionado que de...</td>\n",
              "    </tr>\n",
              "    <tr>\n",
              "      <th>1</th>\n",
              "      <td>Una pequeña pequeña producción.La técnica de f...</td>\n",
              "    </tr>\n",
              "    <tr>\n",
              "      <th>2</th>\n",
              "      <td>Pensé que esta era una manera maravillosa de p...</td>\n",
              "    </tr>\n",
              "    <tr>\n",
              "      <th>3</th>\n",
              "      <td>Básicamente, hay una familia donde un niño peq...</td>\n",
              "    </tr>\n",
              "    <tr>\n",
              "      <th>4</th>\n",
              "      <td>El \"amor en el tiempo\" de Petter Mattei es una...</td>\n",
              "    </tr>\n",
              "    <tr>\n",
              "      <th>...</th>\n",
              "      <td>...</td>\n",
              "    </tr>\n",
              "    <tr>\n",
              "      <th>1695</th>\n",
              "      <td>Nunca había oído hablar de esta película, pero...</td>\n",
              "    </tr>\n",
              "    <tr>\n",
              "      <th>1696</th>\n",
              "      <td>Teamo Supremo son tres hijos, que consiste en ...</td>\n",
              "    </tr>\n",
              "    <tr>\n",
              "      <th>1697</th>\n",
              "      <td>No puedo creer lo popular que es este espectác...</td>\n",
              "    </tr>\n",
              "    <tr>\n",
              "      <th>1698</th>\n",
              "      <td>Después de 10 visitas en 20 años, yo también c...</td>\n",
              "    </tr>\n",
              "    <tr>\n",
              "      <th>1699</th>\n",
              "      <td>Si me gustas, disfrutaste de la primera pelícu...</td>\n",
              "    </tr>\n",
              "  </tbody>\n",
              "</table>\n",
              "<p>1700 rows × 1 columns</p>\n",
              "</div>"
            ],
            "text/plain": [
              "                                            comentarios\n",
              "0     Uno de los otros críticos ha mencionado que de...\n",
              "1     Una pequeña pequeña producción.La técnica de f...\n",
              "2     Pensé que esta era una manera maravillosa de p...\n",
              "3     Básicamente, hay una familia donde un niño peq...\n",
              "4     El \"amor en el tiempo\" de Petter Mattei es una...\n",
              "...                                                 ...\n",
              "1695  Nunca había oído hablar de esta película, pero...\n",
              "1696  Teamo Supremo son tres hijos, que consiste en ...\n",
              "1697  No puedo creer lo popular que es este espectác...\n",
              "1698  Después de 10 visitas en 20 años, yo también c...\n",
              "1699  Si me gustas, disfrutaste de la primera pelícu...\n",
              "\n",
              "[1700 rows x 1 columns]"
            ]
          },
          "execution_count": 2,
          "metadata": {},
          "output_type": "execute_result"
        }
      ],
      "source": [
        "pddata = pd.read_csv(\"IMDB_Dataset_Spanish.csv\",\n",
        "                   header='infer',\n",
        "                   engine='python'\n",
        "                   )\n",
        "\n",
        "pddata  # DataFrame"
      ]
    },
    {
      "cell_type": "code",
      "execution_count": 3,
      "metadata": {
        "id": "dhMVov3V7qaJ"
      },
      "outputs": [
        {
          "data": {
            "text/plain": [
              "'Una pequeña pequeña producción.La técnica de filmación es muy incuestionable, muy antigua, la moda de la BBC y le da una sensación de realismo reconfortante, y, a veces, incómodo, y, a veces, a la pieza.Los actores son extremadamente bien elegidos, Michael Sheen, no solo \"tiene todo el polari\", ¡pero tiene todas las voces por palmaditas!Realmente puede ver la edición perfecta guiada por las referencias a las entradas del diario de Williams, no solo vale la pena la observación, pero es una pieza imperrementemente escrita y realizada.Una producción magistral sobre uno de los grandes maestros de la comedia y su vida.El realismo realmente llega a casa con las pequeñas cosas: la fantasía del guardia que, en lugar de usar las técnicas de \"sueño\" tradicionales permanece sólido, entonces desaparece.Se desempeña nuestro conocimiento y nuestros sentidos, particularmente con las escenas relacionadas con Orton y Halliwell y los conjuntos (particularmente de su apartamento con murales de Halliwell que decoran cada superficie) están terriblemente bien hechos.'"
            ]
          },
          "execution_count": 3,
          "metadata": {},
          "output_type": "execute_result"
        }
      ],
      "source": [
        "pddata.iloc[1,0]"
      ]
    },
    {
      "cell_type": "code",
      "execution_count": 4,
      "metadata": {
        "colab": {
          "base_uri": "https://localhost:8080/"
        },
        "id": "8UDABucm8E4Y",
        "outputId": "1f2acdfd-bc19-4ab8-ec8d-1369f0a4098d"
      },
      "outputs": [
        {
          "data": {
            "text/plain": [
              "(1700, 1)"
            ]
          },
          "execution_count": 4,
          "metadata": {},
          "output_type": "execute_result"
        }
      ],
      "source": [
        "pddata.shape"
      ]
    },
    {
      "cell_type": "code",
      "execution_count": 5,
      "metadata": {
        "id": "FmIYWa_aOfVh"
      },
      "outputs": [
        {
          "data": {
            "text/plain": [
              "'Phil El alienígena es una de esas películas peculiares donde el humor se basa en la rareza de todo en lugar de los Punchlines reales. En primer lugar, fue muy extraño y bastante divertido, pero a medida que avanzaba la película. Ya no encontré los chistes o la rareza.Es una película de bajo presupuesto (eso nunca es un problema en sí mismo), hubo algunos personajes bastante interesantes, pero eventualmente acabo de perder interés. Me imagino que esta película atraería a un Stoner que participe actualmente. Para algo similar, pero mejor intente \"hermanode otro planeta \"'"
            ]
          },
          "execution_count": 5,
          "metadata": {},
          "output_type": "execute_result"
        }
      ],
      "source": [
        "tt = pddata.iloc[10,0]   # 10, 11, 18\n",
        "tt     # string"
      ]
    },
    {
      "cell_type": "code",
      "execution_count": 6,
      "metadata": {
        "id": "r8IrpsVX-zjy"
      },
      "outputs": [],
      "source": [
        "# Buscar los lugares donde no se incluyó un espacio en blanco después del\n",
        "# punto y seguido:\n",
        "\n",
        "None\n"
      ]
    },
    {
      "cell_type": "code",
      "execution_count": 7,
      "metadata": {
        "colab": {
          "base_uri": "https://localhost:8080/",
          "height": 87
        },
        "id": "MlWJWck9PMMR",
        "outputId": "ee3326f3-3442-4e6d-c2fb-5f0119209ae6"
      },
      "outputs": [],
      "source": [
        "# Verifica que solo exista un espacio en blanco después de un punto y seguido.\n",
        "\n",
        "\n",
        "None\n",
        "\n"
      ]
    },
    {
      "cell_type": "code",
      "execution_count": 8,
      "metadata": {
        "id": "j264k4r0_xaa"
      },
      "outputs": [],
      "source": [
        "# Encuentra todas las vocales acentuadas o con diéresis:\n",
        "\n",
        "None\n",
        "\n"
      ]
    },
    {
      "cell_type": "code",
      "execution_count": 9,
      "metadata": {
        "id": "ouC1-G3oUn3a"
      },
      "outputs": [],
      "source": [
        "# Encuentra todas las vocales acentuadas y con diéresis, con toda la palabra completa:\n",
        "\n",
        "None\n",
        "\n"
      ]
    },
    {
      "cell_type": "code",
      "execution_count": 10,
      "metadata": {
        "id": "FSHiA4gqEpMU"
      },
      "outputs": [
        {
          "data": {
            "text/plain": [
              "1700"
            ]
          },
          "execution_count": 10,
          "metadata": {},
          "output_type": "execute_result"
        }
      ],
      "source": [
        "# DataFrame a Lista:\n",
        "\n",
        "# Podemos transformar los comentarios a una lista de Strings,\n",
        "# en lugar de un DataFrame:\n",
        "\n",
        "listdata = pddata['comentarios'].tolist()\n",
        "\n",
        "len(listdata)"
      ]
    },
    {
      "cell_type": "code",
      "execution_count": 11,
      "metadata": {
        "id": "PGDLFuDBG7M0"
      },
      "outputs": [
        {
          "data": {
            "text/plain": [
              "'Si te gusta la risa original desgarradora, te gustará esta película.Si eres joven o viejo, te encantará esta película, el infierno, incluso a mi mamá le gustó. ¡¡¡Campamento de Great !!!'"
            ]
          },
          "execution_count": 11,
          "metadata": {},
          "output_type": "execute_result"
        }
      ],
      "source": [
        "listdata[9]   # seleccionemos alguno de los comentarios"
      ]
    },
    {
      "cell_type": "code",
      "execution_count": 12,
      "metadata": {
        "id": "usrklW92IV9w"
      },
      "outputs": [
        {
          "data": {
            "text/plain": [
              "['Si',\n",
              " 'te',\n",
              " 'gusta',\n",
              " 'la',\n",
              " 'risa',\n",
              " 'original',\n",
              " 'desgarradora,',\n",
              " 'te',\n",
              " 'gustará',\n",
              " 'esta',\n",
              " 'película.Si',\n",
              " 'eres',\n",
              " 'joven',\n",
              " 'o',\n",
              " 'viejo,',\n",
              " 'te',\n",
              " 'encantará',\n",
              " 'esta',\n",
              " 'película,',\n",
              " 'el',\n",
              " 'infierno,',\n",
              " 'incluso',\n",
              " 'a',\n",
              " 'mi',\n",
              " 'mamá',\n",
              " 'le',\n",
              " 'gustó.',\n",
              " '¡¡¡Campamento',\n",
              " 'de',\n",
              " 'Great',\n",
              " '!!!']"
            ]
          },
          "execution_count": 12,
          "metadata": {},
          "output_type": "execute_result"
        }
      ],
      "source": [
        "listdata[9].split()   # por paralabra de manera predeterminada por espacio en blanco\n",
        "\n",
        "#listdata[9].split('.')      #  separar por punto"
      ]
    },
    {
      "cell_type": "markdown",
      "metadata": {
        "id": "ju0sM1ACgSKs"
      },
      "source": [
        "### **Trata de inferir qué hacen las siguientes instrucciones antes de ejecutarlas:**"
      ]
    },
    {
      "cell_type": "code",
      "execution_count": 13,
      "metadata": {
        "id": "_Krl0RpWEATT"
      },
      "outputs": [
        {
          "name": "stdout",
          "output_type": "stream",
          "text": [
            "Cadenas de caracteres encontradas: ['logrado!!', 'BRAVO!!!!!!!!', 'decepcionado!!', 'gente!!!', 'pena!!', 'eso!!', 'absoluto!!', 'JAJAJA!!', 'Paja!!!', 'GUAU!!', 'ENCANTÓ!!!', 'DISTANCIA!!!', 'ésto!!', 'deseas!!!', 'historia!!!!!', 'TERRIBLE!!!', 'peor!!!']\n",
            "Total de cadenas de caracteres encontrados: 17\n"
          ]
        }
      ],
      "source": [
        "Q=[]\n",
        "\n",
        "for doc in listdata:\n",
        "  tmp = re.findall(r'\\w+!{2,}', doc)      # <<<<<<<<<<<<<<<<<\n",
        "  if tmp:\n",
        "    Q = Q + tmp\n",
        "\n",
        "print('Cadenas de caracteres encontradas:', Q)\n",
        "print('Total de cadenas de caracteres encontrados:', len(Q))"
      ]
    },
    {
      "cell_type": "code",
      "execution_count": 14,
      "metadata": {
        "id": "f5B3IhhFan5a"
      },
      "outputs": [
        {
          "name": "stdout",
          "output_type": "stream",
          "text": [
            "Cadenas de caracteres encontradas: [' !!!! ', ' !!!! ', ' !! ', ' ! ', ' !! ', ' !! ', ' !!! ', ' !!! ', ' !! ', ' !!! ', ' !!! ', ' !! ', ' !! ', ' !!! ', ' !! ', ' !!! ', ' !!!! ', ' ! ', ' !!!! ', ' !!!! ', ' !! ', ' ! ', ' !! ', ' !!!! ', ' !! ', ' ! ', ' !!! ', ' !! ', ' !!! ', ' !!!! ', ' !!!! ']\n",
            "Total de cadenas de caracteres encontrados: 31\n"
          ]
        }
      ],
      "source": [
        "# Signos \"!\"\" con espacios en blanco antes y después:\n",
        "\n",
        "Q=[]\n",
        "\n",
        "for doc in listdata:\n",
        "  tmp = re.findall(r'\\s!{1,}\\s', doc)    # <<<<<<<<<<<<<<<<<\n",
        "  if tmp:\n",
        "    Q = Q + tmp\n",
        "\n",
        "print('Cadenas de caracteres encontradas:', Q)\n",
        "print('Total de cadenas de caracteres encontrados:', len(Q))"
      ]
    },
    {
      "cell_type": "code",
      "execution_count": 15,
      "metadata": {
        "id": "5XfUimLzbPQj"
      },
      "outputs": [
        {
          "name": "stdout",
          "output_type": "stream",
          "text": [
            "Cadenas de caracteres encontradas: ['¡¡¡Campamento de Great !!!', '¡¡logrado!!', '¡¡¡¡¡¡¡¡BRAVO!!!!!!!!', '¡¡Yo estaba muy decepcionado!!', '¡¡¡Pero la gente!!!\"El escalofrío\" no es gracioso y ni siquiera es \"interesante\".Es una película de terror extremadamente aburrida sin nada, lo que hace que las películas malas se vean.No hay actuación, sin guión, sin dirección, sin emociones y ni sangre ni sangre.Es una película amateurizada extremadamente inept.Definitivamente es la peor película que había visto (y había visto muchas \"peores películas\", créeme).Te lo adverti !!!', '¡¡Qué pena!!', '¡¡No me esperaba eso!! ¡¡En absoluto!!', '¡¡JAJAJA!!', '¡¡¡Paja!!!', '¡¡GUAU!! ¡Habla de una película que divide la audiencia! Este es un verdadero amor, o Loath it, un poco película. Personalmente realmente lo disfruté. Noté que otras revisiones lo están comparando para lanzar negro, esto es un poco mudo, ya que lo único que tienen en común es la arena. La gente puede ser real estúpida. No, esta película es mucho más en común con la cosa (cómo las personas no se dan cuenta de que son increíbles, incluso tienen la misma música básica), hay muchos toques de carpintero, héroes de cuello azul, humor afilado, paisajes rodantes sin fin llenos de muerte y Cosas no entendidas. Quizás lo que detiene a esta película es un verdadero clásico es que es deferencia a otras obras de carpintero. No menos energía oscura con la que tiene algo en común. Me interesaría saber cuánto realmente costó? $ 8000? ¿Es eso incluso posible? Tal vez se basó en un cortometraje que cuesta $ 8000? Pero me encontré extrañamente movido cuando los diversos tipos espaciales murieron. Están tan subestimados que es como ver a un documental a veces. Habiendo dicho que el guión es un poco clido y solo alrededor de la mitad de ellos puede actuar sin embargo y no estoy seguro de que el tipo grande tocando al capitán sea uno de ellos. ¡¡Pero su arma es increíble !!', '¡¡¡ME ENCANTÓ!!!', '¡¡¡BOMBAS DE DISTANCIA!!!', '¡¡¡¿QUÉ?!!!', \"¡¡Qué es ésto!!es muy malo.La animación se ve tan terrible, parece un juego de tipo PS1.Los actores son horribles, simplemente no pueden actuar para salvar sus vidas.Me senté a través de toda esta película y luego al final me molesté cuando me di cuenta de que había desperdiciado 3 horas de mi vida.No he oído hablar de esta película, ¿alguna vez salió en el cine o se fue directamente a DVD?¿Una niña se disparó?!Lo que pasa con eso, fue solo una película estúpida.Copiaban totalmente 'el día siguiente'.Tiene que ser una de las peores películas que he visto.Definitivamente recomendaría a las personas que no pierdas el tiempo con esto.Podrías pasar tu tiempo mirando 'el día después de mañana', es mucho mejor.Bueno, eso es lo que pienso en la película.En realidad, ¿por qué he perdido el tiempo escribiendo en ello, AH Dam !!\", '¡¡¡¡¡¡¡¡¡¡¡¡¡¡¡¡¡¡¡¡¡¡¡¡¡¡¡¡¡¡¡¡¡¡¡¡Esta película es tan mal! Nunca pensé que esta película podría acercarse alguna vez a mi película menos favorita como lo hizo, pero me reí, porque todas las bromas eran tan cursianas y ridículas.¡¡¡¡¡¡¡¡¡¡¡¡¡¡¡¡¡¡¡¡¡¡¡Muchas cosas en esta película fue divertido, porque era tan estúpido! Esta película no está cerca de Good. Tendría que decir si quieres ver esta película, definitivamente no esperes.Algo grande y si ya lo has visto, confía en mí, ¡Siento tu dolor también !!!!', '¡¡¡Tener cuidado con lo que deseas!!!', '¡¡¡¡¡la mejor pelicula de la historia!!!!!', '¡¡¡TERRIBLE!!!¡¡¡Lo peor!!!']\n",
            "Total de cadenas de caracteres encontrados: 18\n"
          ]
        }
      ],
      "source": [
        "# palabras con dos o más signos de admiración al principio y al final de una palabra:\n",
        "\n",
        "Q=[]\n",
        "\n",
        "for doc in listdata:\n",
        "  tmp = re.findall(r'¡{2,}.+!{2,}', doc)       # <<<<<<<<<<<<<<<<<\n",
        "  if tmp:\n",
        "    Q = Q + tmp\n",
        "\n",
        "print('Cadenas de caracteres encontradas:', Q)\n",
        "print('Total de cadenas de caracteres encontrados:', len(Q))"
      ]
    },
    {
      "cell_type": "code",
      "execution_count": 16,
      "metadata": {
        "colab": {
          "base_uri": "https://localhost:8080/",
          "height": 35
        },
        "id": "OTPn4eFQtYZs",
        "outputId": "309e3cc7-09cd-4b75-95a3-958a58f59030"
      },
      "outputs": [
        {
          "data": {
            "text/plain": [
              "'Picasso nació en Espagna.'"
            ]
          },
          "execution_count": 16,
          "metadata": {},
          "output_type": "execute_result"
        }
      ],
      "source": [
        "\n",
        "re.sub('ñ', 'gn', 'Picasso nació en España.')"
      ]
    },
    {
      "cell_type": "code",
      "execution_count": 17,
      "metadata": {
        "colab": {
          "base_uri": "https://localhost:8080/",
          "height": 35
        },
        "id": "RZqcu96v-qMw",
        "outputId": "f4d308ed-fc40-40a8-cc59-0615bf37a714"
      },
      "outputs": [
        {
          "data": {
            "text/plain": [
              "'Hola.'"
            ]
          },
          "execution_count": 17,
          "metadata": {},
          "output_type": "execute_result"
        }
      ],
      "source": [
        "\n",
        "re.sub('o+', 'o', 'Hoooola.')"
      ]
    }
  ],
  "metadata": {
    "colab": {
      "provenance": []
    },
    "kernelspec": {
      "display_name": "master-ai-tec",
      "language": "python",
      "name": "python3"
    },
    "language_info": {
      "codemirror_mode": {
        "name": "ipython",
        "version": 3
      },
      "file_extension": ".py",
      "mimetype": "text/x-python",
      "name": "python",
      "nbconvert_exporter": "python",
      "pygments_lexer": "ipython3",
      "version": "3.12.5"
    }
  },
  "nbformat": 4,
  "nbformat_minor": 0
}

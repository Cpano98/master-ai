{
  "cells": [
    {
      "cell_type": "markdown",
      "metadata": {
        "id": "a-u2MSiFYLmT"
      },
      "source": [
        "#**Maestría en Inteligencia Artificial Aplicada (MNA)**\n",
        "##**Procesamiento de Lenguaje Natural (NLP)**\n",
        "###Prof. Luis Eduardo Falcón Morales\n",
        "###**Semana 2 - Ejercicios Complementarios**\n",
        "### Iniciando el procesamiento con texto: tipos de datos de texto.\n",
        "\n",
        "###**NOTA: Estos ejercicios son simplemente para que repases los conceptos de esta semana. No es una tarea o actividad que debas entregar con base a lo que realices en este cuaderno de notas.**\n"
      ]
    },
    {
      "cell_type": "markdown",
      "metadata": {
        "id": "wpgrXL1nQ50n"
      },
      "source": [
        "##**Cadena de caracteres (String)**"
      ]
    },
    {
      "cell_type": "markdown",
      "metadata": {
        "id": "OR5_keKxcivo"
      },
      "source": [
        "Para el procesamiento y análisis de documentos de texto, uno de los tipos de datos más usuales es la cadena de caracteres, o \"string\" por su nombre en inglés. Es común también en español referirnos a este tipo de datos simplemente como \"string\".\n",
        "\n",
        "La manera estándar de introducir una frase es mediante dobles comillas:\n",
        "\n"
      ]
    },
    {
      "cell_type": "code",
      "execution_count": 1,
      "metadata": {
        "id": "PLAJI7eEPSBG"
      },
      "outputs": [
        {
          "data": {
            "text/plain": [
              "'Vine a Comala porque me dijeron que acá vivía mi padre, un tal Pedro Páramo. Mi madre me lo dijo.'"
            ]
          },
          "execution_count": 1,
          "metadata": {},
          "output_type": "execute_result"
        }
      ],
      "source": [
        "doc = \"Vine a Comala porque me dijeron que acá vivía mi padre, un tal Pedro Páramo. Mi madre me lo dijo.\" \n",
        "\n",
        "doc  # es un String (str)"
      ]
    },
    {
      "cell_type": "code",
      "execution_count": 2,
      "metadata": {
        "id": "Zar2O9_SvM2s"
      },
      "outputs": [
        {
          "data": {
            "text/plain": [
              "str"
            ]
          },
          "execution_count": 2,
          "metadata": {},
          "output_type": "execute_result"
        }
      ],
      "source": [
        "type(doc)   # Podemos verificar el tipo de dato de cualquier objeto de Python con esta función."
      ]
    },
    {
      "cell_type": "code",
      "execution_count": 3,
      "metadata": {
        "id": "ni5SrmKeTK9u"
      },
      "outputs": [
        {
          "data": {
            "text/plain": [
              "'e'"
            ]
          },
          "execution_count": 3,
          "metadata": {},
          "output_type": "execute_result"
        }
      ],
      "source": [
        "doc[3]  # podemos tener acceso a cada caracter individual, los cuales están indexados a partir del primer caracter que incia con 0."
      ]
    },
    {
      "cell_type": "code",
      "execution_count": 4,
      "metadata": {
        "id": "Pk1kR0CxTPBb"
      },
      "outputs": [
        {
          "data": {
            "text/plain": [
              "'Vine a Co'"
            ]
          },
          "execution_count": 4,
          "metadata": {},
          "output_type": "execute_result"
        }
      ],
      "source": [
        "doc[:9]   # la notación de \":\" nos permite definir un rango, en este caso del índice 0 al 8 (9-1)."
      ]
    },
    {
      "cell_type": "code",
      "execution_count": 5,
      "metadata": {
        "id": "NhfLhE6vTtzL"
      },
      "outputs": [
        {
          "data": {
            "text/plain": [
              "'.'"
            ]
          },
          "execution_count": 5,
          "metadata": {},
          "output_type": "execute_result"
        }
      ],
      "source": [
        "doc[-1]   # también podemos usar índices negativos..."
      ]
    },
    {
      "cell_type": "code",
      "execution_count": 6,
      "metadata": {
        "id": "0bxgRDEqTh0d"
      },
      "outputs": [
        {
          "data": {
            "text/plain": [
              "'lo dijo'"
            ]
          },
          "execution_count": 6,
          "metadata": {},
          "output_type": "execute_result"
        }
      ],
      "source": [
        "doc[-8:-1]"
      ]
    },
    {
      "cell_type": "code",
      "execution_count": 50,
      "metadata": {
        "id": "N8ZVFBiZQ_Oh"
      },
      "outputs": [
        {
          "data": {
            "text/plain": [
              "136"
            ]
          },
          "execution_count": 50,
          "metadata": {},
          "output_type": "execute_result"
        }
      ],
      "source": [
        "len(doc) # podemos obtener el total de caracteres... reucerda que los espacios en blanco también son caracteres."
      ]
    },
    {
      "cell_type": "code",
      "execution_count": 8,
      "metadata": {
        "id": "sz_8pGquRJp_"
      },
      "outputs": [
        {
          "data": {
            "text/plain": [
              "'vine a comala porque me dijeron que acá vivía mi padre, un tal pedro páramo. mi madre me lo dijo.'"
            ]
          },
          "execution_count": 8,
          "metadata": {},
          "output_type": "execute_result"
        }
      ],
      "source": [
        "doc.lower()   # podemos transformar todo a minúsculas..."
      ]
    },
    {
      "cell_type": "code",
      "execution_count": 9,
      "metadata": {
        "id": "HjXi2prewvtq"
      },
      "outputs": [
        {
          "data": {
            "text/plain": [
              "'VINE A COMALA PORQUE ME DIJERON QUE ACÁ VIVÍA MI PADRE, UN TAL PEDRO PÁRAMO. MI MADRE ME LO DIJO.'"
            ]
          },
          "execution_count": 9,
          "metadata": {},
          "output_type": "execute_result"
        }
      ],
      "source": [
        "doc.upper()    # o todo a mayúsculas."
      ]
    },
    {
      "cell_type": "code",
      "execution_count": 10,
      "metadata": {
        "id": "iRc6BuW6VHsQ"
      },
      "outputs": [
        {
          "data": {
            "text/plain": [
              "'Hola mundo'"
            ]
          },
          "execution_count": 10,
          "metadata": {},
          "output_type": "execute_result"
        }
      ],
      "source": [
        "# Podemos hacer algunas operaciones entre strings:\n",
        "\n",
        "x = \"Hola\"\n",
        "y = 'mundo'\n",
        "\n",
        "x + ' ' + y\n",
        "\n"
      ]
    },
    {
      "cell_type": "markdown",
      "metadata": {
        "id": "JN2B1aqTxqNA"
      },
      "source": [
        "También se pueden usar comillas sencillas para definir una cadena de caracteres o string:"
      ]
    },
    {
      "cell_type": "code",
      "execution_count": 11,
      "metadata": {
        "id": "EZpRcL_wXWIe"
      },
      "outputs": [
        {
          "data": {
            "text/plain": [
              "'¡Buenos días, Señor Sol!'"
            ]
          },
          "execution_count": 11,
          "metadata": {},
          "output_type": "execute_result"
        }
      ],
      "source": [
        "w = '¡Buenos días, Señor Sol!'\n",
        "\n",
        "w"
      ]
    },
    {
      "cell_type": "markdown",
      "metadata": {
        "id": "4dYulpkEyVU5"
      },
      "source": [
        "Sin embargo, si dentro del enunciado se requieren usar comillas sencillas, no podemos usarlas con el mismo tipo de comillas del string porque se genera un error de sintaxis. \n",
        "\n",
        "Así, en el caso de que el enunciado requiera el uso de comillas, se puede proceder de cualquiera de las formas que se muestran en el ejemplo siguiente:"
      ]
    },
    {
      "cell_type": "code",
      "execution_count": 12,
      "metadata": {
        "id": "GzGKKwolx--C"
      },
      "outputs": [
        {
          "name": "stdout",
          "output_type": "stream",
          "text": [
            "Y me preguntó, '¿qué te pasó?', a lo cual no supe contestar.\n",
            "Y me preguntó, \"¿qué te pasó?\", a lo cual no supe contestar.\n",
            "Y me preguntó, '¿qué te pasó?', a lo cual no supe contestar.\n"
          ]
        }
      ],
      "source": [
        "t1 = \"Y me preguntó, '¿qué te pasó?', a lo cual no supe contestar.\"   # intenta ejecutar esta instrucción usando solamente comillas sencillas\"\n",
        "\n",
        "t2 = 'Y me preguntó, \"¿qué te pasó?\", a lo cual no supe contestar.'\n",
        "\n",
        "t3 = 'Y me preguntó, \\'¿qué te pasó?\\', a lo cual no supe contestar.'\n",
        "\n",
        "print(t1)\n",
        "print(t2)\n",
        "print(t3)"
      ]
    },
    {
      "cell_type": "markdown",
      "metadata": {
        "id": "LSKexgxmtjYO"
      },
      "source": [
        "##**Listas y segmentación con Python: split(), strip()**"
      ]
    },
    {
      "cell_type": "markdown",
      "metadata": {
        "id": "tTwXaC8QstX7"
      },
      "source": [
        "Puedes encontrar más información en la documentación de los métodos \"split()\" y \"strip()\" de Python, en las siguientes ligas:\n",
        "\n",
        "https://python-reference.readthedocs.io/en/latest/docs/str/split.html \n",
        "\n",
        "https://python-reference.readthedocs.io/en/latest/docs/str/strip.html \n",
        "\n",
        "Al aplicar el método \"split()\" obtenemos una lista de strings y al aplicar el método \"strip()\" obtenemos un string."
      ]
    },
    {
      "cell_type": "code",
      "execution_count": 13,
      "metadata": {
        "id": "TiAucTxYltCW"
      },
      "outputs": [
        {
          "name": "stdout",
          "output_type": "stream",
          "text": [
            "Aquel caracol\n",
            "Que va por el sol\n",
            "En cada ramita\n",
            "Lleva una flor.\n",
            "\n",
            "Que viva la gracia\n",
            "Que viva el amor\n",
            "Que viva la gracia\n",
            "De aquel caracol.\n"
          ]
        }
      ],
      "source": [
        "# Definamos el siguiente string con el siguiente poema infantil-\n",
        "# Observa que estamos utilizando el salto de línea (new line) \"\\n\":\n",
        "\n",
        "doc = \"Aquel caracol\\nQue va por el sol\\nEn cada ramita\\nLleva una flor.\\n\\nQue viva la gracia\\nQue viva el amor\\nQue viva la gracia\\nDe aquel caracol.\"\n",
        "\n",
        "print(doc)\n"
      ]
    },
    {
      "cell_type": "code",
      "execution_count": 14,
      "metadata": {
        "id": "4MY62a1elLbW"
      },
      "outputs": [
        {
          "data": {
            "text/plain": [
              "136"
            ]
          },
          "execution_count": 14,
          "metadata": {},
          "output_type": "execute_result"
        }
      ],
      "source": [
        "len(doc)"
      ]
    },
    {
      "cell_type": "code",
      "execution_count": 15,
      "metadata": {
        "id": "cKY0uWwIpNJy"
      },
      "outputs": [
        {
          "data": {
            "text/plain": [
              "['Aquel',\n",
              " 'caracol',\n",
              " 'Que',\n",
              " 'va',\n",
              " 'por',\n",
              " 'el',\n",
              " 'sol',\n",
              " 'En',\n",
              " 'cada',\n",
              " 'ramita',\n",
              " 'Lleva',\n",
              " 'una',\n",
              " 'flor.',\n",
              " 'Que',\n",
              " 'viva',\n",
              " 'la',\n",
              " 'gracia',\n",
              " 'Que',\n",
              " 'viva',\n",
              " 'el',\n",
              " 'amor',\n",
              " 'Que',\n",
              " 'viva',\n",
              " 'la',\n",
              " 'gracia',\n",
              " 'De',\n",
              " 'aquel',\n",
              " 'caracol.']"
            ]
          },
          "execution_count": 15,
          "metadata": {},
          "output_type": "execute_result"
        }
      ],
      "source": [
        "milista = doc.split()   # Como valor predeterminado separa por espacios en blanco \" \" y saltos de línea \"\\n\".\n",
        "\n",
        "milista  # Ahora tenemos una lista, la cual se identifica por las corcheas al inicio y al final de la lista de strings."
      ]
    },
    {
      "cell_type": "code",
      "execution_count": 16,
      "metadata": {
        "id": "zqZ92mxylPgW"
      },
      "outputs": [
        {
          "data": {
            "text/plain": [
              "28"
            ]
          },
          "execution_count": 16,
          "metadata": {},
          "output_type": "execute_result"
        }
      ],
      "source": [
        "len(milista)   # Este es el total de palabras (tokens) que tenemos en esta lista."
      ]
    },
    {
      "cell_type": "code",
      "execution_count": 17,
      "metadata": {
        "id": "iSfA7qLh0cus"
      },
      "outputs": [
        {
          "data": {
            "text/plain": [
              "'caracol'"
            ]
          },
          "execution_count": 17,
          "metadata": {},
          "output_type": "execute_result"
        }
      ],
      "source": [
        "milista[1]    # Y podemos accesar cada palabra (token) de la lista con el índice correspondiente."
      ]
    },
    {
      "cell_type": "code",
      "execution_count": 18,
      "metadata": {
        "id": "d5ngMgfYvf80"
      },
      "outputs": [
        {
          "data": {
            "text/plain": [
              "list"
            ]
          },
          "execution_count": 18,
          "metadata": {},
          "output_type": "execute_result"
        }
      ],
      "source": [
        "type(milista)   # Recuerda que también puedes verificar el tipo de dato con esta instrucción."
      ]
    },
    {
      "cell_type": "markdown",
      "metadata": {
        "id": "uhn6OLCB8R5i"
      },
      "source": [
        "Regresando con la cadena de caracteres (string) y para entender mejor la manera en que puede aplicarse el método \"split()\", podemos aplicar las siguientes variantes:"
      ]
    },
    {
      "cell_type": "code",
      "execution_count": 19,
      "metadata": {
        "id": "XEKP3CmZqOFU"
      },
      "outputs": [
        {
          "data": {
            "text/plain": [
              "['Aquel caracol',\n",
              " 'Que va por el sol',\n",
              " 'En cada ramita',\n",
              " 'Lleva una flor.',\n",
              " '',\n",
              " 'Que viva la gracia',\n",
              " 'Que viva el amor',\n",
              " 'Que viva la gracia',\n",
              " 'De aquel caracol.']"
            ]
          },
          "execution_count": 19,
          "metadata": {},
          "output_type": "execute_result"
        }
      ],
      "source": [
        "doc.split('\\n')   # Si segmentamos por salto de línea de manera explícita, los espacios en blanco ya no se toman en cuenta."
      ]
    },
    {
      "cell_type": "code",
      "execution_count": 20,
      "metadata": {
        "id": "0v-24syFqtXa"
      },
      "outputs": [
        {
          "data": {
            "text/plain": [
              "['Aquel',\n",
              " 'caracol\\nQue',\n",
              " 'va',\n",
              " 'por',\n",
              " 'el',\n",
              " 'sol\\nEn',\n",
              " 'cada',\n",
              " 'ramita\\nLleva',\n",
              " 'una',\n",
              " 'flor.\\n\\nQue',\n",
              " 'viva',\n",
              " 'la',\n",
              " 'gracia\\nQue',\n",
              " 'viva',\n",
              " 'el',\n",
              " 'amor\\nQue',\n",
              " 'viva',\n",
              " 'la',\n",
              " 'gracia\\nDe',\n",
              " 'aquel',\n",
              " 'caracol.']"
            ]
          },
          "execution_count": 20,
          "metadata": {},
          "output_type": "execute_result"
        }
      ],
      "source": [
        "doc.split(' ')    # O bien separar solamente por espacios en blanco."
      ]
    },
    {
      "cell_type": "code",
      "execution_count": 21,
      "metadata": {
        "id": "dvTY6ogIqzeD"
      },
      "outputs": [
        {
          "data": {
            "text/plain": [
              "['Aqu',\n",
              " ' caracol\\nQue va por ',\n",
              " ' sol\\nEn cada ramita\\nLleva una flor.\\n\\nQue viva la gracia\\nQue viva ',\n",
              " ' amor\\nQue viva la gracia\\nDe aqu',\n",
              " ' caracol.']"
            ]
          },
          "execution_count": 21,
          "metadata": {},
          "output_type": "execute_result"
        }
      ],
      "source": [
        "doc.split('el')   # Pero en general podemos separar con respecto a cualquier caracter o cadena de caracteres que indiquemos..."
      ]
    },
    {
      "cell_type": "code",
      "execution_count": 22,
      "metadata": {
        "id": "sOPynldBrsI1"
      },
      "outputs": [
        {
          "data": {
            "text/plain": [
              "['Aquel',\n",
              " 'caracol\\nQue',\n",
              " 'va',\n",
              " 'por',\n",
              " 'el sol\\nEn cada ramita\\nLleva una flor.\\n\\nQue viva la gracia\\nQue viva el amor\\nQue viva la gracia\\nDe aquel caracol.']"
            ]
          },
          "execution_count": 22,
          "metadata": {},
          "output_type": "execute_result"
        }
      ],
      "source": [
        "doc.split(' ', 4)   # Se puede indicar un máximo de separaciones a aplicar con el separador en cuestión."
      ]
    },
    {
      "cell_type": "code",
      "execution_count": 23,
      "metadata": {
        "id": "PEieh9Kk6uTz"
      },
      "outputs": [
        {
          "data": {
            "text/plain": [
              "['AQUEL',\n",
              " 'CARACOL',\n",
              " 'QUE',\n",
              " 'VA',\n",
              " 'POR',\n",
              " 'EL',\n",
              " 'SOL',\n",
              " 'EN',\n",
              " 'CADA',\n",
              " 'RAMITA',\n",
              " 'LLEVA',\n",
              " 'UNA',\n",
              " 'FLOR.',\n",
              " 'QUE',\n",
              " 'VIVA',\n",
              " 'LA',\n",
              " 'GRACIA',\n",
              " 'QUE',\n",
              " 'VIVA',\n",
              " 'EL',\n",
              " 'AMOR',\n",
              " 'QUE',\n",
              " 'VIVA',\n",
              " 'LA',\n",
              " 'GRACIA',\n",
              " 'DE',\n",
              " 'AQUEL',\n",
              " 'CARACOL.']"
            ]
          },
          "execution_count": 23,
          "metadata": {},
          "output_type": "execute_result"
        }
      ],
      "source": [
        "doc.upper().split()    # También podemos hacer algunas combinaciones de métodos..."
      ]
    },
    {
      "cell_type": "markdown",
      "metadata": {
        "id": "w-7I7M4U2GjY"
      },
      "source": [
        "También podemos eliminar espacios en blanco al inicio o al final de una frase, lo cual es un caso muy común cuando se analizan documentos de texto."
      ]
    },
    {
      "cell_type": "code",
      "execution_count": 24,
      "metadata": {
        "id": "BVbQwo-R8kC0"
      },
      "outputs": [],
      "source": [
        "# Se pueden omitir espacios en blanco al principio o final de un string, mientras\n",
        "# no haya algún tipo de caracter antes o después:\n",
        "\n",
        "txt = \"                    Hola      mundo      .   \"\n",
        "\n",
        "x = txt.strip(' ')"
      ]
    },
    {
      "cell_type": "code",
      "execution_count": 25,
      "metadata": {
        "id": "YN9I8t9o2ZcL"
      },
      "outputs": [
        {
          "data": {
            "text/plain": [
              "'                    Hola      mundo      .   '"
            ]
          },
          "execution_count": 25,
          "metadata": {},
          "output_type": "execute_result"
        }
      ],
      "source": [
        "txt    # string original"
      ]
    },
    {
      "cell_type": "code",
      "execution_count": 26,
      "metadata": {
        "id": "7DehZZXz2bMk"
      },
      "outputs": [
        {
          "data": {
            "text/plain": [
              "'Hola      mundo      .'"
            ]
          },
          "execution_count": 26,
          "metadata": {},
          "output_type": "execute_result"
        }
      ],
      "source": [
        "x   # se omiten los espacios en blanco, pero solo al inicio y al final del string."
      ]
    },
    {
      "cell_type": "code",
      "execution_count": 27,
      "metadata": {
        "id": "PE9q4LWFpd0k"
      },
      "outputs": [
        {
          "data": {
            "text/plain": [
              "str"
            ]
          },
          "execution_count": 27,
          "metadata": {},
          "output_type": "execute_result"
        }
      ],
      "source": [
        "type(x)    # En este caso tenemos un solo string."
      ]
    },
    {
      "cell_type": "code",
      "execution_count": 28,
      "metadata": {
        "id": "ifpJoFEF_8y-"
      },
      "outputs": [
        {
          "data": {
            "text/plain": [
              "21"
            ]
          },
          "execution_count": 28,
          "metadata": {},
          "output_type": "execute_result"
        }
      ],
      "source": [
        "txt.find('o')   # Nos regresa el índice de la primera aparición del caracter indicado."
      ]
    },
    {
      "cell_type": "code",
      "execution_count": 29,
      "metadata": {
        "id": "Uyx1sSor_HU2"
      },
      "outputs": [
        {
          "data": {
            "text/plain": [
              "'hola'"
            ]
          },
          "execution_count": 29,
          "metadata": {},
          "output_type": "execute_result"
        }
      ],
      "source": [
        "\n",
        "'!!¡!¡¡hola¡¡¡!!!¡!!!'.strip('¡!')    # puedes indicar caracteres que se irán quitando tanto del inicio como del final de manera iterativa."
      ]
    },
    {
      "cell_type": "markdown",
      "metadata": {
        "id": "qbbcKTVC2heS"
      },
      "source": [
        "###También tenemos el método \"splitlines()\" para separar por saltos de línea. Veamos un ejemplo:"
      ]
    },
    {
      "cell_type": "code",
      "execution_count": 30,
      "metadata": {
        "id": "5-CjUi6318lu"
      },
      "outputs": [
        {
          "name": "stdout",
          "output_type": "stream",
          "text": [
            "Hola mundo de terrícolas\n",
            "Hemos llegado a visitarlos\n",
            "Saludos\n",
            "\n"
          ]
        },
        {
          "data": {
            "text/plain": [
              "'Hola mundo de terrícolas\\nHemos llegado a visitarlos\\nSaludos\\n'"
            ]
          },
          "execution_count": 30,
          "metadata": {},
          "output_type": "execute_result"
        }
      ],
      "source": [
        "txt ='Hola mundo de terrícolas\\nHemos llegado a visitarlos\\nSaludos\\n'\n",
        "\n",
        "# Observa la diferencia entre ambas salidas:\n",
        "\n",
        "print(txt)\n",
        "\n",
        "txt"
      ]
    },
    {
      "cell_type": "code",
      "execution_count": 31,
      "metadata": {
        "id": "TydKZ7kP3KzS"
      },
      "outputs": [
        {
          "name": "stdout",
          "output_type": "stream",
          "text": [
            "Separando por espacios en blanco y saltos de línea con split:\n",
            "\t ['Hola', 'mundo', 'de', 'terrícolas', 'Hemos', 'llegado', 'a', 'visitarlos', 'Saludos']\n",
            "\n",
            "Separando solo por saltos de línea con splitlines:\n",
            "\t ['Hola mundo de terrícolas', 'Hemos llegado a visitarlos', 'Saludos']\n"
          ]
        }
      ],
      "source": [
        "print('Separando por espacios en blanco y saltos de línea con split:\\n\\t', txt.split())\n",
        "\n",
        "print('\\nSeparando solo por saltos de línea con splitlines:\\n\\t', txt.splitlines())"
      ]
    },
    {
      "cell_type": "markdown",
      "metadata": {
        "id": "4do2UxqE50Hg"
      },
      "source": [
        "##**replace()**\n",
        "\n",
        "Recuerda siempre consultar la documentación correspondiente para obtener más información de cualquier función o método.\n",
        "\n",
        "En particular para el método \"replace\" de una cadena de caracteres (String) puedes consultar esta documentación:\n",
        "\n",
        "https://www.w3schools.com/python/ref_string_replace.asp "
      ]
    },
    {
      "cell_type": "code",
      "execution_count": 32,
      "metadata": {
        "id": "v7HWz5D5BI5z"
      },
      "outputs": [
        {
          "data": {
            "text/plain": [
              "['Aquel',\n",
              " 'cArAcol',\n",
              " 'Que',\n",
              " 'vA',\n",
              " 'por',\n",
              " 'el',\n",
              " 'sol',\n",
              " 'En',\n",
              " 'cAdA',\n",
              " 'rAmitA',\n",
              " 'LlevA',\n",
              " 'unA',\n",
              " 'flor.',\n",
              " 'Que',\n",
              " 'vivA',\n",
              " 'lA',\n",
              " 'grAciA',\n",
              " 'Que',\n",
              " 'vivA',\n",
              " 'el',\n",
              " 'Amor',\n",
              " 'Que',\n",
              " 'vivA',\n",
              " 'lA',\n",
              " 'grAciA',\n",
              " 'De',\n",
              " 'Aquel',\n",
              " 'cArAcol.']"
            ]
          },
          "execution_count": 32,
          "metadata": {},
          "output_type": "execute_result"
        }
      ],
      "source": [
        "doc.replace('a', 'A').split()    # podemos sustituir un string por otro que se indique en una cadena de caracteres."
      ]
    },
    {
      "cell_type": "markdown",
      "metadata": {
        "id": "RVnN-MzP6bSy"
      },
      "source": [
        "##**join()**\n",
        "\n",
        "En un String podemos unir los elementos indicados en su argumento mediante el string indicado.\n",
        "\n",
        "Este método nos será más útil al aplicarlo a una lista. Veamos algunos ejemplos:[texto del enlace](https://)\n"
      ]
    },
    {
      "cell_type": "code",
      "execution_count": 33,
      "metadata": {
        "id": "vHwDuqjnCo4Q"
      },
      "outputs": [
        {
          "data": {
            "text/plain": [
              "'H-o-l-a'"
            ]
          },
          "execution_count": 33,
          "metadata": {},
          "output_type": "execute_result"
        }
      ],
      "source": [
        "txt = 'Hola'   # Podemos aplicar el método a un String donde cada caracter del argumento \"Hola\" \n",
        "               # se une con el string o caracter indicado entre las comillas.\n",
        "'-'.join(txt)"
      ]
    },
    {
      "cell_type": "code",
      "execution_count": 34,
      "metadata": {
        "id": "ypBBtNuRC0R3"
      },
      "outputs": [
        {
          "data": {
            "text/plain": [
              "['Mucha',\n",
              " 'luz',\n",
              " 'es',\n",
              " 'como',\n",
              " 'mucha',\n",
              " 'sombra',\n",
              " 'no',\n",
              " 'deja',\n",
              " 'ver',\n",
              " 'Octavio',\n",
              " 'Paz']"
            ]
          },
          "execution_count": 34,
          "metadata": {},
          "output_type": "execute_result"
        }
      ],
      "source": [
        "# Sin embargo, se obtienen resultados más útiles con otro tipo de datos, como una lista de strings:\n",
        "\n",
        "unalista = ['Mucha','luz','es','como','mucha','sombra','no','deja','ver','Octavio','Paz']\n",
        "unalista"
      ]
    },
    {
      "cell_type": "code",
      "execution_count": 35,
      "metadata": {
        "id": "SZ0jC9IOEmlD"
      },
      "outputs": [
        {
          "data": {
            "text/plain": [
              "'Mucha luz es como mucha sombra no deja ver Octavio Paz'"
            ]
          },
          "execution_count": 35,
          "metadata": {},
          "output_type": "execute_result"
        }
      ],
      "source": [
        "u = ' '.join(unalista)   # Y podemos conjuntar ahora los elementos de la lista de strings separándolos con un espacio en blanco,\n",
        "                         # para obtener un solo string.\n",
        "\n",
        "u    # string"
      ]
    },
    {
      "cell_type": "markdown",
      "metadata": {
        "id": "Lru7zVMhVrvI"
      },
      "source": [
        "##**find() y findall()**\n",
        "\n",
        "Estos métodos encuentran un patrón o patrones de caracteres indicados. \n",
        "\n",
        "https://pandas.pydata.org/docs/reference/api/pandas.Series.str.find.html\n",
        "\n",
        "https://pandas.pydata.org/docs/reference/api/pandas.Series.str.findall.html"
      ]
    },
    {
      "cell_type": "markdown",
      "metadata": {
        "id": "e0G4Nfabxwgl"
      },
      "source": [
        "###**También podemos usar el método find() en un String.** \n",
        "\n",
        "Veamos algún par de ejemplos, con la siguiente frase de Octavio Paz:"
      ]
    },
    {
      "cell_type": "code",
      "execution_count": 36,
      "metadata": {
        "id": "sA9esJWFx9yz"
      },
      "outputs": [],
      "source": [
        "op = 'Mucha luz es como mucha sombra, no deja ver.'"
      ]
    },
    {
      "cell_type": "code",
      "execution_count": 37,
      "metadata": {
        "id": "sW4GowZnzwvC"
      },
      "outputs": [
        {
          "data": {
            "text/plain": [
              "18"
            ]
          },
          "execution_count": 37,
          "metadata": {},
          "output_type": "execute_result"
        }
      ],
      "source": [
        "op.find('mucha')    # Recuerda que mayúsculas y minúsculas son caracteres diferentes."
      ]
    },
    {
      "cell_type": "code",
      "execution_count": 38,
      "metadata": {
        "id": "fWMVQ4u1y2eW"
      },
      "outputs": [
        {
          "data": {
            "text/plain": [
              "0"
            ]
          },
          "execution_count": 38,
          "metadata": {},
          "output_type": "execute_result"
        }
      ],
      "source": [
        "op.lower().find('mucha')"
      ]
    },
    {
      "cell_type": "code",
      "execution_count": 39,
      "metadata": {
        "id": "Bod4pdVp0J1z"
      },
      "outputs": [
        {
          "data": {
            "text/plain": [
              "18"
            ]
          },
          "execution_count": 39,
          "metadata": {},
          "output_type": "execute_result"
        }
      ],
      "source": [
        "op.lower().find('mucha', 1)   # Si deseamos encontrar la segunda coincidencia de \"mucha\", en este caso \n",
        "                              # debemos realizar la búsqueda a partir del índice 1 y no del 0."
      ]
    },
    {
      "cell_type": "code",
      "execution_count": 40,
      "metadata": {
        "id": "v9RVhZGJzPKf"
      },
      "outputs": [
        {
          "data": {
            "text/plain": [
              "18"
            ]
          },
          "execution_count": 40,
          "metadata": {},
          "output_type": "execute_result"
        }
      ],
      "source": [
        "op.lower().rfind('mucha')     # O bien, podemos realizar la búsqueda en orden inverso: \"reverse find\"."
      ]
    },
    {
      "cell_type": "markdown",
      "metadata": {
        "id": "xgNZ2YWyhpVz"
      },
      "source": [
        "##**Podemos separar una oración con respecto a sus palabras, caracteres especiales y signos de puntuación.**\n",
        "\n",
        "### Por ejemplo:"
      ]
    },
    {
      "cell_type": "code",
      "execution_count": 51,
      "metadata": {
        "id": "OhwA8acrjH9o"
      },
      "outputs": [],
      "source": [
        "import re"
      ]
    },
    {
      "cell_type": "code",
      "execution_count": 42,
      "metadata": {
        "id": "GGYpIB6ihqdC"
      },
      "outputs": [],
      "source": [
        "X = \"-¿Qué eres? -Definirse es limitarse.\""
      ]
    },
    {
      "cell_type": "code",
      "execution_count": 53,
      "metadata": {
        "id": "7qGHUIx0hrtI"
      },
      "outputs": [
        {
          "data": {
            "text/plain": [
              "['-¿Qué', 'eres?\\n-Definirse', 'es', 'limitarse.', 'Lao-Tse']"
            ]
          },
          "execution_count": 53,
          "metadata": {},
          "output_type": "execute_result"
        }
      ],
      "source": [
        "x = re.split(r' ', X)  # Separa con respecto a los espacios en blanco.\n",
        "x"
      ]
    },
    {
      "cell_type": "code",
      "execution_count": 44,
      "metadata": {
        "id": "jY92eEWFhrpg"
      },
      "outputs": [],
      "source": [
        "# O bien, si tenemos una frase en dos renglones:\n",
        "X = \"\"\"-¿Qué eres?\n",
        "-Definirse es limitarse. Lao-Tse\"\"\""
      ]
    },
    {
      "cell_type": "code",
      "execution_count": 45,
      "metadata": {
        "id": "Qr0VPDjvh4c-"
      },
      "outputs": [
        {
          "name": "stdout",
          "output_type": "stream",
          "text": [
            "1: ['-¿Qué', 'eres?\\n-Definirse', 'es', 'limitarse.', 'Lao-Tse']\n",
            "2  ['-¿Qué eres?', '-Definirse es limitarse. Lao-Tse']\n",
            "3  ['-¿Qué', 'eres?', '-Definirse', 'es', 'limitarse.', 'Lao-Tse']\n",
            "4  ['', '¿Qué eres?\\n', 'Definirse es limitarse. Lao', 'Tse']\n",
            "5  ['', '¿Qué', 'eres?', '', 'Definirse', 'es', 'limitarse.', 'Lao', 'Tse']\n",
            "6  ['', 'Qué', 'eres', 'Definirse', 'es', 'limitarse', 'Lao', 'Tse']\n",
            "7  ['Qué', 'eres', 'Definirse', 'es', 'limitarse', 'Lao', 'Tse']\n"
          ]
        }
      ],
      "source": [
        "x1 = re.split(r' ', X)  # Separa con respecto a los espacios en blanco.\n",
        "x2 = re.split(r'[\\n]', X)  # salto de línea.\n",
        "x3 = re.split(r'[ \\n]', X)  # espacios en blanco o salto de línea.\n",
        "x4 = re.split(r'[-]', X)  # por el caracter \"-\" ... agrega un caracter vacío...\n",
        "x5 = re.split(r'[ \\n-]', X)\n",
        "x6 = re.split(r'\\W+', X)   # separamos con respecto a todo lo que no sea palabra: espacios en blanco, \"-\", signos de interrogación, el punto y seguido, en este caso.\n",
        "\n",
        "x7 = re.findall(r'\\w+', X)  # ... ahora sí, haciendo la búsqueda con respecto a las palabras :)\n",
        "\n",
        "print('1:',x1)\n",
        "print('2 ',x2)\n",
        "print('3 ',x3)\n",
        "print('4 ',x4)\n",
        "print('5 ',x5)\n",
        "print('6 ',x6)\n",
        "print('7 ',x7)"
      ]
    },
    {
      "cell_type": "markdown",
      "metadata": {
        "id": "WbDTDpTfiD7K"
      },
      "source": [
        "### Veamos un ejemplo estándar para el caso del idioma inglés:"
      ]
    },
    {
      "cell_type": "code",
      "execution_count": 46,
      "metadata": {
        "id": "bo63NR8vh4Y_"
      },
      "outputs": [],
      "source": [
        "Y = \"To say 'I don't have time', is like saying, 'I don't want to'. -Lao-Tzu\""
      ]
    },
    {
      "cell_type": "code",
      "execution_count": 47,
      "metadata": {
        "id": "XiVPnMQ6iKoL"
      },
      "outputs": [
        {
          "name": "stdout",
          "output_type": "stream",
          "text": [
            "['To', 'say', 'I', 'don', 't', 'have', 'time', 'is', 'like', 'saying', 'I', 'don', 't', 'want', 'to', 'Lao', 'Tzu']\n",
            "['To', 'say', \"'I\", 'don', \"'t\", 'have', 'time', \"'\", ',', 'is', 'like', 'saying', ',', \"'I\", 'don', \"'t\", 'want', 'to', \"'\", '.', '-Lao', '-Tzu']\n",
            "['To', 'say', 'I', \"don't\", 'have', 'time', 'is', 'like', 'saying', 'I', \"don't\", 'want', 'to', 'Lao-Tzu']\n"
          ]
        }
      ],
      "source": [
        "y1 = re.findall(r\"\\w+\", Y)  # Se tiene el inconveniente de que \"don't\" quedó separado, lo mismo que el nombre de Lao-Tzu.\n",
        "y2 = re.findall(r\"\\w+|\\S\\w*\", Y)  # primero busca palabras, de lo contrario todo lo que no sea espacio en blanco, seguido tal vez de palabras.\n",
        "y3 = re.findall(r\"\\w+(?:['-]\\w+)*\", Y) # Si no agregamos \"?:\" no se obtiene lo deseado, ya que los paréntesis () tienen como segunda función \n",
        "                                       # buscar lo que está dentro, haciendo match con lo de afuera y una vez localizado solo extrae lo de adentro.\n",
        "                                       # Así, esta última instrucción es la que extrae como tokens las negaciones con sus contracciones\n",
        "                                       # y el nombre de Lao-Tzu, como una sola entidad.... Quita \"?:\" y observa lo que queda.\n",
        "\n",
        "print(y1)\n",
        "print(y2)\n",
        "print(y3)"
      ]
    },
    {
      "cell_type": "markdown",
      "metadata": {
        "id": "WUJxzhoIiWGc"
      },
      "source": [
        "###**La combinación ?: con paréntesis redondos y findall**"
      ]
    },
    {
      "cell_type": "code",
      "execution_count": 48,
      "metadata": {
        "id": "Z_yN8QWJia9Y"
      },
      "outputs": [
        {
          "data": {
            "text/plain": [
              "['ing', 'ed']"
            ]
          },
          "execution_count": 48,
          "metadata": {},
          "output_type": "execute_result"
        }
      ],
      "source": [
        "re.findall(r\"\\w+(ing|ed)\", \"cat playing red\")   # El paréntesis introduce prioridad y por lo tanto inicia buscando lo que haga match \n",
        "                                         # con \"ing\" o con \"ed\", además de con lo que está afuera y una vez que lo encuentra, \n",
        "                                         # se termina y da como salida solo lo que encontró dentro del paréntesis.\n",
        "                                         # Si nada hace match dentro del paréntesis, regresa vacío."
      ]
    },
    {
      "cell_type": "code",
      "execution_count": 49,
      "metadata": {
        "id": "0zCIws2Qia1m"
      },
      "outputs": [
        {
          "data": {
            "text/plain": [
              "['playing', 'red']"
            ]
          },
          "execution_count": 49,
          "metadata": {},
          "output_type": "execute_result"
        }
      ],
      "source": [
        "re.findall(r\"\\w+(?:ing|ed)\", \"cat playing red\") # La combinación \"?:\" cancela la instrucción de que una vez encontrado el match (en dado caso)\n",
        "                                                # dentro y fuera del paréntesis, regrese solo lo que está dentro, sino que regrese todo\n",
        "                                                # lo que hizo match."
      ]
    },
    {
      "cell_type": "markdown",
      "metadata": {
        "id": "6EXU4ZNiZZUP"
      },
      "source": [
        "Recuerda que no existe una única manera de resolver los ejemplos anteriores y tú puedes proponer algunas otras formas."
      ]
    },
    {
      "cell_type": "markdown",
      "metadata": {
        "id": "ymmsttwf4ky3"
      },
      "source": [
        "###**Fin del los ejercicios complementarios para practicar de la Semana 2**"
      ]
    }
  ],
  "metadata": {
    "colab": {
      "provenance": []
    },
    "kernelspec": {
      "display_name": "master-ai-tec",
      "language": "python",
      "name": "python3"
    },
    "language_info": {
      "codemirror_mode": {
        "name": "ipython",
        "version": 3
      },
      "file_extension": ".py",
      "mimetype": "text/x-python",
      "name": "python",
      "nbconvert_exporter": "python",
      "pygments_lexer": "ipython3",
      "version": "3.12.5"
    }
  },
  "nbformat": 4,
  "nbformat_minor": 0
}

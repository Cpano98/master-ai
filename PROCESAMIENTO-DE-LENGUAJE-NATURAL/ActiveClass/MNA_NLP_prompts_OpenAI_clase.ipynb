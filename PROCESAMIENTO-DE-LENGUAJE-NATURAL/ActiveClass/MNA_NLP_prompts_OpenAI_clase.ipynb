{
  "nbformat": 4,
  "nbformat_minor": 0,
  "metadata": {
    "colab": {
      "provenance": []
    },
    "kernelspec": {
      "name": "python3",
      "display_name": "Python 3"
    },
    "language_info": {
      "name": "python"
    }
  },
  "cells": [
    {
      "cell_type": "code",
      "execution_count": null,
      "metadata": {
        "id": "DNd_M5I-INyi"
      },
      "outputs": [],
      "source": [
        "!pip install openai"
      ]
    },
    {
      "cell_type": "code",
      "source": [
        "import os\n",
        "from IPython.display import Markdown\n",
        "\n",
        "from google.colab import userdata\n",
        "from openai import OpenAI\n",
        "import openai"
      ],
      "metadata": {
        "id": "_5_oQFwyJ0TY"
      },
      "execution_count": 32,
      "outputs": []
    },
    {
      "cell_type": "code",
      "source": [
        "api_key = userdata.get(\"miOpenAI_API_key\")\n",
        "\n",
        "if not api_key:\n",
        "  raise ValueError(\"API key no encontrada en tus Secretos...\")\n",
        "\n",
        "client = OpenAI(api_key = api_key)"
      ],
      "metadata": {
        "id": "W1gBb2RSJ4qe"
      },
      "execution_count": 33,
      "outputs": []
    },
    {
      "cell_type": "code",
      "source": [
        "# Definimos los prompt de sistema:\n",
        "\n",
        "system_prompt = \"\"\"\n",
        "Eres un consultor ambiental especializado en diseño de campañas sostenibles.\n",
        "Debes explorar varias opciones,\n",
        "evaluarlas y seleccionar o combinar las mejores ideas.\n",
        "\"\"\""
      ],
      "metadata": {
        "id": "8pbQbeUmKJRQ"
      },
      "execution_count": 42,
      "outputs": []
    },
    {
      "cell_type": "code",
      "source": [
        "# Llamamos a la API de OpenAI:\n",
        "\n",
        "# Cuando deseas que sea creativo, puedes incrementar el valor de la temperatura.\n",
        "\n",
        "def call_openai(system_prompt, user_prompt, model=\"gpt-4o-mini\", temperature=0.7):\n",
        "    response = client.chat.completions.create(model=model,\n",
        "                                       temperature=temperature,\n",
        "                                       max_tokens=1024,\n",
        "                                       messages=[\n",
        "                                           {\"role\": \"system\", \"content\": system_prompt},\n",
        "                                           {\"role\": \"user\", \"content\": user_prompt}\n",
        "                                           ]\n",
        "    )\n",
        "    return response.choices[0].message.content.strip()"
      ],
      "metadata": {
        "id": "8PE7AAlcLzzB"
      },
      "execution_count": 43,
      "outputs": []
    },
    {
      "cell_type": "markdown",
      "source": [
        "# **Caso 1: User_Prompt Zero-Shot**"
      ],
      "metadata": {
        "id": "tpcWYtn6Ktc_"
      }
    },
    {
      "cell_type": "code",
      "source": [
        "# Prompt simple/directo (Zero-Shot):\n",
        "\n",
        "user_prompt_zs = \"Diseña una campaña para reducir el consumo de plástico.\""
      ],
      "metadata": {
        "id": "Fe2CngBeK21M"
      },
      "execution_count": 44,
      "outputs": []
    },
    {
      "cell_type": "code",
      "source": [
        "# Ejecutamos el Zero-shot:\n",
        "print(\"Iniciando el proceso Zero-Shot...\\n\")\n",
        "respuesta_zs = call_openai(system_prompt, user_prompt_zs)\n",
        "\n",
        "print(\"Resultado del Zero-Shot:\\n\")\n",
        "#print(respuesta_zs)\n",
        "Markdown(respuesta_zs)"
      ],
      "metadata": {
        "colab": {
          "base_uri": "https://localhost:8080/",
          "height": 1000
        },
        "id": "-Eer6i6MQM_8",
        "outputId": "92610b1a-a75e-4626-fc9c-c3111e4b5c84"
      },
      "execution_count": 45,
      "outputs": [
        {
          "output_type": "stream",
          "name": "stdout",
          "text": [
            "Iniciando el proceso Zero-Shot...\n",
            "\n",
            "Resultado del Zero-Shot:\n",
            "\n"
          ]
        },
        {
          "output_type": "execute_result",
          "data": {
            "text/plain": [
              "<IPython.core.display.Markdown object>"
            ],
            "text/markdown": "### Campaña: \"Menos Plástico, Más Vida\"\n\n#### Objetivo:\nReducir el consumo de plástico en la comunidad mediante la concienciación, educación y promoción de alternativas sostenibles.\n\n#### Estrategias de la Campaña:\n\n1. **Investigación y Diagnóstico:**\n   - Realizar un estudio sobre los hábitos de consumo de plástico en la comunidad, identificando las fuentes principales de plástico y los comportamientos de los ciudadanos.\n\n2. **Educación y Concienciación:**\n   - **Talleres y Charlas:** Organizar sesiones educativas en escuelas, comunidades y empresas sobre el impacto del plástico en el medio ambiente y la salud.\n   - **Material Informativo:** Crear infografías, folletos y videos informativos que expliquen el reciclaje, el impacto del plástico y alternativas sostenibles.\n   - **Redes Sociales:** Desarrollar una serie de publicaciones y videos en plataformas como Instagram, Facebook y TikTok que muestren datos impactantes sobre el plástico y consejos para reducir su uso.\n\n3. **Promoción de Alternativas:**\n   - **Mercado de Alternativas:** Organizar ferias donde se presenten productos libres de plástico y alternativas sostenibles (tales como bolsas de tela, botellas reutilizables, productos de limpieza a granel).\n   - **Descuentos y Recompensas:** Colaborar con negocios locales para ofrecer descuentos a quienes traigan sus propios envases o bolsas reutilizables.\n\n4. **Compromiso Colectivo:**\n   - **Pacto del Plástico:** Invitar a empresas y ciudadanos a firmar un compromiso para reducir el uso de plástico, proporcionando un lugar visible para que se exhiba.\n   - **Reto del Plástico:** Lanzar un desafío en redes sociales que invite a las personas a reducir su uso de plástico durante un mes y compartir sus experiencias y logros.\n\n5. **Iniciativas de Reciclaje y Limpieza:**\n   - **Días de Limpieza Comunitaria:** Organizar jornadas de limpieza en playas, ríos y parques para recoger plástico y concienciar sobre su impacto.\n   - **Puntos de Recogida:** Establecer puntos de recogida de plástico en la comunidad, donde la población pueda llevar sus residuos plásticos y recibir información sobre su reciclaje adecuado.\n\n6. **Colaboraciones:**\n   - **Alianzas con ONGs:** Trabajar con organizaciones ambientales para aumentar el alcance de la campaña y obtener recursos adicionales.\n   - **Patrocinios Locales:** Buscar patrocinadores entre empresas locales que estén interesados en mejorar su imagen ambiental y en contribuir a la campaña.\n\n#### Medición del Impacto:\n- **Encuestas Pre y Post Campaña:** Realizar encuestas antes y después para medir el cambio en la percepción y comportamiento respecto al uso del plástico.\n- **Monitoreo de Residuos:** Evaluar la cantidad de plástico recogido durante las jornadas de limpieza y el uso de alternativas sostenibles en la comunidad.\n\n#### Duración:\nLa campaña se implementará a lo largo de seis meses, con fases escalonadas que permitan ajustar estrategias en función de la respuesta de la comunidad.\n\n### Conclusión:\n\"Menos Plástico, Más Vida\" es una campaña integral que combina educación, acción comunitaria y colaboración para abordar el problema del plástico de manera efectiva y sostenible. Al involucrar a la comunidad y ofrecer soluciones prácticas, podemos lograr un cambio significativo en los hábitos de consumo."
          },
          "metadata": {},
          "execution_count": 45
        }
      ]
    },
    {
      "cell_type": "markdown",
      "source": [
        "# **Caso 2: User_Prompt Chain-of-Thought (CoT)**"
      ],
      "metadata": {
        "id": "xwinN4TwK8ir"
      }
    },
    {
      "cell_type": "code",
      "source": [
        "# Prompt usando Chain-of-Thought (CoT):\n",
        "\n",
        "user_prompt_cot = \"\"\"\n",
        "Diseña una campaña para reducir el consumo de plástico.\n",
        "\n",
        "Piensa paso a paso:\n",
        "1. Define el problema.\n",
        "2. Propón soluciones posibles.\n",
        "3. Explica cómo implementarlas.\n",
        "\"\"\""
      ],
      "metadata": {
        "id": "YfrNnbGYLTO0"
      },
      "execution_count": 46,
      "outputs": []
    },
    {
      "cell_type": "code",
      "source": [
        "# Ejecutamos el Chain-of-Thought (CoT):\n",
        "print(\"Iniciando el proceso Chain-of-Thought...\\n\")\n",
        "respuesta_cot = call_openai(system_prompt, user_prompt_cot)\n",
        "\n",
        "print(\"Resultado del CoT:\\n\")\n",
        "\n",
        "Markdown(respuesta_cot)"
      ],
      "metadata": {
        "colab": {
          "base_uri": "https://localhost:8080/",
          "height": 985
        },
        "id": "6AwtLn-sRxue",
        "outputId": "54bbb851-67ee-483f-a8ce-9d120436e446"
      },
      "execution_count": 47,
      "outputs": [
        {
          "output_type": "stream",
          "name": "stdout",
          "text": [
            "Iniciando el proceso Chain-of-Thought...\n",
            "\n",
            "Resultado del CoT:\n",
            "\n"
          ]
        },
        {
          "output_type": "execute_result",
          "data": {
            "text/plain": [
              "<IPython.core.display.Markdown object>"
            ],
            "text/markdown": "### Campaña: \"Reduce, Reutiliza, Respeta: Un Mundo Sin Plástico\"\n\n#### 1. Definición del problema\n\nEl uso excesivo de plásticos desechables ha llevado a graves problemas ambientales, incluyendo la contaminación de océanos, la amenaza a la vida marina y el aumento de residuos en vertederos. Se estima que cada año se producen 300 millones de toneladas de plástico, de las cuales una gran parte termina en la naturaleza. Este problema no solo afecta a la fauna y flora, sino también a la salud humana, ya que los microplásticos han sido encontrados en alimentos y agua potable.\n\n#### 2. Propuestas de soluciones\n\n**A. Educación y concienciación:**\n   - Crear materiales informativos sobre los impactos del plástico en el medio ambiente.\n   - Organizar talleres y charlas sobre alternativas al plástico.\n\n**B. Promoción de alternativas:**\n   - Fomentar el uso de bolsas reutilizables, botellas de acero inoxidable y envases de vidrio.\n   - Crear alianzas con comercios locales para ofrecer descuentos a los clientes que traigan sus propios envases.\n\n**C. Actividades comunitarias:**\n   - Organizar eventos de limpieza de playas y parques.\n   - Desarrollar un programa de \"plástico cero\" en escuelas y universidades.\n\n**D. Incentivos gubernamentales:**\n   - Abogar por políticas que limiten el uso de plásticos de un solo uso y fomentar el reciclaje.\n\n#### 3. Implementación de las soluciones\n\n**Fase 1: Investigación y planificación**\n   - Realizar encuestas para conocer la percepción de la comunidad sobre el uso del plástico.\n   - Identificar y colaborar con organizaciones ambientales y comercios locales.\n\n**Fase 2: Desarrollo de materiales educativos**\n   - Diseñar folletos, infografías y contenido digital para redes sociales que expliquen el problema y las soluciones.\n   - Crear un sitio web dedicado a la campaña con recursos y herramientas para la comunidad.\n\n**Fase 3: Lanzamiento de la campaña**\n   - Iniciar con un evento de lanzamiento que incluya una charla sobre el impacto del plástico y actividades interactivas (ej. talleres de creación de bolsas reutilizables).\n   - Utilizar medios de comunicación locales, redes sociales y plataformas digitales para promover la campaña.\n\n**Fase 4: Implementación de alternativas**\n   - Colaborar con tiendas y restaurantes locales para que ofrezcan descuentos a los clientes que traigan sus propios envases.\n   - Distribuir bolsas reutilizables y botellas de acero inoxidable en eventos comunitarios.\n\n**Fase 5: Evaluación y seguimiento**\n   - Realizar un seguimiento de la reducción del uso de plástico en la comunidad a través de encuestas y análisis de residuos.\n   - Reunir testimonios de participantes y ajustar la campaña según la retroalimentación recibida.\n\n#### Conclusión\n\nLa campaña \"Reduce, Reutiliza, Respeta: Un Mundo Sin Plástico\" tiene como objetivo no solo disminuir el consumo de plástico, sino también generar un cambio cultural hacia un estilo de vida más sostenible. A través de la educación, la promoción de alternativas y la participación comunitaria, se busca construir un futuro más limpio y saludable para todos."
          },
          "metadata": {},
          "execution_count": 47
        }
      ]
    },
    {
      "cell_type": "markdown",
      "source": [
        "# **Caso 3: User_Prompt Tree-of-Thoughts (ToT)**"
      ],
      "metadata": {
        "id": "8jSxZGUBLcaX"
      }
    },
    {
      "cell_type": "code",
      "source": [
        "# Prompt usando Tree of Thoughts (ToT):\n",
        "\n",
        "user_prompt_tot = \"\"\"\n",
        "Problema: Diseña una campaña para reducir el consumo de plástico.\n",
        "\n",
        "Paso 1: Genera tres ideas distintas para una campaña:\n",
        "1. [idea 1]\n",
        "2. [idea 2]\n",
        "3. [idea 3]\n",
        "\n",
        "Paso 2: Evalúa cada idea según estos criterios:\n",
        "- Impacto medioambiental\n",
        "- Facilidad de implementación\n",
        "- Capacidad de generar conciencia social\n",
        "\n",
        "Paso 3: Selecciona la mejor idea o combina las mejores partes para proponer una solución final.\n",
        "\"\"\""
      ],
      "metadata": {
        "id": "td3Hc-eGKRv8"
      },
      "execution_count": 48,
      "outputs": []
    },
    {
      "cell_type": "code",
      "source": [
        "# Ejecutamos el ToT:\n",
        "print(\"Iniciando el proceso Tree-of-Thoughts...\\n\")\n",
        "respuesta_tot = call_openai(system_prompt, user_prompt_tot)\n",
        "\n",
        "print(\"Resultado del ToT:\")\n",
        "#print(respuesta_tot)\n",
        "Markdown(respuesta_tot)"
      ],
      "metadata": {
        "colab": {
          "base_uri": "https://localhost:8080/",
          "height": 860
        },
        "id": "PPSGbFhOMS_D",
        "outputId": "40c29daa-c695-436f-faa6-921ff575fa63"
      },
      "execution_count": 49,
      "outputs": [
        {
          "output_type": "stream",
          "name": "stdout",
          "text": [
            "Iniciando el proceso Tree-of-Thoughts...\n",
            "\n",
            "Resultado del ToT:\n"
          ]
        },
        {
          "output_type": "execute_result",
          "data": {
            "text/plain": [
              "<IPython.core.display.Markdown object>"
            ],
            "text/markdown": "### Paso 1: Genera tres ideas distintas para una campaña\n\n1. **\"Reto Zero Plástico\"**  \n   Lanzar un desafío en redes sociales donde las personas se comprometan a reducir su consumo de plástico durante un mes. Los participantes pueden compartir sus experiencias, ideas y alternativas al plástico usando un hashtag específico.\n\n2. **\"Plástico a Cambio de Descuentos\"**  \n   Colaborar con comercios locales para ofrecer descuentos o recompensas a los clientes que traigan sus propias bolsas reutilizables o envases. Esto fomentaría la reducción de plástico de un solo uso en el punto de venta.\n\n3. **\"Educación en Escuelas\"**  \n   Implementar un programa educativo en escuelas sobre la contaminación por plástico, en el cual se realicen talleres interactivos sobre reciclaje, alternativas sostenibles y la importancia de reducir el uso de plástico.\n\n### Paso 2: Evalúa cada idea según los criterios\n\n#### 1. \"Reto Zero Plástico\"\n- **Impacto medioambiental**: Alto. Alentar a las personas a reducir su consumo puede llevar a una disminución significativa en el uso de plásticos.\n- **Facilidad de implementación**: Moderada. Requiere una estrategia de marketing en redes sociales y la creación de contenido atractivo.\n- **Capacidad de generar conciencia social**: Alta. Las redes sociales permiten que el mensaje se difunda rápidamente y que más personas se involucren.\n\n#### 2. \"Plástico a Cambio de Descuentos\"\n- **Impacto medioambiental**: Alto. Al incentivar a las personas a usar menos plástico, se podría ver una reducción directa en el consumo.\n- **Facilidad de implementación**: Moderada. Necesita colaboración con los comerciantes y una buena estrategia de comunicación para que los consumidores se enteren de la oferta.\n- **Capacidad de generar conciencia social**: Moderada. Aunque puede generar interés, el impacto en la conciencia social puede ser menor que en las redes sociales.\n\n#### 3. \"Educación en Escuelas\"\n- **Impacto medioambiental**: Moderado. La educación es crucial para el cambio a largo plazo, pero los resultados no son inmediatos.\n- **Facilidad de implementación**: Moderada. Requiere colaboración con las escuelas y desarrollo de materiales educativos.\n- **Capacidad de generar conciencia social**: Alta. Educar a los jóvenes puede tener un efecto multiplicador en sus familias y comunidades.\n\n### Paso 3: Selecciona la mejor idea o combina las mejores partes para proponer una solución final\n\n**Propuesta final: \"Reto Zero Plástico + Educación en Escuelas\"**\n\nCombinar el \"Reto Zero Plástico\" con el programa \"Educación en Escuelas\" puede maximizar el impacto. La campaña comenzaría con el reto en redes sociales, donde los participantes pueden registrar sus esfuerzos y compartir alternativas al plástico. Al mismo tiempo, se implementarán talleres en escuelas para educar a los niños sobre la importancia de reducir el plástico y cómo pueden participar en el reto.\n\nEsta combinación permite generar conciencia social en varias capas: los jóvenes se educan y se convierten en embajadores del cambio, mientras que los adultos pueden ser inspirados a participar en el reto, creando un efecto de comunidad y colaboración en la lucha contra el plástico."
          },
          "metadata": {},
          "execution_count": 49
        }
      ]
    }
  ]
}
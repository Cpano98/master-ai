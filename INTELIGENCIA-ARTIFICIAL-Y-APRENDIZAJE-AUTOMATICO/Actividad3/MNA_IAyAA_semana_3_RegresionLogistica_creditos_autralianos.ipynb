{
  "cells": [
    {
      "cell_type": "markdown",
      "metadata": {
        "id": "kq6cpiwUwNQA"
      },
      "source": [
        "# **Maestría en Inteligencia Artificial Aplicada**\n",
        "\n",
        "## **Curso: Inteligencia Artificial y Aprendizaje Automático**\n",
        "\n",
        "Tecnológico de Monterrey\n",
        "Prof Luis Eduardo Falcón Morales\n",
        "\n",
        "### **Adtividad de Semana 3**\n",
        "\n",
        "### **Regresión Logística y problemas de crédito**"
      ]
    },
    {
      "cell_type": "markdown",
      "metadata": {
        "id": "qn_AM6ik5QnY"
      },
      "source": [
        "### **Los temas a estudiar en esta actividad son:**\n",
        "\n",
        "*   **modelo de Regresión Logística**\n",
        "*   **modelo de kNN**\n",
        "*   **Métricas de clasificación y matriz de confusión**\n",
        "*   **Uso de Pipeline para encapsular transformaciones**\n",
        "*   **Ajuste de hiperparámetros con búsqueda de malla (GridSearch)**"
      ]
    },
    {
      "cell_type": "markdown",
      "metadata": {
        "id": "aaZEq4XX6JP8"
      },
      "source": [
        "# **Caso aprobación de tarjetas de créditos Australianos**"
      ]
    },
    {
      "cell_type": "markdown",
      "metadata": {
        "id": "1Hrdf3mi6qsY"
      },
      "source": [
        "La asignación o rechazo a la solicitud de un crédito financiero o de una tarjeta de crédito, es uno de los problemas más estudiados por instituciones financieras por su relevancia y gran complejidad. Existe una gran cantidad de artículos de investigación al respecto.\n",
        "\n",
        "Debido a lo delicado de la información que ahí se analiza no es fácil encontrar bases de datos abiertas con las cuales practicar. Sin embargo, en particular el conjunto de datos conocido como \"Australian credit approval\" es una de las pocas en el tema y que podemos encontrar en el repositorio de la UCI (University of California Irvine) en la siguiente liga:\n",
        "\n",
        "https://archive.ics.uci.edu/dataset/143/statlog+australian+credit+approval\n",
        "\n",
        "\n",
        "El objetivo es determinar si se autoriza o no la olicitud a una tarjeta de crédito, con base a la información obtenida del solicitante.\n",
        "\n",
        "Revisa la información que se encuentra en la página anterior para que tengas mayor información sobre la naturaleza de los datos y del problema."
      ]
    },
    {
      "cell_type": "code",
      "execution_count": 78,
      "metadata": {
        "id": "_yiA_9wN5OJ0"
      },
      "outputs": [],
      "source": [
        "# imprtamos los paquetes y librerías necesarias:\n",
        "\n",
        "import numpy as np\n",
        "import pandas as pd\n",
        "import seaborn as sns\n",
        "import matplotlib.pyplot as plt\n",
        "\n",
        "import sklearn\n",
        "from sklearn.model_selection import train_test_split\n",
        "from sklearn.pipeline import Pipeline\n",
        "from sklearn.compose import ColumnTransformer\n",
        "from sklearn.impute import SimpleImputer\n",
        "from sklearn.preprocessing import MinMaxScaler, OneHotEncoder\n",
        "\n",
        "from sklearn.linear_model import LogisticRegression\n",
        "from sklearn.neighbors import KNeighborsClassifier\n",
        "\n",
        "from sklearn.model_selection import cross_val_score\n",
        "from sklearn.model_selection import RepeatedStratifiedKFold\n",
        "from sklearn.model_selection import GridSearchCV\n",
        "from sklearn.metrics import ConfusionMatrixDisplay"
      ]
    },
    {
      "cell_type": "code",
      "execution_count": 79,
      "metadata": {
        "colab": {
          "base_uri": "https://localhost:8080/"
        },
        "id": "cEQmKdNZ2F-w",
        "outputId": "d4bb2870-d1aa-4c68-eb5c-0ce8af3ceafb"
      },
      "outputs": [
        {
          "name": "stdout",
          "output_type": "stream",
          "text": [
            "Python 3.12.5\n",
            "Numpy 2.1.1\n",
            "Pandas 2.2.3\n",
            "Scikit-Learn 1.5.2\n"
          ]
        }
      ],
      "source": [
        "# verificando versiones:\n",
        "\n",
        "tmp = !python -V\n",
        "print(tmp[0])\n",
        "print('Numpy', np.__version__)\n",
        "print('Pandas', pd.__version__)\n",
        "print('Scikit-Learn', sklearn.__version__)"
      ]
    },
    {
      "cell_type": "code",
      "execution_count": 80,
      "metadata": {
        "colab": {
          "base_uri": "https://localhost:8080/",
          "height": 160
        },
        "id": "A6fLOv9o9LpQ",
        "outputId": "52ad79be-3191-432d-88b5-616fc5812298"
      },
      "outputs": [
        {
          "name": "stdout",
          "output_type": "stream",
          "text": [
            "(690, 15)\n"
          ]
        },
        {
          "data": {
            "text/html": [
              "<div>\n",
              "<style scoped>\n",
              "    .dataframe tbody tr th:only-of-type {\n",
              "        vertical-align: middle;\n",
              "    }\n",
              "\n",
              "    .dataframe tbody tr th {\n",
              "        vertical-align: top;\n",
              "    }\n",
              "\n",
              "    .dataframe thead th {\n",
              "        text-align: right;\n",
              "    }\n",
              "</style>\n",
              "<table border=\"1\" class=\"dataframe\">\n",
              "  <thead>\n",
              "    <tr style=\"text-align: right;\">\n",
              "      <th></th>\n",
              "      <th>A1</th>\n",
              "      <th>A2</th>\n",
              "      <th>A3</th>\n",
              "      <th>A4</th>\n",
              "      <th>A5</th>\n",
              "      <th>A6</th>\n",
              "      <th>A7</th>\n",
              "      <th>A8</th>\n",
              "      <th>A9</th>\n",
              "      <th>A10</th>\n",
              "      <th>A11</th>\n",
              "      <th>A12</th>\n",
              "      <th>A13</th>\n",
              "      <th>A14</th>\n",
              "      <th>class</th>\n",
              "    </tr>\n",
              "  </thead>\n",
              "  <tbody>\n",
              "    <tr>\n",
              "      <th>0</th>\n",
              "      <td>1</td>\n",
              "      <td>22.08</td>\n",
              "      <td>11.46</td>\n",
              "      <td>2</td>\n",
              "      <td>4</td>\n",
              "      <td>4</td>\n",
              "      <td>1.585</td>\n",
              "      <td>0</td>\n",
              "      <td>0</td>\n",
              "      <td>0</td>\n",
              "      <td>1</td>\n",
              "      <td>2</td>\n",
              "      <td>100</td>\n",
              "      <td>1213</td>\n",
              "      <td>0</td>\n",
              "    </tr>\n",
              "    <tr>\n",
              "      <th>1</th>\n",
              "      <td>0</td>\n",
              "      <td>22.67</td>\n",
              "      <td>7.00</td>\n",
              "      <td>2</td>\n",
              "      <td>8</td>\n",
              "      <td>4</td>\n",
              "      <td>0.165</td>\n",
              "      <td>0</td>\n",
              "      <td>0</td>\n",
              "      <td>0</td>\n",
              "      <td>0</td>\n",
              "      <td>2</td>\n",
              "      <td>160</td>\n",
              "      <td>1</td>\n",
              "      <td>0</td>\n",
              "    </tr>\n",
              "    <tr>\n",
              "      <th>2</th>\n",
              "      <td>0</td>\n",
              "      <td>29.58</td>\n",
              "      <td>1.75</td>\n",
              "      <td>1</td>\n",
              "      <td>4</td>\n",
              "      <td>4</td>\n",
              "      <td>1.250</td>\n",
              "      <td>0</td>\n",
              "      <td>0</td>\n",
              "      <td>0</td>\n",
              "      <td>1</td>\n",
              "      <td>2</td>\n",
              "      <td>280</td>\n",
              "      <td>1</td>\n",
              "      <td>0</td>\n",
              "    </tr>\n",
              "  </tbody>\n",
              "</table>\n",
              "</div>"
            ],
            "text/plain": [
              "   A1     A2     A3  A4  A5  A6     A7  A8  A9  A10  A11  A12  A13   A14  \\\n",
              "0   1  22.08  11.46   2   4   4  1.585   0   0    0    1    2  100  1213   \n",
              "1   0  22.67   7.00   2   8   4  0.165   0   0    0    0    2  160     1   \n",
              "2   0  29.58   1.75   1   4   4  1.250   0   0    0    1    2  280     1   \n",
              "\n",
              "   class  \n",
              "0      0  \n",
              "1      0  \n",
              "2      0  "
            ]
          },
          "execution_count": 80,
          "metadata": {},
          "output_type": "execute_result"
        }
      ],
      "source": [
        "# Cargamos los datos y asignamos etiquetas genéricas a las variables:\n",
        "\n",
        "mypath = \"https://archive.ics.uci.edu/ml/machine-learning-databases/statlog/australian/australian.dat\"\n",
        "\n",
        "data = pd.read_csv(mypath, sep=\" \", header=None)\n",
        "\n",
        "data.columns = ['A1','A2','A3','A4','A5','A6','A7','A8','A9','A10','A11','A12','A13','A14','class']\n",
        "\n",
        "print(data.shape)\n",
        "data.head(3)"
      ]
    },
    {
      "cell_type": "markdown",
      "metadata": {
        "id": "w6quXmm_-51d"
      },
      "source": [
        "### **Variables Categóricas y Numéricas**\n",
        "\n",
        "Los nombres de las variables fueron eliminados para cuidar la privacidad de los solicitantes, sin embargo se informa que de las 14 variables de entrada, 8 son categóricas y 6 numéricas. También se informa que había un $5\\%$ de datos perdidos.\n",
        "\n",
        "La última columna es la variable binaria de salida que nos dice si la tarjeta de crédito se autorizó (1) o no se autorizó (0).\n",
        "\n",
        "De acuerdo a la información de la página de la UCI las siguientes 8 variables de entrada son las categóricas nominales:\n",
        "\n",
        "A1 (binaria), A4 (3 niveles), A5 (14 niveles), A6 (9 niveles), A8 (binaria), A9 (binaria), A11 (binaria), A12 (3 niveles).\n",
        "\n",
        "El resto de las 6 variables de entrada las definen como numéricas continuas:\n",
        "\n",
        "A2, A3, A7, A10, A13, A14.\n",
        "\n"
      ]
    },
    {
      "cell_type": "code",
      "execution_count": 81,
      "metadata": {
        "id": "k1v8mSF1-5me"
      },
      "outputs": [],
      "source": [
        "# Definamos nuestras variables de entrada (X) y de salida (y),\n",
        "# observa que ambas variables se definen como DataFrames de Pandas:\n",
        "\n",
        "X = data.iloc[:,:-1] #Todas las columnas antes de la última.\n",
        "\n",
        "Y = data.iloc[:,-1]     # También podrías definirlo como: data[['class']]"
      ]
    },
    {
      "cell_type": "markdown",
      "metadata": {
        "id": "eyS4DBbXAagU"
      },
      "source": [
        "Consideraremos un $10\\%$ de datos en el conjunto de prueba y dejaremos el resto, $80\\%$, para utilizar en validación-cruzada para el entrenamiento y validación."
      ]
    },
    {
      "cell_type": "code",
      "execution_count": 82,
      "metadata": {
        "colab": {
          "base_uri": "https://localhost:8080/"
        },
        "id": "uOFL8GODAkvr",
        "outputId": "7dbbb79b-6e93-40a5-e010-d5878175adee"
      },
      "outputs": [
        {
          "name": "stdout",
          "output_type": "stream",
          "text": [
            "(621, 14) : dimensión de datos de entrada \"X\" para entrenamiento y validación\n",
            "(69, 14) : dimensión de datos de entrada \"X\" para prueba\n",
            "\n",
            "(621,) : dimensión de variable de salida\"y\" para entrenamiento y validación\n",
            "(69,) : dimensión de variable de salida \"y\" para prueba\n"
          ]
        }
      ],
      "source": [
        "Xtv, Xtest, ytv, ytest = train_test_split(X, Y,\n",
        "                                          test_size=0.1,\n",
        "                                          stratify=Y,   # esto nos garantiza que la partición esté estratificada.\n",
        "                                          random_state=1)\n",
        "\n",
        "print(Xtv.shape, ': dimensión de datos de entrada \"X\" para entrenamiento y validación')\n",
        "print(Xtest.shape, ': dimensión de datos de entrada \"X\" para prueba')\n",
        "print()\n",
        "print(ytv.shape, ': dimensión de variable de salida\"y\" para entrenamiento y validación')\n",
        "print(ytest.shape, ': dimensión de variable de salida \"y\" para prueba')"
      ]
    },
    {
      "cell_type": "markdown",
      "metadata": {
        "id": "3ulkKtMrBB_h"
      },
      "source": [
        "El argumento \"stratify=Y\" permite generar las particiones conservando el mismo porcentaje de cada clase en cada subconjunto. Otra manera de interpretar el uso de este argumento es decir que la distribución de las clases del conjunto de entrenamiento utilizado para generar el modelo, será la misma que la distribución de las clases que tendrán los datos en la vida real.\n",
        "\n",
        "**Recuerda que en realidad al utilizar el argumento \"stratify=Y\" estamos generando un filtrado de información. Pero para fines del estudio de esta actividad lo seguiremos utilizando con esta aclaración. Cuando desees generar tu modelo final para producción, la recomendación es no utilizarlo.**\n",
        "\n",
        "Solo para verificar que no estamos con un problema de clases desbalanceadas (problema que abordaremos en próximas semanas), obtengamos el porcentaje de datos en cada clase de la variable de salida. Esto lo podemos obtener sumando los casos positivos (1) y dividéndolos por el total de registros:"
      ]
    },
    {
      "cell_type": "code",
      "execution_count": 83,
      "metadata": {
        "colab": {
          "base_uri": "https://localhost:8080/"
        },
        "id": "JmNfd4rSB5BJ",
        "outputId": "256df718-715e-48e8-f1dd-308484cbbb7e"
      },
      "outputs": [
        {
          "data": {
            "text/plain": [
              "np.float64(0.4444444444444444)"
            ]
          },
          "execution_count": 83,
          "metadata": {},
          "output_type": "execute_result"
        }
      ],
      "source": [
        "ytv.sum() / ytv.shape[0]"
      ]
    },
    {
      "cell_type": "markdown",
      "metadata": {
        "id": "Vg4qSCUcCixu"
      },
      "source": [
        "**Observa que aquí también tenemos el problema del filtrado de información ... ¿puedes indicar por qué se tiene aquí el problema de filtrado de información?**\n",
        "\n",
        "**Por simplicidad y para fines de esta actividad por el momento así procedemos, sin embargo, ¿qué habría que hacer para evitar el filtrado de información en este paso?**"
      ]
    },
    {
      "cell_type": "code",
      "execution_count": 84,
      "metadata": {
        "colab": {
          "base_uri": "https://localhost:8080/"
        },
        "id": "c5dBRaekBj97",
        "outputId": "b4c31d0f-d638-4f4f-fa25-0ede58ec363c"
      },
      "outputs": [
        {
          "name": "stdout",
          "output_type": "stream",
          "text": [
            "Clase positiva (se autoriza): 44.4%\n",
            "Clase negativa (no se autoriza): 55.6%\n"
          ]
        }
      ],
      "source": [
        "print('Clase positiva (se autoriza): %.1f%%' % (100 * (ytv.sum() / ytv.shape[0])))\n",
        "print('Clase negativa (no se autoriza): %.1f%%' % (100 * (1 - ytv.sum() / ytv.shape[0])))"
      ]
    },
    {
      "cell_type": "markdown",
      "metadata": {
        "id": "kfe5woBMC8N0"
      },
      "source": [
        "Tenemos así que las clases de créditos aprobados (1) y no aprobados (0) están distribuidos en aproximadamente un $44\\%$ y un $55\\%$, respectivamente. Esto nos dice que podemos considerarlo como un problema de clases balanceadas, que para el caso biclase, teóricamente debería ser del $50\\%$ cada uno.\n",
        "\n"
      ]
    },
    {
      "cell_type": "code",
      "execution_count": 85,
      "metadata": {
        "id": "lF8E-Vf0EB81"
      },
      "outputs": [],
      "source": [
        "# Transformaciones a factores numéricos de entrada:\n",
        "num_pipeline = Pipeline(steps = [('impMediana', SimpleImputer(strategy='median')),\n",
        "                                 ('escalaNum', MinMaxScaler(feature_range=(1,2)))])\n",
        "num_pipeline_nombres = ['A2','A3','A7','A10','A13','A14']\n",
        "\n",
        "# Transformaciones a factores categóricos de entrada:\n",
        "catImp_pipeline = Pipeline(steps = [('impModa', SimpleImputer(strategy='most_frequent'))])\n",
        "catImp_pipeline_nombres = ['A1', 'A4', 'A5', 'A6', 'A8', 'A9', 'A11', 'A12']\n",
        "\n",
        "catOHE_pipeline = Pipeline(steps = [('OneHotE', OneHotEncoder(handle_unknown='ignore', drop='first'))])\n",
        "catOHE_pipeline_nombres = [ 'A4','A5','A6','A12']\n",
        "\n",
        "#('one_hot', OneHotEncoder(sparse=False, handle_unknown='ignore')\n",
        "\n",
        "# Conjuntamos las transformaciones numéricas y categóricas que se estarán aplicando a los datos de entrada:\n",
        "columnasTransformer = ColumnTransformer(transformers = [('numpipe', num_pipeline, num_pipeline_nombres),\n",
        "                                                        ('catimp', catImp_pipeline, catImp_pipeline_nombres),\n",
        "                                                        ('catohe', catOHE_pipeline, catOHE_pipeline_nombres)],\n",
        "                                        remainder='passthrough')"
      ]
    },
    {
      "cell_type": "markdown",
      "metadata": {
        "id": "kq11jDNkERsW"
      },
      "source": [
        "Observa que estaremos concatenando los modelos y sus nombres en dos listas diferentes para posteriormente llevar a cabo el entrenamiento de cada uno de ellos de manera secuencial.\n",
        "\n",
        "Recuerda que una manera general de empezar a abordar un problema en el área de aprendizaje automático es partiendo del entrenamiento de varios modelos diferentes con sus valores de agrumentos predeterminados para una primera comparación. Sin embargo, con el fin de evitar errores posteriores de no convergencia estamos modificando ligeramente algunos de ellos como se muestran a continuación.\n",
        "\n",
        "Puedes ir revisando la documentación de cada uno de estos métodos en scikit-learn."
      ]
    },
    {
      "cell_type": "code",
      "execution_count": 86,
      "metadata": {
        "id": "CmY_FqFnE2qs"
      },
      "outputs": [],
      "source": [
        "def mis_modelos():\n",
        "  modelos, nombres = list(), list()\n",
        "\n",
        "  # LR - sin regularización:\n",
        "  modelos.append(LogisticRegression(penalty=None, solver='lbfgs', max_iter=2000, random_state=1))\n",
        "  nombres.append('LR')\n",
        "\n",
        "  # Lasso:\n",
        "  modelos.append(LogisticRegression(penalty='l1', solver='liblinear', max_iter=2000, C=1., random_state=1))\n",
        "  nombres.append('LASSO')\n",
        "\n",
        "  # Ridge:\n",
        "  modelos.append(LogisticRegression(penalty='l2', solver='liblinear', max_iter=2000, C=10.01, random_state=1))\n",
        "  nombres.append('RIDGE')\n",
        "\n",
        "  # Elastic-Net:\n",
        "  modelos.append(LogisticRegression(penalty='elasticnet', l1_ratio=0.5, solver='saga', max_iter=4000, C=1., random_state=1))\n",
        "  nombres.append('EN')\n",
        "\n",
        "  # kNN - k-Vecinos más cercanos:\n",
        "  modelos.append(KNeighborsClassifier())\n",
        "  nombres.append('kNN')\n",
        "\n",
        "  return modelos, nombres"
      ]
    },
    {
      "cell_type": "code",
      "execution_count": 87,
      "metadata": {
        "colab": {
          "base_uri": "https://localhost:8080/",
          "height": 884
        },
        "id": "0xfygLATFJkY",
        "outputId": "113f0429-08bc-4232-e0b0-9114c458bdd8"
      },
      "outputs": [
        {
          "name": "stderr",
          "output_type": "stream",
          "text": [
            "/opt/anaconda3/envs/master-ai-tec/lib/python3.12/site-packages/sklearn/preprocessing/_encoders.py:242: UserWarning: Found unknown categories in columns [0] during transform. These unknown categories will be encoded as all zeros\n",
            "  warnings.warn(\n",
            "/opt/anaconda3/envs/master-ai-tec/lib/python3.12/site-packages/sklearn/preprocessing/_encoders.py:242: UserWarning: Found unknown categories in columns [0] during transform. These unknown categories will be encoded as all zeros\n",
            "  warnings.warn(\n",
            "/opt/anaconda3/envs/master-ai-tec/lib/python3.12/site-packages/sklearn/preprocessing/_encoders.py:242: UserWarning: Found unknown categories in columns [0] during transform. These unknown categories will be encoded as all zeros\n",
            "  warnings.warn(\n"
          ]
        },
        {
          "name": "stdout",
          "output_type": "stream",
          "text": [
            ">> LR 0.845 (0.033)\n"
          ]
        },
        {
          "name": "stderr",
          "output_type": "stream",
          "text": [
            "/opt/anaconda3/envs/master-ai-tec/lib/python3.12/site-packages/sklearn/preprocessing/_encoders.py:242: UserWarning: Found unknown categories in columns [0] during transform. These unknown categories will be encoded as all zeros\n",
            "  warnings.warn(\n",
            "/opt/anaconda3/envs/master-ai-tec/lib/python3.12/site-packages/sklearn/preprocessing/_encoders.py:242: UserWarning: Found unknown categories in columns [0] during transform. These unknown categories will be encoded as all zeros\n",
            "  warnings.warn(\n",
            "/opt/anaconda3/envs/master-ai-tec/lib/python3.12/site-packages/sklearn/preprocessing/_encoders.py:242: UserWarning: Found unknown categories in columns [0] during transform. These unknown categories will be encoded as all zeros\n",
            "  warnings.warn(\n"
          ]
        },
        {
          "name": "stdout",
          "output_type": "stream",
          "text": [
            ">> LASSO 0.863 (0.029)\n",
            ">> RIDGE 0.852 (0.030)\n"
          ]
        },
        {
          "name": "stderr",
          "output_type": "stream",
          "text": [
            "/opt/anaconda3/envs/master-ai-tec/lib/python3.12/site-packages/sklearn/preprocessing/_encoders.py:242: UserWarning: Found unknown categories in columns [0] during transform. These unknown categories will be encoded as all zeros\n",
            "  warnings.warn(\n",
            "/opt/anaconda3/envs/master-ai-tec/lib/python3.12/site-packages/sklearn/preprocessing/_encoders.py:242: UserWarning: Found unknown categories in columns [0] during transform. These unknown categories will be encoded as all zeros\n",
            "  warnings.warn(\n",
            "/opt/anaconda3/envs/master-ai-tec/lib/python3.12/site-packages/sklearn/preprocessing/_encoders.py:242: UserWarning: Found unknown categories in columns [0] during transform. These unknown categories will be encoded as all zeros\n",
            "  warnings.warn(\n"
          ]
        },
        {
          "name": "stdout",
          "output_type": "stream",
          "text": [
            ">> EN 0.859 (0.034)\n",
            ">> kNN 0.809 (0.027)\n"
          ]
        },
        {
          "name": "stderr",
          "output_type": "stream",
          "text": [
            "/opt/anaconda3/envs/master-ai-tec/lib/python3.12/site-packages/sklearn/preprocessing/_encoders.py:242: UserWarning: Found unknown categories in columns [0] during transform. These unknown categories will be encoded as all zeros\n",
            "  warnings.warn(\n",
            "/var/folders/w6/304l7tqs0f946cfnk4fb4vg80000gp/T/ipykernel_74650/84287370.py:16: MatplotlibDeprecationWarning: The 'labels' parameter of boxplot() has been renamed 'tick_labels' since Matplotlib 3.9; support for the old name will be dropped in 3.11.\n",
            "  plt.boxplot(resultados, labels=nombres, showmeans=True)\n"
          ]
        },
        {
          "data": {
            "image/png": "[encoded data removed]",
            "text/plain": [
              "<Figure size 640x480 with 1 Axes>"
            ]
          },
          "metadata": {},
          "output_type": "display_data"
        }
      ],
      "source": [
        "modelos, nombres = mis_modelos()\n",
        "resultados = list()\n",
        "\n",
        "for i in range(len(modelos)):\n",
        "\n",
        "  pipeline = Pipeline(steps=[('ct',columnasTransformer),('m',modelos[i])])\n",
        "\n",
        "  cv1 = RepeatedStratifiedKFold(n_splits=5, n_repeats=3, random_state=8)\n",
        "\n",
        "  scores = cross_val_score(pipeline, Xtv, np.ravel(ytv), scoring='accuracy', cv=cv1)\n",
        "\n",
        "  resultados.append(scores)\n",
        "  print('>> %s %.3f (%.3f)' % (nombres[i], np.nanmean(scores), np.nanstd(scores)))\n",
        "\n",
        "\n",
        "plt.boxplot(resultados, labels=nombres, showmeans=True)\n",
        "plt.show()"
      ]
    },
    {
      "cell_type": "markdown",
      "metadata": {
        "id": "ggGM-51Qb9Lj"
      },
      "source": [
        "### **Seleccionando los mejores valores de los hiperparámetros del mejor modelo**"
      ]
    },
    {
      "cell_type": "markdown",
      "metadata": {
        "id": "vtbkaRLxz4bX"
      },
      "source": [
        "Una vez seleccionado nuestro mejor modelo podemos hacer una búsqueda más detallada en sus hiperparámetros mediante llamada búsqueda de malla (grid search), como se muestra a continuación.\n",
        "\n",
        "Recuerda revisar la documentación correspondiente:\n",
        "\n",
        "https://scikit-learn.org/stable/modules/generated/sklearn.linear_model.LogisticRegression.html\n",
        "\n",
        "\n",
        "https://scikit-learn.org/stable/modules/generated/sklearn.model_selection.GridSearchCV.html\n",
        "\n"
      ]
    },
    {
      "cell_type": "markdown",
      "metadata": {
        "id": "4GTO_7mW2f5m"
      },
      "source": [
        "Observa que GridSearchCV() además de la búsqueda de los mejores valores de los hiperparámetros también incluye Validación Cruzada (Cross-Validation). Esto permite obtener un resultado más robusto en cuanto a los mejores hiperparámetros encontrados."
      ]
    },
    {
      "cell_type": "code",
      "execution_count": 88,
      "metadata": {
        "colab": {
          "base_uri": "https://localhost:8080/"
        },
        "id": "7Y6O-SDBUt0M",
        "outputId": "8955c5a1-d614-4c95-c9a4-ed3d899a7183"
      },
      "outputs": [
        {
          "name": "stderr",
          "output_type": "stream",
          "text": [
            "/opt/anaconda3/envs/master-ai-tec/lib/python3.12/site-packages/sklearn/linear_model/_sag.py:349: ConvergenceWarning: The max_iter was reached which means the coef_ did not converge\n",
            "  warnings.warn(\n",
            "/opt/anaconda3/envs/master-ai-tec/lib/python3.12/site-packages/sklearn/linear_model/_sag.py:349: ConvergenceWarning: The max_iter was reached which means the coef_ did not converge\n",
            "  warnings.warn(\n",
            "/opt/anaconda3/envs/master-ai-tec/lib/python3.12/site-packages/sklearn/linear_model/_sag.py:349: ConvergenceWarning: The max_iter was reached which means the coef_ did not converge\n",
            "  warnings.warn(\n",
            "/opt/anaconda3/envs/master-ai-tec/lib/python3.12/site-packages/sklearn/linear_model/_sag.py:349: ConvergenceWarning: The max_iter was reached which means the coef_ did not converge\n",
            "  warnings.warn(\n",
            "/opt/anaconda3/envs/master-ai-tec/lib/python3.12/site-packages/sklearn/linear_model/_sag.py:349: ConvergenceWarning: The max_iter was reached which means the coef_ did not converge\n",
            "  warnings.warn(\n",
            "/opt/anaconda3/envs/master-ai-tec/lib/python3.12/site-packages/sklearn/linear_model/_sag.py:349: ConvergenceWarning: The max_iter was reached which means the coef_ did not converge\n",
            "  warnings.warn(\n",
            "/opt/anaconda3/envs/master-ai-tec/lib/python3.12/site-packages/sklearn/linear_model/_sag.py:349: ConvergenceWarning: The max_iter was reached which means the coef_ did not converge\n",
            "  warnings.warn(\n",
            "/opt/anaconda3/envs/master-ai-tec/lib/python3.12/site-packages/sklearn/linear_model/_sag.py:349: ConvergenceWarning: The max_iter was reached which means the coef_ did not converge\n",
            "  warnings.warn(\n",
            "/opt/anaconda3/envs/master-ai-tec/lib/python3.12/site-packages/sklearn/linear_model/_sag.py:349: ConvergenceWarning: The max_iter was reached which means the coef_ did not converge\n",
            "  warnings.warn(\n",
            "/opt/anaconda3/envs/master-ai-tec/lib/python3.12/site-packages/sklearn/linear_model/_sag.py:349: ConvergenceWarning: The max_iter was reached which means the coef_ did not converge\n",
            "  warnings.warn(\n",
            "/opt/anaconda3/envs/master-ai-tec/lib/python3.12/site-packages/sklearn/linear_model/_sag.py:349: ConvergenceWarning: The max_iter was reached which means the coef_ did not converge\n",
            "  warnings.warn(\n",
            "/opt/anaconda3/envs/master-ai-tec/lib/python3.12/site-packages/sklearn/linear_model/_sag.py:349: ConvergenceWarning: The max_iter was reached which means the coef_ did not converge\n",
            "  warnings.warn(\n",
            "/opt/anaconda3/envs/master-ai-tec/lib/python3.12/site-packages/sklearn/linear_model/_sag.py:349: ConvergenceWarning: The max_iter was reached which means the coef_ did not converge\n",
            "  warnings.warn(\n",
            "/opt/anaconda3/envs/master-ai-tec/lib/python3.12/site-packages/sklearn/linear_model/_sag.py:349: ConvergenceWarning: The max_iter was reached which means the coef_ did not converge\n",
            "  warnings.warn(\n",
            "/opt/anaconda3/envs/master-ai-tec/lib/python3.12/site-packages/sklearn/linear_model/_sag.py:349: ConvergenceWarning: The max_iter was reached which means the coef_ did not converge\n",
            "  warnings.warn(\n",
            "/opt/anaconda3/envs/master-ai-tec/lib/python3.12/site-packages/sklearn/linear_model/_sag.py:349: ConvergenceWarning: The max_iter was reached which means the coef_ did not converge\n",
            "  warnings.warn(\n"
          ]
        },
        {
          "name": "stdout",
          "output_type": "stream",
          "text": [
            "Mejor valor de la métrica: 0.901017 usando {'C': 0.5, 'solver': 'liblinear'}\n"
          ]
        },
        {
          "name": "stderr",
          "output_type": "stream",
          "text": [
            "/opt/anaconda3/envs/master-ai-tec/lib/python3.12/site-packages/sklearn/linear_model/_sag.py:349: ConvergenceWarning: The max_iter was reached which means the coef_ did not converge\n",
            "  warnings.warn(\n",
            "/opt/anaconda3/envs/master-ai-tec/lib/python3.12/site-packages/sklearn/linear_model/_sag.py:349: ConvergenceWarning: The max_iter was reached which means the coef_ did not converge\n",
            "  warnings.warn(\n",
            "/opt/anaconda3/envs/master-ai-tec/lib/python3.12/site-packages/sklearn/linear_model/_sag.py:349: ConvergenceWarning: The max_iter was reached which means the coef_ did not converge\n",
            "  warnings.warn(\n",
            "/opt/anaconda3/envs/master-ai-tec/lib/python3.12/site-packages/sklearn/linear_model/_sag.py:349: ConvergenceWarning: The max_iter was reached which means the coef_ did not converge\n",
            "  warnings.warn(\n",
            "/opt/anaconda3/envs/master-ai-tec/lib/python3.12/site-packages/sklearn/linear_model/_sag.py:349: ConvergenceWarning: The max_iter was reached which means the coef_ did not converge\n",
            "  warnings.warn(\n",
            "/opt/anaconda3/envs/master-ai-tec/lib/python3.12/site-packages/sklearn/linear_model/_sag.py:349: ConvergenceWarning: The max_iter was reached which means the coef_ did not converge\n",
            "  warnings.warn(\n",
            "/opt/anaconda3/envs/master-ai-tec/lib/python3.12/site-packages/sklearn/linear_model/_sag.py:349: ConvergenceWarning: The max_iter was reached which means the coef_ did not converge\n",
            "  warnings.warn(\n"
          ]
        }
      ],
      "source": [
        "# Seleccionamos Lasso - métrica L1 como nuestro mejor modelo.\n",
        "# Observa que los mejores valores dependen de la métrica utilizada.\n",
        "\n",
        "modelo = LogisticRegression(penalty='l1', max_iter=2000, random_state=1)        # tarda unos 40 segs\n",
        "\n",
        "dicc_grid = {'C':[ 0.5, 1., 3.],\n",
        "             'solver':['liblinear','saga']\n",
        "             }\n",
        "\n",
        "cv = RepeatedStratifiedKFold(n_splits=5, n_repeats=3, random_state=8)\n",
        "\n",
        "grid = GridSearchCV(estimator=modelo,\n",
        "                    param_grid=dicc_grid,\n",
        "                    cv=cv,\n",
        "                    scoring='recall',  # podemos seleccionar otras métricas: 'accuracy', 'f1', 'precision', 'recall'\n",
        "                    n_jobs=-1,\n",
        "                    return_train_score=True    # podemos obtener los de entrenamiento para verificar sobreentrenamiento.\n",
        "                    )\n",
        "\n",
        "\n",
        "Xx = columnasTransformer.fit_transform(Xtv)\n",
        "\n",
        "grid_result = grid.fit(Xx, np.ravel(ytv))\n",
        "\n",
        "print(\"Mejor valor de la métrica: %f usando %s\" % (grid_result.best_score_, grid_result.best_params_))"
      ]
    },
    {
      "cell_type": "code",
      "execution_count": 89,
      "metadata": {
        "id": "9X-G4qm3XzZO"
      },
      "outputs": [
        {
          "data": {
            "text/plain": [
              "{'mean_fit_time': array([0.01061266, 0.21396289, 0.01612706, 0.36242615, 0.02973709,\n",
              "        0.30968396]),\n",
              " 'std_fit_time': array([0.00497014, 0.04975818, 0.00731053, 0.06336865, 0.01598694,\n",
              "        0.03734175]),\n",
              " 'mean_score_time': array([0.00101326, 0.0017156 , 0.00126252, 0.00113463, 0.00103974,\n",
              "        0.0007521 ]),\n",
              " 'std_score_time': array([0.00037853, 0.00129415, 0.00095389, 0.00070902, 0.00081199,\n",
              "        0.00024464]),\n",
              " 'param_C': masked_array(data=[0.5, 0.5, 1.0, 1.0, 3.0, 3.0],\n",
              "              mask=[False, False, False, False, False, False],\n",
              "        fill_value=1e+20),\n",
              " 'param_solver': masked_array(data=['liblinear', 'saga', 'liblinear', 'saga', 'liblinear',\n",
              "                    'saga'],\n",
              "              mask=[False, False, False, False, False, False],\n",
              "        fill_value=np.str_('?'),\n",
              "             dtype=object),\n",
              " 'params': [{'C': 0.5, 'solver': 'liblinear'},\n",
              "  {'C': 0.5, 'solver': 'saga'},\n",
              "  {'C': 1.0, 'solver': 'liblinear'},\n",
              "  {'C': 1.0, 'solver': 'saga'},\n",
              "  {'C': 3.0, 'solver': 'liblinear'},\n",
              "  {'C': 3.0, 'solver': 'saga'}],\n",
              " 'split0_test_score': array([0.85714286, 0.875     , 0.85714286, 0.85714286, 0.85714286,\n",
              "        0.85714286]),\n",
              " 'split1_test_score': array([0.90909091, 0.90909091, 0.90909091, 0.87272727, 0.89090909,\n",
              "        0.87272727]),\n",
              " 'split2_test_score': array([0.92727273, 0.90909091, 0.90909091, 0.87272727, 0.87272727,\n",
              "        0.89090909]),\n",
              " 'split3_test_score': array([0.92727273, 0.92727273, 0.94545455, 0.94545455, 0.87272727,\n",
              "        0.89090909]),\n",
              " 'split4_test_score': array([0.90909091, 0.89090909, 0.89090909, 0.89090909, 0.87272727,\n",
              "        0.87272727]),\n",
              " 'split5_test_score': array([0.92857143, 0.92857143, 0.91071429, 0.92857143, 0.91071429,\n",
              "        0.91071429]),\n",
              " 'split6_test_score': array([0.85454545, 0.85454545, 0.83636364, 0.85454545, 0.83636364,\n",
              "        0.83636364]),\n",
              " 'split7_test_score': array([0.92727273, 0.92727273, 0.92727273, 0.92727273, 0.94545455,\n",
              "        0.94545455]),\n",
              " 'split8_test_score': array([0.90909091, 0.85454545, 0.87272727, 0.85454545, 0.83636364,\n",
              "        0.83636364]),\n",
              " 'split9_test_score': array([0.87272727, 0.89090909, 0.89090909, 0.90909091, 0.89090909,\n",
              "        0.89090909]),\n",
              " 'split10_test_score': array([0.875     , 0.89285714, 0.875     , 0.83928571, 0.85714286,\n",
              "        0.83928571]),\n",
              " 'split11_test_score': array([0.92727273, 0.94545455, 0.96363636, 0.94545455, 0.96363636,\n",
              "        0.96363636]),\n",
              " 'split12_test_score': array([0.89090909, 0.89090909, 0.89090909, 0.90909091, 0.87272727,\n",
              "        0.89090909]),\n",
              " 'split13_test_score': array([0.85454545, 0.85454545, 0.85454545, 0.83636364, 0.85454545,\n",
              "        0.83636364]),\n",
              " 'split14_test_score': array([0.94545455, 0.92727273, 0.90909091, 0.90909091, 0.89090909,\n",
              "        0.89090909]),\n",
              " 'mean_test_score': array([0.90101732, 0.89854978, 0.89619048, 0.89015152, 0.88166667,\n",
              "        0.88168831]),\n",
              " 'std_test_score': array([0.03001163, 0.02871688, 0.03324026, 0.03629548, 0.03488145,\n",
              "        0.03721404]),\n",
              " 'rank_test_score': array([1, 2, 3, 4, 6, 5], dtype=int32),\n",
              " 'split0_train_score': array([0.89545455, 0.89545455, 0.90909091, 0.90454545, 0.91818182,\n",
              "        0.91363636]),\n",
              " 'split1_train_score': array([0.90950226, 0.90045249, 0.90497738, 0.8959276 , 0.90497738,\n",
              "        0.90497738]),\n",
              " 'split2_train_score': array([0.91402715, 0.91855204, 0.91855204, 0.92307692, 0.91855204,\n",
              "        0.91855204]),\n",
              " 'split3_train_score': array([0.89140271, 0.89140271, 0.90950226, 0.90950226, 0.91402715,\n",
              "        0.91402715]),\n",
              " 'split4_train_score': array([0.90497738, 0.90950226, 0.9321267 , 0.92760181, 0.92760181,\n",
              "        0.92760181]),\n",
              " 'split5_train_score': array([0.91818182, 0.91363636, 0.91363636, 0.91363636, 0.92727273,\n",
              "        0.92727273]),\n",
              " 'split6_train_score': array([0.90045249, 0.88687783, 0.91402715, 0.90950226, 0.90950226,\n",
              "        0.91402715]),\n",
              " 'split7_train_score': array([0.89140271, 0.87330317, 0.90045249, 0.88687783, 0.90045249,\n",
              "        0.90497738]),\n",
              " 'split8_train_score': array([0.90045249, 0.90950226, 0.91855204, 0.92307692, 0.91855204,\n",
              "        0.92307692]),\n",
              " 'split9_train_score': array([0.90950226, 0.90950226, 0.92307692, 0.91402715, 0.91855204,\n",
              "        0.91855204]),\n",
              " 'split10_train_score': array([0.90454545, 0.91363636, 0.93636364, 0.92727273, 0.92272727,\n",
              "        0.92272727]),\n",
              " 'split11_train_score': array([0.90497738, 0.8959276 , 0.90950226, 0.90497738, 0.91855204,\n",
              "        0.91855204]),\n",
              " 'split12_train_score': array([0.90045249, 0.88687783, 0.91855204, 0.90950226, 0.91402715,\n",
              "        0.90950226]),\n",
              " 'split13_train_score': array([0.92760181, 0.9321267 , 0.92760181, 0.92760181, 0.9321267 ,\n",
              "        0.92760181]),\n",
              " 'split14_train_score': array([0.90497738, 0.89140271, 0.90045249, 0.88687783, 0.89140271,\n",
              "        0.8959276 ]),\n",
              " 'mean_train_score': array([0.90519402, 0.90187714, 0.91576443, 0.91093377, 0.91576717,\n",
              "        0.91606746]),\n",
              " 'std_train_score': array([0.00941348, 0.01462557, 0.01040751, 0.01316407, 0.01037708,\n",
              "        0.00899102])}"
            ]
          },
          "execution_count": 89,
          "metadata": {},
          "output_type": "execute_result"
        }
      ],
      "source": [
        "grid_result.cv_results_"
      ]
    },
    {
      "cell_type": "code",
      "execution_count": 90,
      "metadata": {
        "colab": {
          "base_uri": "https://localhost:8080/"
        },
        "id": "jbRv4UkeSA-l",
        "outputId": "7e9e8a2e-58ec-45c6-8b94-a3ade4c515a7"
      },
      "outputs": [
        {
          "name": "stdout",
          "output_type": "stream",
          "text": [
            "Train mean(std): 0.9109(0.0112)\n",
            "Test mean(std): 0.8915(0.0334)\n"
          ]
        }
      ],
      "source": [
        "print('Train mean(std): %.4f(%.4f)' % (grid_result.cv_results_['mean_train_score'].mean(), grid_result.cv_results_['std_train_score'].mean()))\n",
        "print('Test mean(std): %.4f(%.4f)' % (grid_result.cv_results_['mean_test_score'].mean(), grid_result.cv_results_['std_test_score'].mean()))"
      ]
    },
    {
      "cell_type": "code",
      "execution_count": 91,
      "metadata": {
        "colab": {
          "base_uri": "https://localhost:8080/"
        },
        "id": "d0T1aPFlSFfp",
        "outputId": "5342e738-3ae9-4d15-fee7-552630862894"
      },
      "outputs": [
        {
          "data": {
            "text/plain": [
              "0.8260869565217391"
            ]
          },
          "execution_count": 91,
          "metadata": {},
          "output_type": "execute_result"
        }
      ],
      "source": [
        "# Mejor modelo e hiperparámetros:\n",
        "\n",
        "modelo_mejor = LogisticRegression(penalty='l1',\n",
        "                                  max_iter=2000,\n",
        "                                  solver='liblinear',\n",
        "                                  C=1.,\n",
        "                                  random_state=1)\n",
        "\n",
        "Xx = columnasTransformer.fit_transform(Xtv)\n",
        "\n",
        "mejor_result = modelo_mejor.fit(Xx, np.ravel(ytv))\n",
        "\n",
        "mejor_result.score(columnasTransformer.transform(Xtest), np.ravel(ytest))"
      ]
    },
    {
      "cell_type": "code",
      "execution_count": 92,
      "metadata": {
        "colab": {
          "base_uri": "https://localhost:8080/",
          "height": 449
        },
        "id": "Y2mUHYiQS1mt",
        "outputId": "097f6488-f740-4ab2-b14f-074194a1ec36"
      },
      "outputs": [
        {
          "data": {
            "image/png": "[encoded data removed]",
            "text/plain": [
              "<Figure size 640x480 with 2 Axes>"
            ]
          },
          "metadata": {},
          "output_type": "display_data"
        }
      ],
      "source": [
        "# matriz de confusión:\n",
        "ConfusionMatrixDisplay.from_estimator(mejor_result, Xx, np.ravel(ytv))\n",
        "plt.show()"
      ]
    },
    {
      "cell_type": "code",
      "execution_count": 93,
      "metadata": {
        "colab": {
          "base_uri": "https://localhost:8080/",
          "height": 449
        },
        "id": "aNrTtxQkWgee",
        "outputId": "efe8089a-b787-4638-b8fb-8a2f140279b2"
      },
      "outputs": [
        {
          "data": {
            "image/png": "[encoded data removed]",
            "text/plain": [
              "<Figure size 640x480 with 2 Axes>"
            ]
          },
          "metadata": {},
          "output_type": "display_data"
        }
      ],
      "source": [
        "ConfusionMatrixDisplay.from_estimator(mejor_result, Xx, np.ravel(ytv), normalize='all')\n",
        "plt.show()"
      ]
    },
    {
      "cell_type": "code",
      "execution_count": 94,
      "metadata": {
        "colab": {
          "base_uri": "https://localhost:8080/"
        },
        "id": "O7XAmnfaZJG3",
        "outputId": "5ef62449-f04b-4ec0-deda-2b747f730a15"
      },
      "outputs": [
        {
          "data": {
            "text/plain": [
              "array([[ 0.        , -0.08531332,  0.43671733,  0.        , -3.28242548,\n",
              "         0.        , -0.13034045,  0.73191875,  0.21156759,  0.        ,\n",
              "         3.57616328,  1.14775932,  0.        ,  0.        ,  0.        ,\n",
              "         0.35033723,  0.51596064,  0.        ,  0.        ,  0.        ,\n",
              "        -0.09731747,  0.        , -0.03425919,  0.14901205,  0.        ,\n",
              "        -0.59470853,  0.        ,  0.        ,  0.0532495 ,  0.        ,\n",
              "         0.        , -0.19989585, -0.15825114,  0.35488946,  0.        ,\n",
              "         0.        , -0.30443663,  2.80759095]])"
            ]
          },
          "execution_count": 94,
          "metadata": {},
          "output_type": "execute_result"
        }
      ],
      "source": [
        "# Para obtener los coeficientes más importantes del mejor modelo obtenido:\n",
        "mejor_result.coef_"
      ]
    },
    {
      "cell_type": "code",
      "execution_count": 95,
      "metadata": {
        "colab": {
          "base_uri": "https://localhost:8080/",
          "height": 1000
        },
        "id": "UbMeIXd1ZWbk",
        "outputId": "70b7d303-8851-4a45-a0d5-5a56fc5fc594"
      },
      "outputs": [
        {
          "data": {
            "text/html": [
              "<div>\n",
              "<style scoped>\n",
              "    .dataframe tbody tr th:only-of-type {\n",
              "        vertical-align: middle;\n",
              "    }\n",
              "\n",
              "    .dataframe tbody tr th {\n",
              "        vertical-align: top;\n",
              "    }\n",
              "\n",
              "    .dataframe thead th {\n",
              "        text-align: right;\n",
              "    }\n",
              "</style>\n",
              "<table border=\"1\" class=\"dataframe\">\n",
              "  <thead>\n",
              "    <tr style=\"text-align: right;\">\n",
              "      <th></th>\n",
              "      <th>0</th>\n",
              "    </tr>\n",
              "  </thead>\n",
              "  <tbody>\n",
              "    <tr>\n",
              "      <th>numpipe__A2</th>\n",
              "      <td>0.000000</td>\n",
              "    </tr>\n",
              "    <tr>\n",
              "      <th>numpipe__A3</th>\n",
              "      <td>-0.085313</td>\n",
              "    </tr>\n",
              "    <tr>\n",
              "      <th>numpipe__A7</th>\n",
              "      <td>0.436717</td>\n",
              "    </tr>\n",
              "    <tr>\n",
              "      <th>numpipe__A10</th>\n",
              "      <td>0.000000</td>\n",
              "    </tr>\n",
              "    <tr>\n",
              "      <th>numpipe__A13</th>\n",
              "      <td>-3.282425</td>\n",
              "    </tr>\n",
              "    <tr>\n",
              "      <th>numpipe__A14</th>\n",
              "      <td>0.000000</td>\n",
              "    </tr>\n",
              "    <tr>\n",
              "      <th>catimp__A1</th>\n",
              "      <td>-0.130340</td>\n",
              "    </tr>\n",
              "    <tr>\n",
              "      <th>catimp__A4</th>\n",
              "      <td>0.731919</td>\n",
              "    </tr>\n",
              "    <tr>\n",
              "      <th>catimp__A5</th>\n",
              "      <td>0.211568</td>\n",
              "    </tr>\n",
              "    <tr>\n",
              "      <th>catimp__A6</th>\n",
              "      <td>0.000000</td>\n",
              "    </tr>\n",
              "    <tr>\n",
              "      <th>catimp__A8</th>\n",
              "      <td>3.576163</td>\n",
              "    </tr>\n",
              "    <tr>\n",
              "      <th>catimp__A9</th>\n",
              "      <td>1.147759</td>\n",
              "    </tr>\n",
              "    <tr>\n",
              "      <th>catimp__A11</th>\n",
              "      <td>0.000000</td>\n",
              "    </tr>\n",
              "    <tr>\n",
              "      <th>catimp__A12</th>\n",
              "      <td>0.000000</td>\n",
              "    </tr>\n",
              "    <tr>\n",
              "      <th>catohe__A4_2</th>\n",
              "      <td>0.000000</td>\n",
              "    </tr>\n",
              "    <tr>\n",
              "      <th>catohe__A4_3</th>\n",
              "      <td>0.350337</td>\n",
              "    </tr>\n",
              "    <tr>\n",
              "      <th>catohe__A5_2</th>\n",
              "      <td>0.515961</td>\n",
              "    </tr>\n",
              "    <tr>\n",
              "      <th>catohe__A5_3</th>\n",
              "      <td>0.000000</td>\n",
              "    </tr>\n",
              "    <tr>\n",
              "      <th>catohe__A5_4</th>\n",
              "      <td>0.000000</td>\n",
              "    </tr>\n",
              "    <tr>\n",
              "      <th>catohe__A5_5</th>\n",
              "      <td>0.000000</td>\n",
              "    </tr>\n",
              "    <tr>\n",
              "      <th>catohe__A5_6</th>\n",
              "      <td>-0.097317</td>\n",
              "    </tr>\n",
              "    <tr>\n",
              "      <th>catohe__A5_7</th>\n",
              "      <td>0.000000</td>\n",
              "    </tr>\n",
              "    <tr>\n",
              "      <th>catohe__A5_8</th>\n",
              "      <td>-0.034259</td>\n",
              "    </tr>\n",
              "    <tr>\n",
              "      <th>catohe__A5_9</th>\n",
              "      <td>0.149012</td>\n",
              "    </tr>\n",
              "    <tr>\n",
              "      <th>catohe__A5_10</th>\n",
              "      <td>0.000000</td>\n",
              "    </tr>\n",
              "    <tr>\n",
              "      <th>catohe__A5_11</th>\n",
              "      <td>-0.594709</td>\n",
              "    </tr>\n",
              "    <tr>\n",
              "      <th>catohe__A5_12</th>\n",
              "      <td>0.000000</td>\n",
              "    </tr>\n",
              "    <tr>\n",
              "      <th>catohe__A5_13</th>\n",
              "      <td>0.000000</td>\n",
              "    </tr>\n",
              "    <tr>\n",
              "      <th>catohe__A5_14</th>\n",
              "      <td>0.053250</td>\n",
              "    </tr>\n",
              "    <tr>\n",
              "      <th>catohe__A6_2</th>\n",
              "      <td>0.000000</td>\n",
              "    </tr>\n",
              "    <tr>\n",
              "      <th>catohe__A6_3</th>\n",
              "      <td>0.000000</td>\n",
              "    </tr>\n",
              "    <tr>\n",
              "      <th>catohe__A6_4</th>\n",
              "      <td>-0.199896</td>\n",
              "    </tr>\n",
              "    <tr>\n",
              "      <th>catohe__A6_5</th>\n",
              "      <td>-0.158251</td>\n",
              "    </tr>\n",
              "    <tr>\n",
              "      <th>catohe__A6_7</th>\n",
              "      <td>0.354889</td>\n",
              "    </tr>\n",
              "    <tr>\n",
              "      <th>catohe__A6_8</th>\n",
              "      <td>0.000000</td>\n",
              "    </tr>\n",
              "    <tr>\n",
              "      <th>catohe__A6_9</th>\n",
              "      <td>0.000000</td>\n",
              "    </tr>\n",
              "    <tr>\n",
              "      <th>catohe__A12_2</th>\n",
              "      <td>-0.304437</td>\n",
              "    </tr>\n",
              "    <tr>\n",
              "      <th>catohe__A12_3</th>\n",
              "      <td>2.807591</td>\n",
              "    </tr>\n",
              "  </tbody>\n",
              "</table>\n",
              "</div>"
            ],
            "text/plain": [
              "                      0\n",
              "numpipe__A2    0.000000\n",
              "numpipe__A3   -0.085313\n",
              "numpipe__A7    0.436717\n",
              "numpipe__A10   0.000000\n",
              "numpipe__A13  -3.282425\n",
              "numpipe__A14   0.000000\n",
              "catimp__A1    -0.130340\n",
              "catimp__A4     0.731919\n",
              "catimp__A5     0.211568\n",
              "catimp__A6     0.000000\n",
              "catimp__A8     3.576163\n",
              "catimp__A9     1.147759\n",
              "catimp__A11    0.000000\n",
              "catimp__A12    0.000000\n",
              "catohe__A4_2   0.000000\n",
              "catohe__A4_3   0.350337\n",
              "catohe__A5_2   0.515961\n",
              "catohe__A5_3   0.000000\n",
              "catohe__A5_4   0.000000\n",
              "catohe__A5_5   0.000000\n",
              "catohe__A5_6  -0.097317\n",
              "catohe__A5_7   0.000000\n",
              "catohe__A5_8  -0.034259\n",
              "catohe__A5_9   0.149012\n",
              "catohe__A5_10  0.000000\n",
              "catohe__A5_11 -0.594709\n",
              "catohe__A5_12  0.000000\n",
              "catohe__A5_13  0.000000\n",
              "catohe__A5_14  0.053250\n",
              "catohe__A6_2   0.000000\n",
              "catohe__A6_3   0.000000\n",
              "catohe__A6_4  -0.199896\n",
              "catohe__A6_5  -0.158251\n",
              "catohe__A6_7   0.354889\n",
              "catohe__A6_8   0.000000\n",
              "catohe__A6_9   0.000000\n",
              "catohe__A12_2 -0.304437\n",
              "catohe__A12_3  2.807591"
            ]
          },
          "execution_count": 95,
          "metadata": {},
          "output_type": "execute_result"
        }
      ],
      "source": [
        "# y para obtenerlo con los nombres de los factores:\n",
        "pd.DataFrame(data = mejor_result.coef_.reshape(-1,1),\n",
        "             index = columnasTransformer.get_feature_names_out())"
      ]
    },
    {
      "cell_type": "code",
      "execution_count": 19,
      "metadata": {
        "id": "S1kLRojsZqGb"
      },
      "outputs": [],
      "source": []
    }
  ],
  "metadata": {
    "colab": {
      "provenance": []
    },
    "kernelspec": {
      "display_name": "Python 3",
      "name": "python3"
    },
    "language_info": {
      "codemirror_mode": {
        "name": "ipython",
        "version": 3
      },
      "file_extension": ".py",
      "mimetype": "text/x-python",
      "name": "python",
      "nbconvert_exporter": "python",
      "pygments_lexer": "ipython3",
      "version": "3.12.5"
    }
  },
  "nbformat": 4,
  "nbformat_minor": 0
}

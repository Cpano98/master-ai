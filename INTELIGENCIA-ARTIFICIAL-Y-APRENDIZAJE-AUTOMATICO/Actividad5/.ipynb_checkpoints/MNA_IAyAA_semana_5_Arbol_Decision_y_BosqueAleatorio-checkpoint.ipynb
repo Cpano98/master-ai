{
 "cells": [
  {
   "cell_type": "markdown",
   "metadata": {
    "id": "HHqnTO8v54ki"
   },
   "source": [
    "# **Maestría en Inteligencia Artificial Aplicada**\n",
    "## **Curso: Inteligencia Artificial y Aprendizaje Automático**\n",
    "### Tecnológico de Monterrey\n",
    "### Prof Luis Eduardo Falcón Morales\n",
    "\n",
    "### **Semana 5**\n",
    "#### **Árbol de Decisión y Bosque Aleatorio**"
   ]
  },
  {
   "cell_type": "markdown",
   "metadata": {
    "id": "y9kElqHtLUSu"
   },
   "source": [
    "# **Parte - 1: Árbol de Decisión (Decision Tree)**"
   ]
  },
  {
   "cell_type": "markdown",
   "metadata": {
    "id": "Y3bAjpSizYwQ"
   },
   "source": [
    "Lo relacionado a la teoría de este tema lo puedes estudiar en las siguientes referencias:\n",
    "\n",
    "*\t  Aurélien Géron (2023) Hands-on Machine Learning with scikit-learn, Keras and Tensor Flow, 3rd edition. El capítulo 7, llamado Ensemble Learning and Random Forests. El capítulo 6, llamado Decision Trees.\n",
    "\n",
    "*   Hasti/Tibshirani/Friedman (2017). The elements of statistical learning: data mining inference ad prediction, Editorial Springer. El capítulo 15, Random Forest. La sección 9.2 llamada Tree-based methods. Puedes consultarlo en la página de los autores:\n",
    "https://hastie.su.domains/ElemStatLearn/ \n",
    "\n",
    "*   Igualmente puedes consultar el archivo PDF que se encuentra en Canvas llamado **MNA_IAyAA_semana_6_Arboles_de_decision_teoria.pdf**.\n"
   ]
  },
  {
   "cell_type": "markdown",
   "metadata": {
    "id": "3gWWMIWnr-KY"
   },
   "source": [
    "En este ejercicio iniciaremos usando la base de datos clásica conocida como iris. Es una base de datos introducida a la comunidad científica en 1936 por el estadista inglés Ronald Fisher. El conjunto de datos consta de 150 registros de tres especies de la flor iris y de las cuales se tienen 4 medidas morfológicas del sépalo y el pétalo.\n",
    "\n",
    "Ver liga para más detalles:\n",
    "\n",
    "https://es.wikipedia.org/wiki/Conjunto_de_datos_flor_iris \n",
    "\n",
    "https://scikit-learn.org/stable/modules/generated/sklearn.datasets.load_iris.html\n",
    "\n",
    "https://scikit-learn.org/stable/auto_examples/ensemble/plot_forest_iris.html\n",
    "\n"
   ]
  },
  {
   "cell_type": "markdown",
   "metadata": {
    "id": "e7nMqx3k9KYS"
   },
   "source": [
    "Recuerda que los árboles de decisión se pueden utilizar en problemas de regresión y clasificación. En este ejericio veremos el caso del modelo de clasificación.\n",
    "\n",
    "Consulta la documentación de scikit-learn de cada modelo:\n",
    "\n",
    "https://scikit-learn.org/stable/modules/generated/sklearn.tree.DecisionTreeClassifier.html \n",
    "\n",
    "https://scikit-learn.org/stable/modules/generated/sklearn.tree.DecisionTreeRegressor.html"
   ]
  },
  {
   "cell_type": "code",
   "execution_count": 15,
   "metadata": {
    "id": "MqtqFW3yrx8r"
   },
   "outputs": [],
   "source": [
    "import numpy as np\n",
    "import pandas as pd\n",
    "\n",
    "from sklearn.tree import DecisionTreeClassifier\n",
    "from sklearn.ensemble import RandomForestClassifier \n",
    "\n",
    "from sklearn.datasets import load_iris\n",
    "\n",
    "from sklearn.model_selection import train_test_split \n",
    "from sklearn.metrics import confusion_matrix\n",
    "\n",
    "import matplotlib.pyplot as plt"
   ]
  },
  {
   "cell_type": "code",
   "execution_count": 16,
   "metadata": {
    "colab": {
     "base_uri": "https://localhost:8080/"
    },
    "id": "yl45XOx9sSHo",
    "outputId": "73bb3bd9-4bb2-4d85-ff83-9e6fc3c5ae32"
   },
   "outputs": [
    {
     "name": "stdout",
     "output_type": "stream",
     "text": [
      "(150, 4)\n",
      "(150,)\n"
     ]
    }
   ],
   "source": [
    "mydata = load_iris()\n",
    "\n",
    "X = mydata.data    # datos de entread\n",
    "y = mydata.target  # etiquetas\n",
    "\n",
    "print(X.shape)\n",
    "print(y.shape)"
   ]
  },
  {
   "cell_type": "markdown",
   "metadata": {
    "id": "xi-CpatcMz0H"
   },
   "source": [
    "Tenemos 150 registros con 4 factores de entrada y la variable de salida.\n",
    "\n",
    "Cada uno de los 4 factores son medidas en centímetros del sépalo (sepal) a lo largo (length) y ancho (width) y del pétalo, también a lo largo y ancho. Veamos:"
   ]
  },
  {
   "cell_type": "code",
   "execution_count": 17,
   "metadata": {
    "colab": {
     "base_uri": "https://localhost:8080/"
    },
    "id": "KBT0LkG9M3Ll",
    "outputId": "4140f28e-1048-4da4-ca32-7bbe894ec179"
   },
   "outputs": [
    {
     "data": {
      "text/plain": [
       "['sepal length (cm)',\n",
       " 'sepal width (cm)',\n",
       " 'petal length (cm)',\n",
       " 'petal width (cm)']"
      ]
     },
     "execution_count": 17,
     "metadata": {},
     "output_type": "execute_result"
    }
   ],
   "source": [
    "mydata.feature_names"
   ]
  },
  {
   "cell_type": "markdown",
   "metadata": {
    "id": "lnZRdlCmN6ge"
   },
   "source": [
    "Y por otro lado las etiquetas reales que identifican a cada registro de las 3 clases de iris son:"
   ]
  },
  {
   "cell_type": "code",
   "execution_count": 18,
   "metadata": {
    "colab": {
     "base_uri": "https://localhost:8080/"
    },
    "id": "7wllIJv4L223",
    "outputId": "305fd1ce-2699-464e-c78e-5894a09bc730"
   },
   "outputs": [
    {
     "data": {
      "text/plain": [
       "[np.str_('setosa'), np.str_('versicolor'), np.str_('virginica')]"
      ]
     },
     "execution_count": 18,
     "metadata": {},
     "output_type": "execute_result"
    }
   ],
   "source": [
    "list(mydata.target_names)   "
   ]
  },
  {
   "cell_type": "markdown",
   "metadata": {
    "id": "0uE7geD_OL1p"
   },
   "source": [
    "Es decir, que la clase 0 es iris-setosa, la case 1 es iris-versicolor y la clase 2 iris-virginica. Por que recuerda que la variable \"y\" que identifica a dichas clase debe tener valores numéricos para poder usarlo en nuestro modelos, pero cada valor numérico debemos saber a qué clase real pertenece. \n",
    "\n",
    "Los datos de iris de manera estándar vienen ordenados por clase, así cada 50 se tienen los conjuntos de cada uno de ellos. \n",
    "\n",
    "Veamos los primeros de cada uno de ellos:"
   ]
  },
  {
   "cell_type": "code",
   "execution_count": 19,
   "metadata": {
    "colab": {
     "base_uri": "https://localhost:8080/"
    },
    "id": "avVBSv9wOLH1",
    "outputId": "a9434a4b-a62a-4529-b5db-53dc1399d90d"
   },
   "outputs": [
    {
     "name": "stdout",
     "output_type": "stream",
     "text": [
      "[0 0 0 0 0 0 0 0 0 0]\n",
      "[0 0 1 1 1 1 1 1 1 1]\n",
      "[1 1 2 2 2 2 2 2 2 2]\n"
     ]
    }
   ],
   "source": [
    "print(y[0:10])     # clase 0:setosa\n",
    "print(y[48:58])    # clase 1: versicolor\n",
    "print(y[98:108])   # clase 2: virginica"
   ]
  },
  {
   "cell_type": "markdown",
   "metadata": {
    "id": "fQXvarr4MPKx"
   },
   "source": [
    "Tenemos relativamente pocos datos, pero generemos una triple partición de 60-20-20:"
   ]
  },
  {
   "cell_type": "code",
   "execution_count": 20,
   "metadata": {
    "colab": {
     "base_uri": "https://localhost:8080/"
    },
    "id": "yZ3-Tp7JseK2",
    "outputId": "cc9c34fd-dfec-4383-ba24-87493098f7c2"
   },
   "outputs": [
    {
     "name": "stdout",
     "output_type": "stream",
     "text": [
      "Tamaño del conjunto de entrenamiento: (90, 4)\n",
      "Tamaño del conjunto de validación: (30, 4)\n",
      "Tamaño del conjunto de prueba (30, 4)\n"
     ]
    }
   ],
   "source": [
    "X_tv, X_test, y_tv, y_test = train_test_split(X, y, test_size=.2, shuffle=True, random_state=1)\n",
    "X_train, X_val, y_train, y_val = train_test_split(X_tv, y_tv, test_size=.25, shuffle=True, random_state=1)\n",
    "\n",
    "print('Tamaño del conjunto de entrenamiento:', X_train.shape)\n",
    "print('Tamaño del conjunto de validación:', X_val.shape)\n",
    "print('Tamaño del conjunto de prueba', X_test.shape)"
   ]
  },
  {
   "cell_type": "markdown",
   "metadata": {
    "id": "aWP8IxEucfgp"
   },
   "source": [
    "Veamos el comportamiento general de los datos de entrada:"
   ]
  },
  {
   "cell_type": "code",
   "execution_count": 21,
   "metadata": {
    "colab": {
     "base_uri": "https://localhost:8080/",
     "height": 265
    },
    "id": "h7DU2qx8kvfp",
    "outputId": "38cbd5d7-dd73-494b-ec2f-a2378fde3b10"
   },
   "outputs": [
    {
     "name": "stderr",
     "output_type": "stream",
     "text": [
      "/var/folders/w6/304l7tqs0f946cfnk4fb4vg80000gp/T/ipykernel_58030/2150689080.py:1: MatplotlibDeprecationWarning: The 'labels' parameter of boxplot() has been renamed 'tick_labels' since Matplotlib 3.9; support for the old name will be dropped in 3.11.\n",
      "  plt.boxplot(X, labels=mydata.feature_names);\n"
     ]
    },
    {
     "data": {
      "image/png": "[encoded data removed]",
      "text/plain": [
       "<Figure size 640x480 with 1 Axes>"
      ]
     },
     "metadata": {},
     "output_type": "display_data"
    }
   ],
   "source": [
    "plt.boxplot(X, labels=mydata.feature_names);"
   ]
  },
  {
   "cell_type": "markdown",
   "metadata": {
    "id": "wntIwo_XP5V0"
   },
   "source": [
    "Generemos nuestro primer modelo con un árbol de decisión, que identificamos como DT por decision tree:"
   ]
  },
  {
   "cell_type": "code",
   "execution_count": 22,
   "metadata": {
    "colab": {
     "base_uri": "https://localhost:8080/"
    },
    "id": "BhJHmFYDsi_3",
    "outputId": "b06561a8-1db5-419b-be72-a21d3024200f"
   },
   "outputs": [
    {
     "name": "stdout",
     "output_type": "stream",
     "text": [
      "Exactitud en el conjunto de entrenamiento: 1.00\n",
      "Exactitud en el conjunto de validación: 0.97\n"
     ]
    }
   ],
   "source": [
    "modeloDT = DecisionTreeClassifier()   # Incializamos el modelo con los hiperparámetros predeterminados.\n",
    "\n",
    "clf = modeloDT.fit(X_train, y_train)   # Entrenamos con el conjunto de prueba para obtener nuestro primer clasificador (clf)\n",
    "\n",
    "# Podemos observar el desempeño en el conjunto de entrenamieto para verificar\n",
    "# el subentrenamiento o sobreentrenamiento, pero no para evaluar el modelo en sí:\n",
    "print('Exactitud en el conjunto de entrenamiento: %.2f' % clf.score(X_train, y_train))\n",
    "\n",
    "# Así, el conjunto con el que nos interesa evaluar el desempeño es con los de validación,\n",
    "# así que calculamos primero sus predicciones y después las usamos para evaluar el modelo:\n",
    "\n",
    "predi = clf.predict(X_val)     # Obtenemos predicciones de 0s, 1s o 2s para cada clase\n",
    "\n",
    "print('Exactitud en el conjunto de validación: %.2f' % clf.score(X_val, y_val))"
   ]
  },
  {
   "cell_type": "markdown",
   "metadata": {
    "id": "MBSGuUfMKNrx"
   },
   "source": [
    "Observamos que se obtuvo una clasificación perfecta en el conjunto de entrenamiento y en el de validación un error del $3\\%$. Esto nos permite decir que tenemos un buen modelo para empezar, ya que la diferencia entre ambos resultados podemos decir que es aceptable.\n",
    "\n",
    "Pero veamos la matriz de confusión que nos dice cómo se está equivocando este clasificador:"
   ]
  },
  {
   "cell_type": "code",
   "execution_count": 23,
   "metadata": {
    "colab": {
     "base_uri": "https://localhost:8080/"
    },
    "id": "04GYE6bZI10X",
    "outputId": "fb0b9038-24db-4d1b-e40a-e5cfc5896d3c"
   },
   "outputs": [
    {
     "name": "stdout",
     "output_type": "stream",
     "text": [
      "[[ 9  0  0]\n",
      " [ 0 10  0]\n",
      " [ 0  1 10]]\n"
     ]
    }
   ],
   "source": [
    "print(confusion_matrix(y_val, predi))     # (renglones, columnas)"
   ]
  },
  {
   "cell_type": "markdown",
   "metadata": {
    "id": "df-0M0LNQXs-"
   },
   "source": [
    "Cuando la salida de la matriz de confusión es de esta manera muy sencilla, hay que recordar que los reglones de la matriz están asociados a la variable \"y_val\" de etiquetas originales reales y las columnas están asociadas a las predicciones del clasificador generado. Esto se sigue por el orden en que escribimos los argumentos al generar la matriz de confusión.\n",
    "\n",
    "Recuerda, al evaluar confusion_matrix(A,B) con los argumentos A y B, el primer argumento A, tendrá sus niveles o clases reales en los renglones y el segundo argumento, B, indica sus predicciones en las columnas.\n",
    "\n",
    "En general nosotros en el resto del curso procuraremos estar siguiendo siempre un mismo orden, a saber, que las clases reales están en el primer argumento de la función y estarán asociados a los renglones de la matriz. Sin embargo, toma en cuenta que esto no es universal y hay analistas que los ponen al revés. Obviamente sigue siendo correcto, pero la interpretación es diferente. \n",
    "\n",
    "Por ejemplo, veamos la salida en orden contrario:"
   ]
  },
  {
   "cell_type": "code",
   "execution_count": 24,
   "metadata": {
    "colab": {
     "base_uri": "https://localhost:8080/"
    },
    "id": "FWPMPMJSSAHR",
    "outputId": "81c5b274-3f12-441d-976b-222b3a139215"
   },
   "outputs": [
    {
     "name": "stdout",
     "output_type": "stream",
     "text": [
      "[[ 9  0  0]\n",
      " [ 0 10  1]\n",
      " [ 0  0 10]]\n"
     ]
    }
   ],
   "source": [
    "print(confusion_matrix(predi, y_val))"
   ]
  },
  {
   "cell_type": "markdown",
   "metadata": {
    "id": "FImrjXQRSKlo"
   },
   "source": [
    "Observa que es la misma información, pero los datos quedan reflejados con respecto a la diagonal principal.\n",
    "\n",
    "Pero aunque la representación es diferente, la conclusión es la misma, a saber, que el clasificador se equivocó en una predicción de 30 que realizó en el conjunto de validación. Y de hecho, la manera en que se equivocó fue diciendo que uno de los registros era de la clase 1 (versicolor), cuando en realidad es de la clase 2 (virginica).\n",
    "\n",
    "Cuando se tiene una gran cantidad de datos conviene expresar la matriz de confusión con la proporción de las predicciones. En nuestro caso quedaría como sigue (y regresando a usar las etiquetas reales en el primer argumento de la función):"
   ]
  },
  {
   "cell_type": "code",
   "execution_count": 25,
   "metadata": {
    "colab": {
     "base_uri": "https://localhost:8080/"
    },
    "id": "fRbPitrjUweM",
    "outputId": "9153ed60-4141-4f22-d0a9-eecb0381c147"
   },
   "outputs": [
    {
     "name": "stdout",
     "output_type": "stream",
     "text": [
      "[[0.3        0.         0.        ]\n",
      " [0.         0.33333333 0.        ]\n",
      " [0.         0.03333333 0.33333333]]\n"
     ]
    }
   ],
   "source": [
    "print(confusion_matrix(y_val, predi) / y_val.shape[0])"
   ]
  },
  {
   "cell_type": "markdown",
   "metadata": {
    "id": "BLkrORyhU6Ss"
   },
   "source": [
    "Es decir, tenemos un $3.33\\%$ de error en nuestro clasificador.\n",
    "\n",
    "También podemos obtener el desempeño del modelo mediante la exactitud (accuracy) como sigue:"
   ]
  },
  {
   "cell_type": "code",
   "execution_count": 26,
   "metadata": {
    "colab": {
     "base_uri": "https://localhost:8080/"
    },
    "id": "zFUzuinHtqM9",
    "outputId": "ce9332ee-2632-408f-fcce-aa2a65bc6b12"
   },
   "outputs": [
    {
     "data": {
      "text/plain": [
       "0.9666666666666667"
      ]
     },
     "execution_count": 26,
     "metadata": {},
     "output_type": "execute_result"
    }
   ],
   "source": [
    "clf.score(X_val, y_val)  "
   ]
  },
  {
   "cell_type": "markdown",
   "metadata": {
    "id": "BDRi2gA3VZ2u"
   },
   "source": [
    "En es este caso es precisamente el complemento de lo obtenido en la matriz de confusión."
   ]
  },
  {
   "cell_type": "markdown",
   "metadata": {
    "id": "HHY-TBE148mi"
   },
   "source": [
    "### Obtengamos la salida de manera gráfica y para una mejor interpretación del modelo:"
   ]
  },
  {
   "cell_type": "code",
   "execution_count": 29,
   "metadata": {
    "id": "A88RPXMNVjkp"
   },
   "outputs": [],
   "source": [
    "# To create our Decision Tree Graph:\n",
    "from sklearn import tree\n",
    "import pydotplus \n",
    "from IPython.display import Image"
   ]
  },
  {
   "cell_type": "code",
   "execution_count": 31,
   "metadata": {
    "colab": {
     "base_uri": "https://localhost:8080/",
     "height": 504
    },
    "id": "ihtvhDZYVjhd",
    "outputId": "94f9308c-dc68-4d6a-d524-029cc41e62a7"
   },
   "outputs": [
    {
     "ename": "InvocationException",
     "evalue": "GraphViz's executables not found",
     "output_type": "error",
     "traceback": [
      "\u001b[0;31m---------------------------------------------------------------------------\u001b[0m",
      "\u001b[0;31mInvocationException\u001b[0m                       Traceback (most recent call last)",
      "Cell \u001b[0;32mIn[31], line 11\u001b[0m\n\u001b[1;32m      1\u001b[0m dot_data \u001b[38;5;241m=\u001b[39m tree\u001b[38;5;241m.\u001b[39mexport_graphviz(decision_tree\u001b[38;5;241m=\u001b[39mclf, \n\u001b[1;32m      2\u001b[0m                                 out_file\u001b[38;5;241m=\u001b[39m\u001b[38;5;28;01mNone\u001b[39;00m,\n\u001b[1;32m      3\u001b[0m                                 max_depth\u001b[38;5;241m=\u001b[39m\u001b[38;5;28;01mNone\u001b[39;00m,\n\u001b[0;32m   (...)\u001b[0m\n\u001b[1;32m      7\u001b[0m                                 rotate\u001b[38;5;241m=\u001b[39m\u001b[38;5;28;01mTrue\u001b[39;00m,\n\u001b[1;32m      8\u001b[0m                                 proportion\u001b[38;5;241m=\u001b[39m\u001b[38;5;28;01mFalse\u001b[39;00m)\n\u001b[1;32m     10\u001b[0m graph \u001b[38;5;241m=\u001b[39m pydotplus\u001b[38;5;241m.\u001b[39mgraph_from_dot_data(dot_data)\n\u001b[0;32m---> 11\u001b[0m Image(graph\u001b[38;5;241m.\u001b[39mcreate_png())\n",
      "File \u001b[0;32m/opt/anaconda3/envs/master-ai-tec/lib/python3.12/site-packages/pydotplus/graphviz.py:1797\u001b[0m, in \u001b[0;36mDot.__init__.<locals>.<lambda>\u001b[0;34m(f, prog)\u001b[0m\n\u001b[1;32m   1792\u001b[0m \u001b[38;5;66;03m# Automatically creates all the methods enabling the creation\u001b[39;00m\n\u001b[1;32m   1793\u001b[0m \u001b[38;5;66;03m# of output in any of the supported formats.\u001b[39;00m\n\u001b[1;32m   1794\u001b[0m \u001b[38;5;28;01mfor\u001b[39;00m frmt \u001b[38;5;129;01min\u001b[39;00m \u001b[38;5;28mself\u001b[39m\u001b[38;5;241m.\u001b[39mformats:\n\u001b[1;32m   1795\u001b[0m     \u001b[38;5;28mself\u001b[39m\u001b[38;5;241m.\u001b[39m\u001b[38;5;21m__setattr__\u001b[39m(\n\u001b[1;32m   1796\u001b[0m         \u001b[38;5;124m'\u001b[39m\u001b[38;5;124mcreate_\u001b[39m\u001b[38;5;124m'\u001b[39m \u001b[38;5;241m+\u001b[39m frmt,\n\u001b[0;32m-> 1797\u001b[0m         \u001b[38;5;28;01mlambda\u001b[39;00m f\u001b[38;5;241m=\u001b[39mfrmt, prog\u001b[38;5;241m=\u001b[39m\u001b[38;5;28mself\u001b[39m\u001b[38;5;241m.\u001b[39mprog: \u001b[38;5;28mself\u001b[39m\u001b[38;5;241m.\u001b[39mcreate(\u001b[38;5;28mformat\u001b[39m\u001b[38;5;241m=\u001b[39mf, prog\u001b[38;5;241m=\u001b[39mprog)\n\u001b[1;32m   1798\u001b[0m     )\n\u001b[1;32m   1799\u001b[0m     f \u001b[38;5;241m=\u001b[39m \u001b[38;5;28mself\u001b[39m\u001b[38;5;241m.\u001b[39m\u001b[38;5;18m__dict__\u001b[39m[\u001b[38;5;124m'\u001b[39m\u001b[38;5;124mcreate_\u001b[39m\u001b[38;5;124m'\u001b[39m \u001b[38;5;241m+\u001b[39m frmt]\n\u001b[1;32m   1800\u001b[0m     f\u001b[38;5;241m.\u001b[39m\u001b[38;5;18m__doc__\u001b[39m \u001b[38;5;241m=\u001b[39m (\n\u001b[1;32m   1801\u001b[0m \u001b[38;5;250m        \u001b[39m\u001b[38;5;124;03m'''Refer to the docstring accompanying the'''\u001b[39;00m\n\u001b[1;32m   1802\u001b[0m \u001b[38;5;250m        \u001b[39m\u001b[38;5;124;03m''''create' method for more information.'''\u001b[39;00m\n\u001b[1;32m   1803\u001b[0m     )\n",
      "File \u001b[0;32m/opt/anaconda3/envs/master-ai-tec/lib/python3.12/site-packages/pydotplus/graphviz.py:1959\u001b[0m, in \u001b[0;36mDot.create\u001b[0;34m(self, prog, format)\u001b[0m\n\u001b[1;32m   1957\u001b[0m     \u001b[38;5;28mself\u001b[39m\u001b[38;5;241m.\u001b[39mprogs \u001b[38;5;241m=\u001b[39m find_graphviz()\n\u001b[1;32m   1958\u001b[0m     \u001b[38;5;28;01mif\u001b[39;00m \u001b[38;5;28mself\u001b[39m\u001b[38;5;241m.\u001b[39mprogs \u001b[38;5;129;01mis\u001b[39;00m \u001b[38;5;28;01mNone\u001b[39;00m:\n\u001b[0;32m-> 1959\u001b[0m         \u001b[38;5;28;01mraise\u001b[39;00m InvocationException(\n\u001b[1;32m   1960\u001b[0m             \u001b[38;5;124m'\u001b[39m\u001b[38;5;124mGraphViz\u001b[39m\u001b[38;5;130;01m\\'\u001b[39;00m\u001b[38;5;124ms executables not found\u001b[39m\u001b[38;5;124m'\u001b[39m)\n\u001b[1;32m   1962\u001b[0m \u001b[38;5;28;01mif\u001b[39;00m prog \u001b[38;5;129;01mnot\u001b[39;00m \u001b[38;5;129;01min\u001b[39;00m \u001b[38;5;28mself\u001b[39m\u001b[38;5;241m.\u001b[39mprogs:\n\u001b[1;32m   1963\u001b[0m     \u001b[38;5;28;01mraise\u001b[39;00m InvocationException(\n\u001b[1;32m   1964\u001b[0m         \u001b[38;5;124m'\u001b[39m\u001b[38;5;124mGraphViz\u001b[39m\u001b[38;5;130;01m\\'\u001b[39;00m\u001b[38;5;124ms executable \u001b[39m\u001b[38;5;124m\"\u001b[39m\u001b[38;5;132;01m%s\u001b[39;00m\u001b[38;5;124m\"\u001b[39m\u001b[38;5;124m not found\u001b[39m\u001b[38;5;124m'\u001b[39m \u001b[38;5;241m%\u001b[39m prog)\n",
      "\u001b[0;31mInvocationException\u001b[0m: GraphViz's executables not found"
     ]
    }
   ],
   "source": [
    "dot_data = tree.export_graphviz(decision_tree=clf, \n",
    "                                out_file=None,\n",
    "                                max_depth=None,\n",
    "                                feature_names=list(pd.DataFrame(X_train).columns.values),\n",
    "                                class_names=[mydata.target_names[0], mydata.target_names[1], mydata.target_names[2]],\n",
    "                                filled=True,\n",
    "                                rotate=True,\n",
    "                                proportion=False)\n",
    "\n",
    "graph = pydotplus.graph_from_dot_data(dot_data)\n",
    "Image(graph.create_png())"
   ]
  },
  {
   "cell_type": "markdown",
   "metadata": {
    "id": "4yWQQTyG6cge"
   },
   "source": [
    "## **Pruning - Podado y sobreentrenamiento**\n",
    "\n",
    "###Para aplicar Pruning y evitar sobre-entrenamiento ajustar al menos los siguientes hiperparámetros de:\n",
    "\n",
    "*   max_depth : la profunidad del árbol. Entre más grande, mayor sobreentrenamiento.\n",
    "\n",
    "*   min_samples_split : cantidad mínima de observaciones que debe haber en un nodo para continuar con la división. Menor valor, mayor sobreentrenamiento. \n",
    "\n",
    "*   min_samples_leaf : cantidad mínima de observaciones que deben quedar en cada hoja del árbol de decisión final. Menor cantidad, mayor sobreentrenamiento.\n",
    "\n",
    "*   ccp_alpha: parámetro para evitar el sobreentrenamiento, que se comporta de manera análoga al parámetro de regularización $L_1$ estudiado previamente. Mayor valor, mayor cantidad de podado (pruning)."
   ]
  },
  {
   "cell_type": "markdown",
   "metadata": {
    "id": "YJDH_gk39C5p"
   },
   "source": [
    "# **Parte - 2: Bosque Aleatorio (Random Forest)** "
   ]
  },
  {
   "cell_type": "markdown",
   "metadata": {
    "id": "R_aKc6__9xSw"
   },
   "source": [
    "El bosque aleatorio igualmente puede aplicarse a modelos de regresión y clasificación:\n",
    "\n",
    "https://scikit-learn.org/stable/modules/generated/sklearn.ensemble.RandomForestClassifier.html\n",
    "\n",
    "https://scikit-learn.org/stable/modules/generated/sklearn.ensemble.RandomForestRegressor.html\n",
    "\n",
    "Para este caso simulemos un problema de clasificación con funciones que hemos usado previamente."
   ]
  },
  {
   "cell_type": "code",
   "execution_count": 23,
   "metadata": {
    "id": "DiwzghHS-PsO"
   },
   "outputs": [],
   "source": [
    "from sklearn.ensemble import RandomForestClassifier\n",
    "\n",
    "#from sklearn.datasets import load_iris\n",
    "import sklearn.datasets"
   ]
  },
  {
   "cell_type": "code",
   "execution_count": null,
   "metadata": {
    "colab": {
     "base_uri": "https://localhost:8080/",
     "height": 266
    },
    "id": "EkD-XHLz-jK8",
    "outputId": "e2c5b898-cd62-4dac-d0cf-d8ab7866fcb2"
   },
   "outputs": [],
   "source": [
    "N=1000  # total de datos a generar en la muestra.\n",
    "noisy_data = sklearn.datasets.make_moons(n_samples=N, noise=0.4, random_state=17)\n",
    "X, Y = noisy_data\n",
    "\n",
    "plt.scatter(X[:,0], X[:,1], c=Y, s=30, cmap=plt.cm.Spectral);"
   ]
  },
  {
   "cell_type": "code",
   "execution_count": null,
   "metadata": {
    "colab": {
     "base_uri": "https://localhost:8080/"
    },
    "id": "hFWRAunm-qop",
    "outputId": "feeddbb9-d806-42ff-da2b-e73508a9072e"
   },
   "outputs": [],
   "source": [
    "Xtrain, Xtest, Ytrain, Ytest = train_test_split(X, Y, test_size=.4, shuffle=True, random_state=17)\n",
    "\n",
    "mimodelo = RandomForestClassifier()\n",
    "\n",
    "clf = mimodelo.fit(Xtrain,Ytrain)\n",
    "\n",
    "results = clf.predict(Xtest)\n",
    "\n",
    "confusion_matrix(Ytest, results)"
   ]
  },
  {
   "cell_type": "code",
   "execution_count": null,
   "metadata": {
    "colab": {
     "base_uri": "https://localhost:8080/"
    },
    "id": "Rv6TnTx3-0dn",
    "outputId": "0c693f2f-6caf-46db-8bcc-0e6594c85648"
   },
   "outputs": [],
   "source": [
    "clf.score(Xtest,Ytest)  # es la Exactitud (accuracy)"
   ]
  },
  {
   "cell_type": "markdown",
   "metadata": {
    "id": "bnWWqpha-36-"
   },
   "source": [
    "### **En los árboles de decisión y bosque aleatorio podemos obtener además la importancia de cada factor en el modelo obtenido:**"
   ]
  },
  {
   "cell_type": "code",
   "execution_count": null,
   "metadata": {
    "colab": {
     "base_uri": "https://localhost:8080/"
    },
    "id": "nLYGASmB_BuW",
    "outputId": "6f8403e1-9a2b-4d44-b98d-e7ec2f1dfeb3"
   },
   "outputs": [],
   "source": [
    "clf.feature_importances_   # mayor magnitud, mayor importancia."
   ]
  },
  {
   "cell_type": "code",
   "execution_count": null,
   "metadata": {
    "colab": {
     "base_uri": "https://localhost:8080/",
     "height": 265
    },
    "id": "9QO9vM5d_FD5",
    "outputId": "b2354181-efa0-47ee-a658-d47532466305"
   },
   "outputs": [],
   "source": [
    "plt.barh(['x1','x2'], width=clf.feature_importances_);"
   ]
  },
  {
   "cell_type": "code",
   "execution_count": 32,
   "metadata": {
    "id": "sWRJ-oa5_RTA"
   },
   "outputs": [],
   "source": [
    "## Algunos de lo hiperparámetros del clasificador bosque aleatorio:\n",
    "\n",
    "mimodelo2 = RandomForestClassifier(n_estimators=10,  # número de árboles en el Forest y después promedia por votación.\n",
    "                                   criterion='gini',   # métrica para determinar las ramas. También puede ser: 'entropy', para la GananciaDeInformación (IG).\n",
    "                                   max_depth=2, # Depth=k : máximo 2^k líneas/ramas.        \n",
    "                                   min_samples_split = 6,  # mínimo de puntos muestrales requeridos en un nodo para hacer la ramificación. Puede ser fracción de 0 a 1.\n",
    "                                   min_samples_leaf = 4,  # mínimo de puntos muestrales que deben quedar en cada nueva ramificación (hojas). Puede ser fracción de 0 a 1.\n",
    "                                   max_features= 'auto',   # número de características (features) que se consideran en cada ramificación: auto=sqrt(n_features).\n",
    "                                   max_leaf_nodes=16,  # solo nos quedamos con las mejores k hojas.\n",
    "                                   bootstrap=True,  # Cada Árbol se muestrea seleccionando la cantidad de datos del conjunto de entrenamiento, pero con reemplazo. False:los datos usados en cada árbol simpre es el mismo, el Train-set.\n",
    "                                   oob_score=True,  # en caso de utilizar Out-of-bag samples.\n",
    "                                   verbose=0,     # tipo de despliega de información durante el entrenamiento.\n",
    "                                   n_jobs=-1,    # total de hilos a usar en las rutinas paralelizables: \"-1\" :usar todos los posibles. \n",
    "                                   max_samples=None,   # Cuando se usa Boostrap, es el total de datos de Xtrain a usar en cada árbol. \"None\" usará Xtrain[0]. \n",
    "                                   random_state=19)   \n"
   ]
  },
  {
   "cell_type": "code",
   "execution_count": null,
   "metadata": {
    "colab": {
     "base_uri": "https://localhost:8080/"
    },
    "id": "-1P6H7og_tee",
    "outputId": "ccd6547a-f2e1-4b2e-fc08-ee0df5148e0e"
   },
   "outputs": [],
   "source": [
    "clf2 = mimodelo2.fit(Xtrain,Ytrain)\n",
    "clf2.score(Xtest,Ytest)"
   ]
  },
  {
   "cell_type": "markdown",
   "metadata": {
    "id": "oMiffz-QAAih"
   },
   "source": [
    "### **Fin de los ejemplos de la semana 6**"
   ]
  },
  {
   "cell_type": "code",
   "execution_count": null,
   "metadata": {},
   "outputs": [],
   "source": []
  }
 ],
 "metadata": {
  "colab": {
   "collapsed_sections": [],
   "provenance": []
  },
  "kernelspec": {
   "display_name": "Python 3 (ipykernel)",
   "language": "python",
   "name": "python3"
  },
  "language_info": {
   "codemirror_mode": {
    "name": "ipython",
    "version": 3
   },
   "file_extension": ".py",
   "mimetype": "text/x-python",
   "name": "python",
   "nbconvert_exporter": "python",
   "pygments_lexer": "ipython3",
   "version": "3.12.5"
  }
 },
 "nbformat": 4,
 "nbformat_minor": 1
}

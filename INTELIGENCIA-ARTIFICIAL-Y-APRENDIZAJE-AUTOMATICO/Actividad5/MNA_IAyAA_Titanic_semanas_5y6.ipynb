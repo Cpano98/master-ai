{
  "cells": [
    {
      "cell_type": "markdown",
      "metadata": {
        "id": "zozPejRcWme2"
      },
      "source": [
        "# **MNA - IAyAA**\n",
        "## **Sesión-Active Class Complementaria**\n",
        "## **Semanas 5 y 6**\n",
        "\n",
        "\n",
        "\n",
        "\n",
        "https://www.kaggle.com/datasets/yasserh/titanic-dataset"
      ]
    },
    {
      "cell_type": "code",
      "execution_count": 44,
      "metadata": {
        "id": "4arRj0QkaK75"
      },
      "outputs": [],
      "source": [
        "import warnings\n",
        "warnings.filterwarnings('ignore')"
      ]
    },
    {
      "cell_type": "code",
      "execution_count": 45,
      "metadata": {
        "id": "Q2MYJBBraPgT"
      },
      "outputs": [],
      "source": [
        "import numpy as np\n",
        "import pandas as pd\n",
        "import matplotlib.pyplot as plt\n",
        "import seaborn as sns\n",
        "\n",
        "from sklearn.model_selection import train_test_split\n",
        "from sklearn.preprocessing import MinMaxScaler\n",
        "\n",
        "from sklearn.pipeline import Pipeline\n",
        "from sklearn.compose import ColumnTransformer\n",
        "from sklearn.impute import SimpleImputer\n",
        "from sklearn.preprocessing import OneHotEncoder\n",
        "from sklearn.preprocessing import OrdinalEncoder\n",
        "\n",
        "from sklearn.model_selection import cross_validate\n",
        "from sklearn.model_selection import RepeatedKFold\n",
        "# Si queremos asegurar que en la partición los niveles de las categóricas queden estratificados lo mejor posible:\n",
        "from sklearn.model_selection import RepeatedStratifiedKFold\n",
        "from sklearn.preprocessing import LabelEncoder\n",
        "\n",
        "from sklearn.metrics import confusion_matrix, classification_report\n",
        "from sklearn.metrics import roc_auc_score"
      ]
    },
    {
      "cell_type": "code",
      "execution_count": 46,
      "metadata": {
        "id": "-P-SKApxaRlr"
      },
      "outputs": [
        {
          "name": "stdout",
          "output_type": "stream",
          "text": [
            "(891, 15)\n"
          ]
        },
        {
          "data": {
            "text/html": [
              "<div>\n",
              "<style scoped>\n",
              "    .dataframe tbody tr th:only-of-type {\n",
              "        vertical-align: middle;\n",
              "    }\n",
              "\n",
              "    .dataframe tbody tr th {\n",
              "        vertical-align: top;\n",
              "    }\n",
              "\n",
              "    .dataframe thead th {\n",
              "        text-align: right;\n",
              "    }\n",
              "</style>\n",
              "<table border=\"1\" class=\"dataframe\">\n",
              "  <thead>\n",
              "    <tr style=\"text-align: right;\">\n",
              "      <th></th>\n",
              "      <th>0</th>\n",
              "      <th>1</th>\n",
              "      <th>2</th>\n",
              "      <th>3</th>\n",
              "      <th>4</th>\n",
              "    </tr>\n",
              "  </thead>\n",
              "  <tbody>\n",
              "    <tr>\n",
              "      <th>survived</th>\n",
              "      <td>0</td>\n",
              "      <td>1</td>\n",
              "      <td>1</td>\n",
              "      <td>1</td>\n",
              "      <td>0</td>\n",
              "    </tr>\n",
              "    <tr>\n",
              "      <th>pclass</th>\n",
              "      <td>3</td>\n",
              "      <td>1</td>\n",
              "      <td>3</td>\n",
              "      <td>1</td>\n",
              "      <td>3</td>\n",
              "    </tr>\n",
              "    <tr>\n",
              "      <th>sex</th>\n",
              "      <td>male</td>\n",
              "      <td>female</td>\n",
              "      <td>female</td>\n",
              "      <td>female</td>\n",
              "      <td>male</td>\n",
              "    </tr>\n",
              "    <tr>\n",
              "      <th>age</th>\n",
              "      <td>22.0</td>\n",
              "      <td>38.0</td>\n",
              "      <td>26.0</td>\n",
              "      <td>35.0</td>\n",
              "      <td>35.0</td>\n",
              "    </tr>\n",
              "    <tr>\n",
              "      <th>sibsp</th>\n",
              "      <td>1</td>\n",
              "      <td>1</td>\n",
              "      <td>0</td>\n",
              "      <td>1</td>\n",
              "      <td>0</td>\n",
              "    </tr>\n",
              "    <tr>\n",
              "      <th>parch</th>\n",
              "      <td>0</td>\n",
              "      <td>0</td>\n",
              "      <td>0</td>\n",
              "      <td>0</td>\n",
              "      <td>0</td>\n",
              "    </tr>\n",
              "    <tr>\n",
              "      <th>fare</th>\n",
              "      <td>7.25</td>\n",
              "      <td>71.2833</td>\n",
              "      <td>7.925</td>\n",
              "      <td>53.1</td>\n",
              "      <td>8.05</td>\n",
              "    </tr>\n",
              "    <tr>\n",
              "      <th>embarked</th>\n",
              "      <td>S</td>\n",
              "      <td>C</td>\n",
              "      <td>S</td>\n",
              "      <td>S</td>\n",
              "      <td>S</td>\n",
              "    </tr>\n",
              "    <tr>\n",
              "      <th>class</th>\n",
              "      <td>Third</td>\n",
              "      <td>First</td>\n",
              "      <td>Third</td>\n",
              "      <td>First</td>\n",
              "      <td>Third</td>\n",
              "    </tr>\n",
              "    <tr>\n",
              "      <th>who</th>\n",
              "      <td>man</td>\n",
              "      <td>woman</td>\n",
              "      <td>woman</td>\n",
              "      <td>woman</td>\n",
              "      <td>man</td>\n",
              "    </tr>\n",
              "    <tr>\n",
              "      <th>adult_male</th>\n",
              "      <td>True</td>\n",
              "      <td>False</td>\n",
              "      <td>False</td>\n",
              "      <td>False</td>\n",
              "      <td>True</td>\n",
              "    </tr>\n",
              "    <tr>\n",
              "      <th>deck</th>\n",
              "      <td>NaN</td>\n",
              "      <td>C</td>\n",
              "      <td>NaN</td>\n",
              "      <td>C</td>\n",
              "      <td>NaN</td>\n",
              "    </tr>\n",
              "    <tr>\n",
              "      <th>embark_town</th>\n",
              "      <td>Southampton</td>\n",
              "      <td>Cherbourg</td>\n",
              "      <td>Southampton</td>\n",
              "      <td>Southampton</td>\n",
              "      <td>Southampton</td>\n",
              "    </tr>\n",
              "    <tr>\n",
              "      <th>alive</th>\n",
              "      <td>no</td>\n",
              "      <td>yes</td>\n",
              "      <td>yes</td>\n",
              "      <td>yes</td>\n",
              "      <td>no</td>\n",
              "    </tr>\n",
              "    <tr>\n",
              "      <th>alone</th>\n",
              "      <td>False</td>\n",
              "      <td>False</td>\n",
              "      <td>True</td>\n",
              "      <td>False</td>\n",
              "      <td>True</td>\n",
              "    </tr>\n",
              "  </tbody>\n",
              "</table>\n",
              "</div>"
            ],
            "text/plain": [
              "                       0          1            2            3            4\n",
              "survived               0          1            1            1            0\n",
              "pclass                 3          1            3            1            3\n",
              "sex                 male     female       female       female         male\n",
              "age                 22.0       38.0         26.0         35.0         35.0\n",
              "sibsp                  1          1            0            1            0\n",
              "parch                  0          0            0            0            0\n",
              "fare                7.25    71.2833        7.925         53.1         8.05\n",
              "embarked               S          C            S            S            S\n",
              "class              Third      First        Third        First        Third\n",
              "who                  man      woman        woman        woman          man\n",
              "adult_male          True      False        False        False         True\n",
              "deck                 NaN          C          NaN            C          NaN\n",
              "embark_town  Southampton  Cherbourg  Southampton  Southampton  Southampton\n",
              "alive                 no        yes          yes          yes           no\n",
              "alone              False      False         True        False         True"
            ]
          },
          "execution_count": 46,
          "metadata": {},
          "output_type": "execute_result"
        }
      ],
      "source": [
        "titanicdata = sns.load_dataset('titanic')\n",
        "df = pd.DataFrame(titanicdata)   # por facilidad consideremos los datps como un DataFrame de Pandas.\n",
        "print(df.shape)\n",
        "df.head().T"
      ]
    },
    {
      "cell_type": "code",
      "execution_count": 47,
      "metadata": {
        "id": "w6PySDRhEqj7"
      },
      "outputs": [
        {
          "name": "stdout",
          "output_type": "stream",
          "text": [
            "<class 'pandas.core.frame.DataFrame'>\n",
            "RangeIndex: 891 entries, 0 to 890\n",
            "Data columns (total 15 columns):\n",
            " #   Column       Non-Null Count  Dtype   \n",
            "---  ------       --------------  -----   \n",
            " 0   survived     891 non-null    int64   \n",
            " 1   pclass       891 non-null    int64   \n",
            " 2   sex          891 non-null    object  \n",
            " 3   age          714 non-null    float64 \n",
            " 4   sibsp        891 non-null    int64   \n",
            " 5   parch        891 non-null    int64   \n",
            " 6   fare         891 non-null    float64 \n",
            " 7   embarked     889 non-null    object  \n",
            " 8   class        891 non-null    category\n",
            " 9   who          891 non-null    object  \n",
            " 10  adult_male   891 non-null    bool    \n",
            " 11  deck         203 non-null    category\n",
            " 12  embark_town  889 non-null    object  \n",
            " 13  alive        891 non-null    object  \n",
            " 14  alone        891 non-null    bool    \n",
            "dtypes: bool(2), category(2), float64(2), int64(4), object(5)\n",
            "memory usage: 80.7+ KB\n"
          ]
        }
      ],
      "source": [
        "df.info()"
      ]
    },
    {
      "cell_type": "markdown",
      "metadata": {
        "id": "h1vuBHj1Lcnb"
      },
      "source": [
        "### Variables con la misma información: \"survived\" y \"alive\"; \"pclass\" y \"class\"; \"embarked\" y \"embark_town\".\n",
        "\n"
      ]
    },
    {
      "cell_type": "code",
      "execution_count": 48,
      "metadata": {
        "id": "XsqwVsVDKNXL"
      },
      "outputs": [
        {
          "name": "stdout",
          "output_type": "stream",
          "text": [
            "(891, 11)\n"
          ]
        },
        {
          "data": {
            "text/html": [
              "<div>\n",
              "<style scoped>\n",
              "    .dataframe tbody tr th:only-of-type {\n",
              "        vertical-align: middle;\n",
              "    }\n",
              "\n",
              "    .dataframe tbody tr th {\n",
              "        vertical-align: top;\n",
              "    }\n",
              "\n",
              "    .dataframe thead th {\n",
              "        text-align: right;\n",
              "    }\n",
              "</style>\n",
              "<table border=\"1\" class=\"dataframe\">\n",
              "  <thead>\n",
              "    <tr style=\"text-align: right;\">\n",
              "      <th></th>\n",
              "      <th>0</th>\n",
              "      <th>1</th>\n",
              "      <th>2</th>\n",
              "      <th>3</th>\n",
              "      <th>4</th>\n",
              "    </tr>\n",
              "  </thead>\n",
              "  <tbody>\n",
              "    <tr>\n",
              "      <th>survived</th>\n",
              "      <td>0</td>\n",
              "      <td>1</td>\n",
              "      <td>1</td>\n",
              "      <td>1</td>\n",
              "      <td>0</td>\n",
              "    </tr>\n",
              "    <tr>\n",
              "      <th>pclass</th>\n",
              "      <td>3</td>\n",
              "      <td>1</td>\n",
              "      <td>3</td>\n",
              "      <td>1</td>\n",
              "      <td>3</td>\n",
              "    </tr>\n",
              "    <tr>\n",
              "      <th>sex</th>\n",
              "      <td>male</td>\n",
              "      <td>female</td>\n",
              "      <td>female</td>\n",
              "      <td>female</td>\n",
              "      <td>male</td>\n",
              "    </tr>\n",
              "    <tr>\n",
              "      <th>age</th>\n",
              "      <td>22.0</td>\n",
              "      <td>38.0</td>\n",
              "      <td>26.0</td>\n",
              "      <td>35.0</td>\n",
              "      <td>35.0</td>\n",
              "    </tr>\n",
              "    <tr>\n",
              "      <th>sibsp</th>\n",
              "      <td>1</td>\n",
              "      <td>1</td>\n",
              "      <td>0</td>\n",
              "      <td>1</td>\n",
              "      <td>0</td>\n",
              "    </tr>\n",
              "    <tr>\n",
              "      <th>parch</th>\n",
              "      <td>0</td>\n",
              "      <td>0</td>\n",
              "      <td>0</td>\n",
              "      <td>0</td>\n",
              "      <td>0</td>\n",
              "    </tr>\n",
              "    <tr>\n",
              "      <th>fare</th>\n",
              "      <td>7.25</td>\n",
              "      <td>71.2833</td>\n",
              "      <td>7.925</td>\n",
              "      <td>53.1</td>\n",
              "      <td>8.05</td>\n",
              "    </tr>\n",
              "    <tr>\n",
              "      <th>embarked</th>\n",
              "      <td>S</td>\n",
              "      <td>C</td>\n",
              "      <td>S</td>\n",
              "      <td>S</td>\n",
              "      <td>S</td>\n",
              "    </tr>\n",
              "    <tr>\n",
              "      <th>who</th>\n",
              "      <td>man</td>\n",
              "      <td>woman</td>\n",
              "      <td>woman</td>\n",
              "      <td>woman</td>\n",
              "      <td>man</td>\n",
              "    </tr>\n",
              "    <tr>\n",
              "      <th>adult_male</th>\n",
              "      <td>True</td>\n",
              "      <td>False</td>\n",
              "      <td>False</td>\n",
              "      <td>False</td>\n",
              "      <td>True</td>\n",
              "    </tr>\n",
              "    <tr>\n",
              "      <th>alone</th>\n",
              "      <td>False</td>\n",
              "      <td>False</td>\n",
              "      <td>True</td>\n",
              "      <td>False</td>\n",
              "      <td>True</td>\n",
              "    </tr>\n",
              "  </tbody>\n",
              "</table>\n",
              "</div>"
            ],
            "text/plain": [
              "                0        1       2       3     4\n",
              "survived        0        1       1       1     0\n",
              "pclass          3        1       3       1     3\n",
              "sex          male   female  female  female  male\n",
              "age          22.0     38.0    26.0    35.0  35.0\n",
              "sibsp           1        1       0       1     0\n",
              "parch           0        0       0       0     0\n",
              "fare         7.25  71.2833   7.925    53.1  8.05\n",
              "embarked        S        C       S       S     S\n",
              "who           man    woman   woman   woman   man\n",
              "adult_male   True    False   False   False  True\n",
              "alone       False    False    True   False  True"
            ]
          },
          "execution_count": 48,
          "metadata": {},
          "output_type": "execute_result"
        }
      ],
      "source": [
        "df.drop(['alive','class','embark_town',\n",
        "         'deck'\n",
        "         ], axis=1, inplace=True)\n",
        "print(df.shape)\n",
        "df.head().T"
      ]
    },
    {
      "cell_type": "markdown",
      "metadata": {
        "id": "cBbHX5vx2VAE"
      },
      "source": [
        "## **PREGUNTA:**\n",
        "\n",
        "## **¿Cómo se afecta el entrenamiento el usar por ejemplo una partición de 60%-20%-20% o una de 80%-10%-10%? ¿Cuándo se recomendaría usar una u otra de estas particiones?**\n"
      ]
    },
    {
      "cell_type": "code",
      "execution_count": 49,
      "metadata": {
        "id": "N9-yGJWaciRZ"
      },
      "outputs": [
        {
          "name": "stdout",
          "output_type": "stream",
          "text": [
            "(534, 10) (534,)\n",
            "(178, 10) (178,)\n",
            "(179, 10) (179,)\n"
          ]
        }
      ],
      "source": [
        "Xtrain, Xtv, ytrain, ytv = train_test_split(df.iloc[:,1:], df.iloc[:,0],\n",
        "                                            train_size=0.6,\n",
        "                                            random_state=0\n",
        "                                            )\n",
        "Xval, Xtest, yval, ytest = train_test_split(Xtv, ytv, train_size=0.5, shuffle=True,\n",
        "                                            random_state=0\n",
        "                                            )\n",
        "\n",
        "print(Xtrain.shape, ytrain.shape)\n",
        "print(Xval.shape, yval.shape)\n",
        "print(Xtest.shape, ytest.shape)\n",
        "\n",
        "\n",
        "# Sin cancelar \"deck\":\n",
        "#print('\\nSolo para ilustrar que en este proceso es donde se pueden generar niveles con 0 valores en alguna variable categórica:')\n",
        "#print(Xtrain['deck'].value_counts())\n",
        "#print(Xval['deck'].value_counts())\n",
        "#print(Xtest['deck'].value_counts())"
      ]
    },
    {
      "cell_type": "code",
      "execution_count": 50,
      "metadata": {
        "id": "BhEQDk7icnap"
      },
      "outputs": [],
      "source": [
        "# Separemos variables numéricas y categóricas.\n",
        "# Supongamos que las separamos como se indica a continuación.\n",
        "\n",
        "cat_ord_lista = ['pclass']    # lista de las variables ordinales\n",
        "\n",
        "cat_nom_lista = ['sex','adult_male','embarked','who','alone']   # lista de variables nominales(& binarias)\n",
        "\n",
        "num_lista = ['age','sibsp','parch','fare']    # lista de las variables numéricas."
      ]
    },
    {
      "cell_type": "markdown",
      "metadata": {
        "id": "_GH_cuzJ4YZC"
      },
      "source": [
        "## **Análisis Variables Categóricas**"
      ]
    },
    {
      "cell_type": "code",
      "execution_count": 51,
      "metadata": {
        "id": "vfe-ICCqNxjT"
      },
      "outputs": [
        {
          "name": "stdout",
          "output_type": "stream",
          "text": [
            "pclass\n",
            "3    291\n",
            "1    132\n",
            "2    111\n",
            "Name: count, dtype: int64\n",
            "pclass\n",
            "3    0.544944\n",
            "1    0.247191\n",
            "2    0.207865\n",
            "Name: count, dtype: float64\n"
          ]
        }
      ],
      "source": [
        "print(Xtrain['pclass'].value_counts())\n",
        "print(Xtrain['pclass'].value_counts() / Xtrain.shape[0])"
      ]
    },
    {
      "cell_type": "code",
      "execution_count": 52,
      "metadata": {
        "id": "dktOpKe54XNs"
      },
      "outputs": [
        {
          "name": "stdout",
          "output_type": "stream",
          "text": [
            "sex\n",
            "male      345\n",
            "female    189\n",
            "Name: count, dtype: int64\n",
            "sex\n",
            "male      0.646067\n",
            "female    0.353933\n",
            "Name: count, dtype: float64\n"
          ]
        }
      ],
      "source": [
        "print(Xtrain['sex'].value_counts())\n",
        "print(Xtrain['sex'].value_counts() / Xtrain.shape[0])"
      ]
    },
    {
      "cell_type": "code",
      "execution_count": 53,
      "metadata": {
        "id": "EvOnaw6y4hph"
      },
      "outputs": [
        {
          "name": "stdout",
          "output_type": "stream",
          "text": [
            "adult_male\n",
            "True     321\n",
            "False    213\n",
            "Name: count, dtype: int64\n",
            "adult_male\n",
            "True     0.601124\n",
            "False    0.398876\n",
            "Name: count, dtype: float64\n"
          ]
        }
      ],
      "source": [
        "print(Xtrain['adult_male'].value_counts())\n",
        "print(Xtrain['adult_male'].value_counts() / Xtrain.shape[0])"
      ]
    },
    {
      "cell_type": "code",
      "execution_count": 54,
      "metadata": {
        "id": "l3ZfPSTYDnhl"
      },
      "outputs": [
        {
          "name": "stdout",
          "output_type": "stream",
          "text": [
            "embarked\n",
            "S    389\n",
            "C     94\n",
            "Q     49\n",
            "Name: count, dtype: int64\n",
            "embarked\n",
            "S    0.728464\n",
            "C    0.176030\n",
            "Q    0.091760\n",
            "Name: count, dtype: float64\n"
          ]
        }
      ],
      "source": [
        "print(Xtrain['embarked'].value_counts())\n",
        "print(Xtrain['embarked'].value_counts() / Xtrain.shape[0])"
      ]
    },
    {
      "cell_type": "code",
      "execution_count": 55,
      "metadata": {
        "id": "hrqTJpzADncF"
      },
      "outputs": [
        {
          "name": "stdout",
          "output_type": "stream",
          "text": [
            "who\n",
            "man      321\n",
            "woman    163\n",
            "child     50\n",
            "Name: count, dtype: int64\n",
            "who\n",
            "man      0.601124\n",
            "woman    0.305243\n",
            "child    0.093633\n",
            "Name: count, dtype: float64\n"
          ]
        }
      ],
      "source": [
        "print(Xtrain['who'].value_counts())\n",
        "print(Xtrain['who'].value_counts() / Xtrain.shape[0])"
      ]
    },
    {
      "cell_type": "code",
      "execution_count": 56,
      "metadata": {
        "id": "J7vc-qxZOYtD"
      },
      "outputs": [
        {
          "name": "stdout",
          "output_type": "stream",
          "text": [
            "alone\n",
            "True     321\n",
            "False    213\n",
            "Name: count, dtype: int64\n",
            "alone\n",
            "True     0.601124\n",
            "False    0.398876\n",
            "Name: count, dtype: float64\n"
          ]
        }
      ],
      "source": [
        "print(Xtrain['alone'].value_counts())\n",
        "print(Xtrain['alone'].value_counts() / Xtrain.shape[0])"
      ]
    },
    {
      "cell_type": "code",
      "execution_count": 57,
      "metadata": {
        "id": "Jd0nEigAYX1d"
      },
      "outputs": [
        {
          "name": "stdout",
          "output_type": "stream",
          "text": [
            "survived\n",
            "0           104\n",
            "1            74\n",
            "Name: count, dtype: int64\n",
            "survived\n",
            "0           0.58427\n",
            "1           0.41573\n",
            "Name: count, dtype: float64\n"
          ]
        }
      ],
      "source": [
        "# Y la variable de salida:\n",
        "\n",
        "tmp = pd.DataFrame(yval)\n",
        "\n",
        "print(tmp.value_counts())\n",
        "print(tmp.value_counts() / tmp.shape[0])"
      ]
    },
    {
      "cell_type": "markdown",
      "metadata": {
        "id": "JRSawKK_6P77"
      },
      "source": [
        "## **PREGUNTA:**\n",
        "\n",
        "## **¿Qué transformaciones consideras serían adecuadas aplicar a las categóricas, de ser el caso?**"
      ]
    },
    {
      "cell_type": "markdown",
      "metadata": {
        "id": "9XAbtXJS5Fwz"
      },
      "source": [
        "## **Análisis Variables Numéricas**"
      ]
    },
    {
      "cell_type": "code",
      "execution_count": 58,
      "metadata": {
        "id": "8JiwDvuxDnXV"
      },
      "outputs": [
        {
          "data": {
            "image/png": "[encoded data removed]",
            "text/plain": [
              "<Figure size 640x480 with 4 Axes>"
            ]
          },
          "metadata": {},
          "output_type": "display_data"
        }
      ],
      "source": [
        "Xtrain[num_lista].hist();"
      ]
    },
    {
      "cell_type": "code",
      "execution_count": 59,
      "metadata": {
        "id": "jkkUVuM2O2Dz"
      },
      "outputs": [
        {
          "data": {
            "image/png": "[encoded data removed]",
            "text/plain": [
              "<Figure size 640x480 with 1 Axes>"
            ]
          },
          "metadata": {},
          "output_type": "display_data"
        }
      ],
      "source": [
        "Xtrain[num_lista].boxplot();"
      ]
    },
    {
      "cell_type": "markdown",
      "metadata": {
        "id": "MvN79LbZ6jai"
      },
      "source": [
        "## **PREGUNTA:**\n",
        "\n",
        "## **¿Qué transformaciones consideras serían adecuadas aplicar a las numéricas, de ser el caso?**"
      ]
    },
    {
      "cell_type": "code",
      "execution_count": 60,
      "metadata": {
        "id": "F-pDuL5BDnTW"
      },
      "outputs": [],
      "source": [
        "num_pipe = Pipeline(steps = [('impMediana', SimpleImputer(strategy='median')),\n",
        "                             ('minmax', MinMaxScaler())])\n",
        "num_pipe_nombres = num_lista\n",
        "\n",
        "catord_pipe = Pipeline(steps = [('impOrd', SimpleImputer(strategy='most_frequent')),\n",
        "                             ('ordtrasnf', OrdinalEncoder(handle_unknown='use_encoded_value',unknown_value=-1))])\n",
        "catord_pipe_nombres = cat_ord_lista\n",
        "\n",
        "catnom_pipe = Pipeline(steps = [('impModa', SimpleImputer(strategy='most_frequent')),\n",
        "                             ('ohe', OneHotEncoder(drop='first', handle_unknown='ignore'))])\n",
        "catnom_pipe_nombres = cat_nom_lista\n",
        "\n",
        "\n",
        "columnasTransformer = ColumnTransformer(transformers = [('num_transf', num_pipe, num_pipe_nombres),\n",
        "                                                        ('catord_transf', catord_pipe, catord_pipe_nombres),\n",
        "                                                        ('catnom_transf', catnom_pipe, catnom_pipe_nombres)\n",
        "                                                        ],\n",
        "                                        remainder='passthrough')\n"
      ]
    },
    {
      "cell_type": "markdown",
      "metadata": {
        "id": "9bFI0WIsAb2a"
      },
      "source": [
        "## **¿Qué otras transformaciones consideras se pudieran agregar?**"
      ]
    },
    {
      "cell_type": "code",
      "execution_count": 61,
      "metadata": {
        "id": "53a6Rs3T6mFD"
      },
      "outputs": [
        {
          "name": "stdout",
          "output_type": "stream",
          "text": [
            "(712, 10) (712,)\n"
          ]
        }
      ],
      "source": [
        "# Conjuntamos conjunto de Entrenamiento y Validación para usar Cross-Validation:\n",
        "\n",
        "Xtrainval = pd.concat([Xtrain, Xval], axis=0)\n",
        "ytrainval = pd.concat([ytrain, yval], axis=0)\n",
        "\n",
        "print(Xtrainval.shape, ytrainval.shape)"
      ]
    },
    {
      "cell_type": "markdown",
      "metadata": {
        "id": "pK7noTBDA-oi"
      },
      "source": [
        "## **¿Por qué concatenamos estos conjuntos?**"
      ]
    },
    {
      "cell_type": "code",
      "execution_count": 62,
      "metadata": {
        "id": "qGld6zYQ6mCT"
      },
      "outputs": [
        {
          "name": "stdout",
          "output_type": "stream",
          "text": [
            "Antes de las transformaciones: (712, 10)\n",
            "Después de las transformaciones: (712, 12)\n"
          ]
        }
      ],
      "source": [
        "# Podemos verifcar la cantidad de columnas que se estarán gnerando después de aplicar las transformaciones:\n",
        "\n",
        "Xtmp = Xtrainval.copy()\n",
        "tmp = columnasTransformer.fit_transform(Xtmp)\n",
        "\n",
        "print(\"Antes de las transformaciones:\", Xtmp.shape)\n",
        "print(\"Después de las transformaciones:\", tmp.shape)"
      ]
    },
    {
      "cell_type": "code",
      "execution_count": 63,
      "metadata": {
        "id": "mwrZBkknBlzN"
      },
      "outputs": [],
      "source": [
        "# Modelos de Regresión:\n",
        "#from sklearn.linear_model import LinearRegression\n",
        "#from sklearn.neighbors import KNeighborsRegressor\n",
        "#from sklearn.tree import DecisionTreeRegressor\n",
        "#from sklearn.ensemble import RandomForestRegressor\n",
        "#from xgboost import XGBRegressor\n",
        "#from sklearn.neural_network import MLPRegressor\n",
        "#from sklearn.svm import SVR\n",
        "\n",
        "# Modelos de Claisficación:\n",
        "from sklearn.linear_model import LogisticRegression\n",
        "from sklearn.neighbors import KNeighborsClassifier\n",
        "from sklearn.tree import DecisionTreeClassifier\n",
        "from sklearn.ensemble import RandomForestClassifier\n",
        "from xgboost import XGBClassifier\n",
        "from sklearn.neural_network import MLPClassifier\n",
        "from sklearn.svm import SVC\n",
        "from imblearn.combine import SMOTETomek\n",
        "from imblearn.over_sampling import SMOTE\n",
        "from imblearn.under_sampling import TomekLinks"
      ]
    },
    {
      "cell_type": "markdown",
      "metadata": {
        "id": "QgP9XcG1aQvx"
      },
      "source": [
        "XGBoost-Clasificación:\n",
        "\n",
        "https://xgboost.readthedocs.io/en/latest/python/python_api.html#xgboost.XGBClassifier\n",
        "\n",
        "XGBost-Regresión:\n",
        "\n",
        "https://xgboost.readthedocs.io/en/latest/python/python_api.html#xgboost.XGBRegressor\n",
        "\n",
        "\n",
        "Puedes consultar la lista de métricas en la siguiente liga:\n",
        "\n",
        "https://scikit-learn.org/stable/modules/model_evaluation.html"
      ]
    },
    {
      "cell_type": "markdown",
      "metadata": {
        "id": "y_gECwMdg2gL"
      },
      "source": [
        "## **PREGUNTA:**\n",
        "\n",
        "## **Ejecuta primeramente el modelo con sus hiperparámetros predeterminados y luego trata de ir razonando cómo y cuáles modificar.**\n",
        "\n",
        "## **En general se hace uso de métodos como GridSearchCV() o bien RandomizedSearchCV() de Scikit-learn para la búsqueda de los mejores hiperparámetros, pero por el momento hagámoslo de manera \"manual\" para tener una mejor comprensión del ejecto de cada uno.**\n",
        "\n",
        "## **Pogamos por el momento que el objetivo de este ejercicio sea que cada modelo no quede ni sub-entrenado, ni sobre-entrenado con respecto a la métrica de la Exactitud (Accuracy), sin importar las demás métricas. Es decir, a partir de los hiperparámetros predetermiandos de cada modelo, trata de lograr dicho objetivo.**\n",
        "\n",
        "## **Y antes de iniciar, ¿podríamos establecer un primer valor de entrada de la Exactitud (Accuracy) a partir del cual pudiéramos decir que el modelo está sub-entrenado? Indica qué valor tomarás como referencia en este problema para determinar que un modelo está sub-entrenado: ... [incluye tu respuesta] ...**\n",
        "\n",
        "## **Y para el caso sobre-entrenado, ¿cuándo podríamos decir que el modelo está sobre-emntrenado? Indica qué criterio tomarás como referencia en este problema para determinar que un modelo está sobre-entrenado: ... [incluye tu respuesta] ...**"
      ]
    },
    {
      "cell_type": "code",
      "execution_count": 64,
      "metadata": {
        "id": "E0PjacenAFOO"
      },
      "outputs": [
        {
          "ename": "InvalidParameterError",
          "evalue": "The 'scoring' parameter of cross_validate must be a str among {'explained_variance', 'neg_log_loss', 'rand_score', 'jaccard_micro', 'v_measure_score', 'f1_micro', 'precision_weighted', 'r2', 'roc_auc', 'neg_root_mean_squared_error', 'jaccard_samples', 'f1', 'f1_samples', 'neg_mean_absolute_percentage_error', 'neg_mean_squared_log_error', 'completeness_score', 'f1_weighted', 'precision_macro', 'recall_micro', 'neg_median_absolute_error', 'f1_macro', 'mutual_info_score', 'recall_samples', 'roc_auc_ovo_weighted', 'matthews_corrcoef', 'top_k_accuracy', 'fowlkes_mallows_score', 'recall_weighted', 'neg_root_mean_squared_log_error', 'accuracy', 'roc_auc_ovr', 'roc_auc_ovo', 'jaccard_weighted', 'adjusted_rand_score', 'neg_mean_poisson_deviance', 'positive_likelihood_ratio', 'precision_micro', 'jaccard_macro', 'precision_samples', 'neg_brier_score', 'd2_absolute_error_score', 'neg_mean_squared_error', 'average_precision', 'recall_macro', 'adjusted_mutual_info_score', 'balanced_accuracy', 'jaccard', 'roc_auc_ovr_weighted', 'normalized_mutual_info_score', 'neg_mean_gamma_deviance', 'neg_negative_likelihood_ratio', 'recall', 'neg_mean_absolute_error', 'homogeneity_score', 'max_error', 'precision'}, a callable, an instance of 'list', an instance of 'tuple', an instance of 'dict' or None. Got {'f1', 'recall', 'accuracy', 'precision', 'roc_auc'} instead.",
          "output_type": "error",
          "traceback": [
            "\u001b[0;31m---------------------------------------------------------------------------\u001b[0m",
            "\u001b[0;31mInvalidParameterError\u001b[0m                     Traceback (most recent call last)",
            "Cell \u001b[0;32mIn[64], line 124\u001b[0m\n\u001b[1;32m    120\u001b[0m mismetricas \u001b[38;5;241m=\u001b[39m {\u001b[38;5;124m'\u001b[39m\u001b[38;5;124maccuracy\u001b[39m\u001b[38;5;124m'\u001b[39m,\u001b[38;5;124m'\u001b[39m\u001b[38;5;124mprecision\u001b[39m\u001b[38;5;124m'\u001b[39m,\u001b[38;5;124m'\u001b[39m\u001b[38;5;124mrecall\u001b[39m\u001b[38;5;124m'\u001b[39m,\u001b[38;5;124m'\u001b[39m\u001b[38;5;124mf1\u001b[39m\u001b[38;5;124m'\u001b[39m,\u001b[38;5;124m'\u001b[39m\u001b[38;5;124mroc_auc\u001b[39m\u001b[38;5;124m'\u001b[39m}   \u001b[38;5;66;03m# métricas clasificación\u001b[39;00m\n\u001b[1;32m    121\u001b[0m \u001b[38;5;66;03m#mismetricas = {'neg_mean_squared_error','neg_root_mean_squared_error','neg_mean_absolute_percentage_error','r2'}  # métricas regresión\u001b[39;00m\n\u001b[1;32m    122\u001b[0m \n\u001b[1;32m    123\u001b[0m \u001b[38;5;66;03m# Llevamos a cabo el entrenamiento:\u001b[39;00m\n\u001b[0;32m--> 124\u001b[0m scores \u001b[38;5;241m=\u001b[39m cross_validate(pipeline,\n\u001b[1;32m    125\u001b[0m                         Xtrainval,\n\u001b[1;32m    126\u001b[0m                         ytrainval,\n\u001b[1;32m    127\u001b[0m                         scoring\u001b[38;5;241m=\u001b[39mmismetricas,\n\u001b[1;32m    128\u001b[0m                         cv\u001b[38;5;241m=\u001b[39mmicv,\n\u001b[1;32m    129\u001b[0m                         return_train_score\u001b[38;5;241m=\u001b[39m\u001b[38;5;28;01mTrue\u001b[39;00m,\n\u001b[1;32m    130\u001b[0m                         )\n\u001b[1;32m    132\u001b[0m \u001b[38;5;66;03m# Guardemos el resultado de cada modelopara análisis posteriores.\u001b[39;00m\n\u001b[1;32m    133\u001b[0m resultados\u001b[38;5;241m.\u001b[39mappend(scores)\n",
            "File \u001b[0;32m/opt/anaconda3/envs/master-ai-tec/lib/python3.12/site-packages/sklearn/utils/_param_validation.py:203\u001b[0m, in \u001b[0;36mvalidate_params.<locals>.decorator.<locals>.wrapper\u001b[0;34m(*args, **kwargs)\u001b[0m\n\u001b[1;32m    200\u001b[0m to_ignore \u001b[38;5;241m+\u001b[39m\u001b[38;5;241m=\u001b[39m [\u001b[38;5;124m\"\u001b[39m\u001b[38;5;124mself\u001b[39m\u001b[38;5;124m\"\u001b[39m, \u001b[38;5;124m\"\u001b[39m\u001b[38;5;124mcls\u001b[39m\u001b[38;5;124m\"\u001b[39m]\n\u001b[1;32m    201\u001b[0m params \u001b[38;5;241m=\u001b[39m {k: v \u001b[38;5;28;01mfor\u001b[39;00m k, v \u001b[38;5;129;01min\u001b[39;00m params\u001b[38;5;241m.\u001b[39marguments\u001b[38;5;241m.\u001b[39mitems() \u001b[38;5;28;01mif\u001b[39;00m k \u001b[38;5;129;01mnot\u001b[39;00m \u001b[38;5;129;01min\u001b[39;00m to_ignore}\n\u001b[0;32m--> 203\u001b[0m validate_parameter_constraints(\n\u001b[1;32m    204\u001b[0m     parameter_constraints, params, caller_name\u001b[38;5;241m=\u001b[39mfunc\u001b[38;5;241m.\u001b[39m\u001b[38;5;18m__qualname__\u001b[39m\n\u001b[1;32m    205\u001b[0m )\n\u001b[1;32m    207\u001b[0m \u001b[38;5;28;01mtry\u001b[39;00m:\n\u001b[1;32m    208\u001b[0m     \u001b[38;5;28;01mwith\u001b[39;00m config_context(\n\u001b[1;32m    209\u001b[0m         skip_parameter_validation\u001b[38;5;241m=\u001b[39m(\n\u001b[1;32m    210\u001b[0m             prefer_skip_nested_validation \u001b[38;5;129;01mor\u001b[39;00m global_skip_validation\n\u001b[1;32m    211\u001b[0m         )\n\u001b[1;32m    212\u001b[0m     ):\n",
            "File \u001b[0;32m/opt/anaconda3/envs/master-ai-tec/lib/python3.12/site-packages/sklearn/utils/_param_validation.py:95\u001b[0m, in \u001b[0;36mvalidate_parameter_constraints\u001b[0;34m(parameter_constraints, params, caller_name)\u001b[0m\n\u001b[1;32m     89\u001b[0m \u001b[38;5;28;01melse\u001b[39;00m:\n\u001b[1;32m     90\u001b[0m     constraints_str \u001b[38;5;241m=\u001b[39m (\n\u001b[1;32m     91\u001b[0m         \u001b[38;5;124mf\u001b[39m\u001b[38;5;124m\"\u001b[39m\u001b[38;5;132;01m{\u001b[39;00m\u001b[38;5;124m'\u001b[39m\u001b[38;5;124m, \u001b[39m\u001b[38;5;124m'\u001b[39m\u001b[38;5;241m.\u001b[39mjoin([\u001b[38;5;28mstr\u001b[39m(c)\u001b[38;5;250m \u001b[39m\u001b[38;5;28;01mfor\u001b[39;00m\u001b[38;5;250m \u001b[39mc\u001b[38;5;250m \u001b[39m\u001b[38;5;129;01min\u001b[39;00m\u001b[38;5;250m \u001b[39mconstraints[:\u001b[38;5;241m-\u001b[39m\u001b[38;5;241m1\u001b[39m]])\u001b[38;5;132;01m}\u001b[39;00m\u001b[38;5;124m or\u001b[39m\u001b[38;5;124m\"\u001b[39m\n\u001b[1;32m     92\u001b[0m         \u001b[38;5;124mf\u001b[39m\u001b[38;5;124m\"\u001b[39m\u001b[38;5;124m \u001b[39m\u001b[38;5;132;01m{\u001b[39;00mconstraints[\u001b[38;5;241m-\u001b[39m\u001b[38;5;241m1\u001b[39m]\u001b[38;5;132;01m}\u001b[39;00m\u001b[38;5;124m\"\u001b[39m\n\u001b[1;32m     93\u001b[0m     )\n\u001b[0;32m---> 95\u001b[0m \u001b[38;5;28;01mraise\u001b[39;00m InvalidParameterError(\n\u001b[1;32m     96\u001b[0m     \u001b[38;5;124mf\u001b[39m\u001b[38;5;124m\"\u001b[39m\u001b[38;5;124mThe \u001b[39m\u001b[38;5;132;01m{\u001b[39;00mparam_name\u001b[38;5;132;01m!r}\u001b[39;00m\u001b[38;5;124m parameter of \u001b[39m\u001b[38;5;132;01m{\u001b[39;00mcaller_name\u001b[38;5;132;01m}\u001b[39;00m\u001b[38;5;124m must be\u001b[39m\u001b[38;5;124m\"\u001b[39m\n\u001b[1;32m     97\u001b[0m     \u001b[38;5;124mf\u001b[39m\u001b[38;5;124m\"\u001b[39m\u001b[38;5;124m \u001b[39m\u001b[38;5;132;01m{\u001b[39;00mconstraints_str\u001b[38;5;132;01m}\u001b[39;00m\u001b[38;5;124m. Got \u001b[39m\u001b[38;5;132;01m{\u001b[39;00mparam_val\u001b[38;5;132;01m!r}\u001b[39;00m\u001b[38;5;124m instead.\u001b[39m\u001b[38;5;124m\"\u001b[39m\n\u001b[1;32m     98\u001b[0m )\n",
            "\u001b[0;31mInvalidParameterError\u001b[0m: The 'scoring' parameter of cross_validate must be a str among {'explained_variance', 'neg_log_loss', 'rand_score', 'jaccard_micro', 'v_measure_score', 'f1_micro', 'precision_weighted', 'r2', 'roc_auc', 'neg_root_mean_squared_error', 'jaccard_samples', 'f1', 'f1_samples', 'neg_mean_absolute_percentage_error', 'neg_mean_squared_log_error', 'completeness_score', 'f1_weighted', 'precision_macro', 'recall_micro', 'neg_median_absolute_error', 'f1_macro', 'mutual_info_score', 'recall_samples', 'roc_auc_ovo_weighted', 'matthews_corrcoef', 'top_k_accuracy', 'fowlkes_mallows_score', 'recall_weighted', 'neg_root_mean_squared_log_error', 'accuracy', 'roc_auc_ovr', 'roc_auc_ovo', 'jaccard_weighted', 'adjusted_rand_score', 'neg_mean_poisson_deviance', 'positive_likelihood_ratio', 'precision_micro', 'jaccard_macro', 'precision_samples', 'neg_brier_score', 'd2_absolute_error_score', 'neg_mean_squared_error', 'average_precision', 'recall_macro', 'adjusted_mutual_info_score', 'balanced_accuracy', 'jaccard', 'roc_auc_ovr_weighted', 'normalized_mutual_info_score', 'neg_mean_gamma_deviance', 'neg_negative_likelihood_ratio', 'recall', 'neg_mean_absolute_error', 'homogeneity_score', 'max_error', 'precision'}, a callable, an instance of 'list', an instance of 'tuple', an instance of 'dict' or None. Got {'f1', 'recall', 'accuracy', 'precision', 'roc_auc'} instead."
          ]
        }
      ],
      "source": [
        "# Veamos algunas variantes de los hiperparámetros de cada modelo\n",
        "# para que te familiarices con la manera en que afecta cada uno\n",
        "# de ellos en su desempeño:\n",
        "\n",
        "def modelos():\n",
        "  modelos, nombres = list(), list()\n",
        "\n",
        "\n",
        "\n",
        "  # Regresión Logística:\n",
        "  # https://scikit-learn.org/stable/modules/generated/sklearn.linear_model.LogisticRegression.html\n",
        "\n",
        "  modelos.append(LogisticRegression(max_iter=100,    # 10, 100, 1000\n",
        "                                    C = 1.0,     # 0.000001, 0.005, 0.01,  1000\n",
        "                                    #random_state=1\n",
        "                                    ))\n",
        "  nombres.append('LR')\n",
        "\n",
        "\n",
        "\n",
        "  # k-Vecinos Más Cercanos:\n",
        "  # https://scikit-learn.org/stable/modules/generated/sklearn.neighbors.KNeighborsClassifier.html\n",
        "\n",
        "  modelos.append(KNeighborsClassifier(n_neighbors = 5,     # 1, 5, 21, 201\n",
        "                                      ))\n",
        "  nombres.append('kNN')\n",
        "\n",
        "\n",
        "\n",
        "  # Árbol de Decisión:\n",
        "  # https://scikit-learn.org/stable/modules/generated/sklearn.tree.DecisionTreeClassifier.html\n",
        "\n",
        "  modelos.append(DecisionTreeClassifier(max_depth = None,       # None, 5, 3, 1\n",
        "                                        min_samples_split=2,   # 2,3,5, 20\n",
        "                                        #min_samples_leaf=1,  # trata al inicio de usar solo uno de estos, split o leaf, para su mejor comprensión.\n",
        "                                        #random_state=7\n",
        "                                        ))\n",
        "  nombres.append('DTree')\n",
        "\n",
        "\n",
        "\n",
        "  # Bosque Aleatorio:\n",
        "  # https://scikit-learn.org/stable/modules/generated/sklearn.ensemble.RandomForestClassifier.html\n",
        "\n",
        "  modelos.append(RandomForestClassifier(n_estimators= 100,    # 100\n",
        "                                        max_depth= None,      # None, 1, 2,3, 4, 5, 6 ... ¿Se esperaría la misma profunidad en un RF y en un DT?\n",
        "                                        min_samples_split=2,    # 2, 5, 15\n",
        "                                        #random_state=0\n",
        "                                        ))\n",
        "  nombres.append('RF')\n",
        "\n",
        "\n",
        "\n",
        "\n",
        "  # XGBoost:\n",
        "  # https://xgboost.readthedocs.io/en/latest/python/python_api.html#xgboost.XGBClassifier\n",
        "  # https://xgboost.readthedocs.io/en/stable/parameter.html\n",
        "\n",
        "  modelos.append(XGBClassifier(booster= 'gbtree',\n",
        "                               n_estimators=100,   # A medida que se aumente \"n_estimators\", se debe disminuir el \"learning_rate\", de manera general.\n",
        "                               max_depth= 6,             # 1,3, 6,\n",
        "                               learning_rate=0.3,   #  0.3, 0.000001, 0.01, 100,     # participación o peso de cada árbol desde el inicio.\n",
        "                               subsample=1.0,        # 1.0,  0.9, 0.8, ... 0.5    # submuestreo con respecto a los renglones para evitar overfitting.\n",
        "                               #random_state=5,\n",
        "                               objective='binary:logistic',\n",
        "                               n_jobs=-1))\n",
        "  nombres.append('XGBoost')\n",
        "\n",
        "\n",
        "\n",
        "\n",
        "  # Red Neuronal Artificial: Perceptrón MultiCapa:\n",
        "  # https://scikit-learn.org/stable/modules/generated/sklearn.neural_network.MLPClassifier.html\n",
        "\n",
        "  modelos.append(MLPClassifier(hidden_layer_sizes=(30,),     # 100,  6, 24, 30, (15,15), (50,50)\n",
        "                               activation='logistic',\n",
        "                               max_iter=1000,                  # 200,\n",
        "                               alpha=0.0001,               # término de regularización L2.\n",
        "                               #learning_rate='constant',       # tasa de aprendizaje o tamaño de paso del método Gradiente Descendente.\n",
        "                               #learning_rate_init=0.001,\n",
        "                               #random_state=1\n",
        "                               ))\n",
        "  nombres.append('MLP')\n",
        "\n",
        "\n",
        "\n",
        "  # Máquina de Vector Soporte : Support Vector Machine\n",
        "  # https://scikit-learn.org/stable/modules/generated/sklearn.svm.SVC.html\n",
        "\n",
        "  modelos.append(SVC(kernel='rbf',\n",
        "                     C= 1.0,      # 1.0, 0.00001, 1000           # inversamente proporcional a la constante de regularización L2.\n",
        "                     gamma= 'scale',           # scale,  0.005\n",
        "                     #class_weight='balanced',     # Siempre puedes hacer uso del balanceo en caso de que ayude.\n",
        "                     #random_state=7\n",
        "                     ))\n",
        "  nombres.append('SVM')\n",
        "\n",
        "\n",
        "\n",
        "\n",
        "\n",
        "  return modelos, nombres\n",
        "\n",
        "\n",
        "\n",
        "# ++++++++++++++++++++++++++++++++++++++++++++++++++++++\n",
        "\n",
        "modelo, nombres = modelos()\n",
        "resultados = list()\n",
        "\n",
        "for i in range(len(modelo)):\n",
        "\n",
        "  # Definimos nuestro pipeline con las transformaciones y los modelos:\n",
        "  pipeline = Pipeline(steps=[('ct',columnasTransformer),('m',modelo[i])])\n",
        "\n",
        "  # Aplicaremos validación-cruzada:\n",
        "  micv = RepeatedStratifiedKFold(n_splits=5, n_repeats=3)\n",
        "\n",
        "  # Definimos las métricas que desamos recuperar:\n",
        "  mismetricas = {'accuracy','precision','recall','f1','roc_auc'}   # métricas clasificación\n",
        "  #mismetricas = {'neg_mean_squared_error','neg_root_mean_squared_error','neg_mean_absolute_percentage_error','r2'}  # métricas regresión\n",
        "\n",
        "  # Llevamos a cabo el entrenamiento:\n",
        "  scores = cross_validate(pipeline,\n",
        "                          Xtrainval,\n",
        "                          ytrainval,\n",
        "                          scoring=mismetricas,\n",
        "                          cv=micv,\n",
        "                          return_train_score=True,\n",
        "                          )\n",
        "\n",
        "  # Guardemos el resultado de cada modelopara análisis posteriores.\n",
        "  resultados.append(scores)\n",
        "\n",
        "  # Desplegamos los valores de las métricas para verificar si no hay\n",
        "  # subentrenamiento o sobreentrenamiento:\n",
        "  print('>> %s' % nombres[i])\n",
        "  for j,k in enumerate(list(scores.keys())):\n",
        "    if j>1:\n",
        "      print('\\t %s %.3f (%.3f)' % (k, np.mean(scores[k]),np.std(scores[k])))\n",
        "\n"
      ]
    },
    {
      "cell_type": "code",
      "execution_count": null,
      "metadata": {
        "id": "24FIrWS9AFFj"
      },
      "outputs": [],
      "source": [
        "tmp = [resultados[j]['test_precision'] for j in range(len(resultados)) ]\n",
        "\n",
        "plt.boxplot(tmp, labels=nombres, showmeans=True)\n",
        "plt.show()"
      ]
    },
    {
      "cell_type": "markdown",
      "metadata": {
        "id": "KhC5Gnxi5OPF"
      },
      "source": [
        "## **Mejor Modelo:**\n",
        "\n",
        "Supongamos que fue la SVM con la métrica de Precision:"
      ]
    },
    {
      "cell_type": "code",
      "execution_count": null,
      "metadata": {
        "id": "ibRneJO92VBV"
      },
      "outputs": [],
      "source": [
        "mf = SVC(kernel='rbf',C= 1.0,gamma= 'scale')\n",
        "\n",
        "mf_pipe = Pipeline(steps=[('ct',columnasTransformer),('m',mf)])\n",
        "\n",
        "mf_pipe.fit(Xtrainval,ytrainval)\n",
        "\n",
        "# PROFESOR:\n",
        "# Verificar que utilicen el conjunto de Prueba Test:\n",
        "yhat = mf_pipe.predict(Xtest)\n",
        "\n",
        "print(classification_report(ytest, yhat))\n",
        "\n",
        "print('Métrica-ROC-Test:', np.round(roc_auc_score(ytest, yhat), 2))"
      ]
    },
    {
      "cell_type": "code",
      "execution_count": null,
      "metadata": {
        "id": "Bf5qiXIM6g-L"
      },
      "outputs": [],
      "source": [
        "# O bien, usando la matriz de confusión y calculando directamente cada métrica:\n",
        "\n",
        "cm = confusion_matrix(ytest, yhat)\n",
        "cm"
      ]
    },
    {
      "cell_type": "code",
      "execution_count": null,
      "metadata": {
        "id": "Xx7T1T156tyi"
      },
      "outputs": [],
      "source": [
        "VN = cm[0,0]\n",
        "VP = cm[1,1]\n",
        "FN = cm[1,0]\n",
        "FP = cm[0,1]\n",
        "\n",
        "mi_precision = VP / (VP + FP)\n",
        "mi_precision"
      ]
    }
  ],
  "metadata": {
    "colab": {
      "provenance": []
    },
    "kernelspec": {
      "display_name": "Python 3",
      "name": "python3"
    },
    "language_info": {
      "codemirror_mode": {
        "name": "ipython",
        "version": 3
      },
      "file_extension": ".py",
      "mimetype": "text/x-python",
      "name": "python",
      "nbconvert_exporter": "python",
      "pygments_lexer": "ipython3",
      "version": "3.12.5"
    }
  },
  "nbformat": 4,
  "nbformat_minor": 0
}

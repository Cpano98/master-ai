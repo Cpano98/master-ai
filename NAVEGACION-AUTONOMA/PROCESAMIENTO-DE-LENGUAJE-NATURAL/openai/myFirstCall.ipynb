{
 "cells": [
  {
   "cell_type": "code",
   "execution_count": 8,
   "id": "0dcd9128-ba07-4d50-9ba2-5368fb7fc85a",
   "metadata": {},
   "outputs": [
    {
     "name": "stdout",
     "output_type": "stream",
     "text": [
      "As the gentle moonlight bathed the enchanted forest, a beautiful unicorn named Celestia spread her shimmering wings and soared through the starry sky, planting dreams in every child's heart below.\n"
     ]
    }
   ],
   "source": [
    "from openai import OpenAI\n",
    "from dotenv import load_dotenv\n",
    "import os\n",
    "\n",
    "# Load environment variables from the specific .env file\n",
    "load_dotenv('.env')\n",
    "\n",
    "api_key = os.getenv('OPENAI_API_KEY')\n",
    "if api_key is None:\n",
    "    raise ValueError(\"OPENAI_API_KEY environment variable is not set\")\n",
    "\n",
    "\n",
    "client = OpenAI(api_key=api_key)\n",
    "\n",
    "response = client.responses.create(\n",
    "    model=\"gpt-4o-mini\",\n",
    "    input=\"Write a one-sentence bedtime story about a unicorn.\"\n",
    ")\n",
    "\n",
    "print(response.output_text)"
   ]
  },
  {
   "cell_type": "code",
   "execution_count": null,
   "id": "8153c575-613c-4b2a-888d-bdc2930b58bd",
   "metadata": {},
   "outputs": [],
   "source": []
  }
 ],
 "metadata": {
  "kernelspec": {
   "display_name": "Python 3 (ipykernel)",
   "language": "python",
   "name": "python3"
  },
  "language_info": {
   "codemirror_mode": {
    "name": "ipython",
    "version": 3
   },
   "file_extension": ".py",
   "mimetype": "text/x-python",
   "name": "python",
   "nbconvert_exporter": "python",
   "pygments_lexer": "ipython3",
   "version": "3.12.5"
  }
 },
 "nbformat": 4,
 "nbformat_minor": 5
}

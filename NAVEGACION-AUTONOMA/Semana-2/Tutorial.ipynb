{
 "cells": [
  {
   "cell_type": "code",
   "execution_count": 2,
   "id": "561cc6ee-e4eb-4266-8450-5c3486767436",
   "metadata": {},
   "outputs": [],
   "source": [
    "import cv2\n",
    "\n",
    "# https://github.com/opencv\n",
    "# https://github.com/opencv/opencv\n",
    "# https://github.com/opencv/opencv/tree/4.x/samples/data\n",
    "\n",
    "from PIL import Image\n",
    "import numpy as np\n",
    "import matplotlib.pyplot as plt\n",
    "import matplotlib.image as mpimg\n",
    "%matplotlib inline\n",
    "\n"
   ]
  },
  {
   "cell_type": "code",
   "execution_count": 3,
   "id": "51d77b88",
   "metadata": {},
   "outputs": [],
   "source": [
    "# img = cv2.imread('../opencv/samples/data/lena.jpg',1)\n",
    "# print(img)\n",
    "\n",
    "# print(img.shape)\n",
    "\n",
    "# plt.imshow(img)\n",
    "# img.shape\n",
    "\n"
   ]
  },
  {
   "cell_type": "code",
   "execution_count": 4,
   "id": "f9876f52",
   "metadata": {},
   "outputs": [],
   "source": [
    "img2 = Image.open('../opencv/samples/data/lena.jpg')\n",
    "# img2.show()"
   ]
  },
  {
   "cell_type": "code",
   "execution_count": 5,
   "id": "4f54275f",
   "metadata": {},
   "outputs": [],
   "source": [
    "def Cartoon(image_color):\n",
    "    dst = cv2.stylization(image_color, sigma_s=60, sigma_r=0.5)\n",
    "    return dst"
   ]
  },
  {
   "cell_type": "code",
   "execution_count": null,
   "id": "aacd2589",
   "metadata": {},
   "outputs": [
    {
     "name": "stderr",
     "output_type": "stream",
     "text": [
      "2025-04-13 19:39:44.025 python[1166:99930445] +[IMKClient subclass]: chose IMKClient_Modern\n",
      "2025-04-13 19:39:44.025 python[1166:99930445] +[IMKInputSession subclass]: chose IMKInputSession_Modern\n"
     ]
    }
   ],
   "source": [
    "cap = cv2.VideoCapture(0)\n",
    "while(True):\n",
    "    ret, frame = cap.read()\n",
    "    cv2.imshow('Live Edge Detection',Cartoon(frame))\n",
    "    cv2.imshow('Webcam Video',frame)\n",
    "    \n",
    "    if cv2.waitKey(1) == 13:\n",
    "        break\n",
    "cap.release()\n",
    "cv2.destroyAllWindows()\n"
   ]
  },
  {
   "cell_type": "code",
   "execution_count": 6,
   "id": "14d88758",
   "metadata": {},
   "outputs": [],
   "source": [
    "# cv2.imshow('image',img)\n",
    "#k = cv2.waitKey(0)\n",
    "# if k == 27:\n",
    "#     cv2.destroyAllWindows()\n",
    "# elif k == ord('s'):\n",
    "   #cv2.imwrite('lena_copy.png',img) # save the image"
   ]
  }
 ],
 "metadata": {
  "kernelspec": {
   "display_name": "Python 3 (ipykernel)",
   "language": "python",
   "name": "python3"
  },
  "language_info": {
   "codemirror_mode": {
    "name": "ipython",
    "version": 3
   },
   "file_extension": ".py",
   "mimetype": "text/x-python",
   "name": "python",
   "nbconvert_exporter": "python",
   "pygments_lexer": "ipython3",
   "version": "3.12.5"
  }
 },
 "nbformat": 4,
 "nbformat_minor": 5
}

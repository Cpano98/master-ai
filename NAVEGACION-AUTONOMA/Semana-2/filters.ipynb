{
 "cells": [
  {
   "cell_type": "code",
   "execution_count": 2,
   "id": "561cc6ee-e4eb-4266-8450-5c3486767436",
   "metadata": {},
   "outputs": [],
   "source": [
    "import cv2\n",
    "\n",
    "# https://github.com/opencv\n",
    "# https://github.com/opencv/opencv\n",
    "# https://github.com/opencv/opencv/tree/4.x/samples/data\n",
    "\n",
    "from PIL import Image\n",
    "import numpy as np\n",
    "import matplotlib.pyplot as plt\n",
    "import matplotlib.image as mpimg\n",
    "%matplotlib inline\n",
    "\n"
   ]
  },
  {
   "cell_type": "code",
   "execution_count": 5,
   "id": "4f54275f",
   "metadata": {},
   "outputs": [
    {
     "data": {
      "text/plain": [
       "(512, 512, 3)"
      ]
     },
     "execution_count": 5,
     "metadata": {},
     "output_type": "execute_result"
    }
   ],
   "source": [
    "img_original = cv2.imread('../opencv/samples/data/lena.jpg')\n",
    "img_original.shape"
   ]
  },
  {
   "cell_type": "code",
   "execution_count": null,
   "id": "6f735e5a",
   "metadata": {},
   "outputs": [
    {
     "name": "stderr",
     "output_type": "stream",
     "text": [
      "2025-04-13 19:55:15.179 python[20409:100042275] +[IMKClient subclass]: chose IMKClient_Modern\n",
      "2025-04-13 19:55:15.179 python[20409:100042275] +[IMKInputSession subclass]: chose IMKInputSession_Modern\n"
     ]
    }
   ],
   "source": [
    "sharp_kernel = np.array([[0, -1, 0], [-1, 5, -1], [0, -1, 0]])\n",
    "sharp_img = cv2.filter2D(img_original, -1, sharp_kernel)\n",
    "\n",
    "cv2.imshow('Imagen Resaltada', sharp_img)\n",
    "cv2.waitKey(0)\n",
    "cv2.destroyAllWindows()"
   ]
  },
  {
   "cell_type": "code",
   "execution_count": null,
   "id": "a1bd9ae2",
   "metadata": {},
   "outputs": [
    {
     "name": "stderr",
     "output_type": "stream",
     "text": [
      "2025-04-13 19:58:05.344 python[29064:100091152] +[IMKClient subclass]: chose IMKClient_Modern\n",
      "2025-04-13 19:58:05.344 python[29064:100091152] +[IMKInputSession subclass]: chose IMKInputSession_Modern\n"
     ]
    }
   ],
   "source": [
    "import numpy as np\n",
    "\n",
    "blur_kernel = np.array([[1/9, 1/9, 1/9], [1/9, 1/9, 1/9], [1/9, 1/9, 1/9]])\n",
    "blur_img = cv2.filter2D(img_original, -1, blur_kernel)\n",
    "\n",
    "cv2.imshow('Imagen Desenfocada', blur_img)\n",
    "cv2.waitKey(0)\n",
    "cv2.destroyAllWindows()\n"
   ]
  }
 ],
 "metadata": {
  "kernelspec": {
   "display_name": "master-ai-tec",
   "language": "python",
   "name": "python3"
  },
  "language_info": {
   "codemirror_mode": {
    "name": "ipython",
    "version": 3
   },
   "file_extension": ".py",
   "mimetype": "text/x-python",
   "name": "python",
   "nbconvert_exporter": "python",
   "pygments_lexer": "ipython3",
   "version": "3.12.5"
  }
 },
 "nbformat": 4,
 "nbformat_minor": 5
}

{
 "cells": [
  {
   "cell_type": "code",
   "execution_count": null,
   "id": "561cc6ee-e4eb-4266-8450-5c3486767436",
   "metadata": {},
   "outputs": [
    {
     "data": {
      "text/plain": [
       "-1"
      ]
     },
     "execution_count": 2,
     "metadata": {},
     "output_type": "execute_result"
    },
    {
     "ename": "",
     "evalue": "",
     "output_type": "error",
     "traceback": [
      "\u001b[1;31mThe Kernel crashed while executing code in the current cell or a previous cell. \n",
      "\u001b[1;31mPlease review the code in the cell(s) to identify a possible cause of the failure. \n",
      "\u001b[1;31mClick <a href='https://aka.ms/vscodeJupyterKernelCrash'>here</a> for more info. \n",
      "\u001b[1;31mView Jupyter <a href='command:jupyter.viewOutput'>log</a> for further details."
     ]
    }
   ],
   "source": [
    "import cv2 \n",
    "import numpy as np \n",
    " \n",
    "img_emboss_input = cv2.imread('../../opencv/samples/data/lena.jpg') \n",
    "#cv2.imshow('Original', img) \n",
    " \n",
    "# generating the kernels \n",
    "kernel_emboss_1 = np.array([[0,-1,-1], \n",
    "                            [1,0,-1], \n",
    "                            [1,1,0]]) \n",
    "kernel_emboss_2 = np.array([[-1,-1,0], \n",
    "                            [-1,0,1], \n",
    "                            [0,1,1]]) \n",
    "kernel_emboss_3 = np.array([[1,0,0], \n",
    "                            [0,0,0], \n",
    "                            [0,0,-1]]) \n",
    " \n",
    "# converting the image to grayscale \n",
    "gray_img = cv2.cvtColor(img_emboss_input,cv2.COLOR_BGR2GRAY) \n",
    " \n",
    "# applying the kernels to the grayscale image and adding the offset to produce the shadow\n",
    "output_1 = cv2.filter2D(gray_img, -1, kernel_emboss_1) + 128 \n",
    "output_2 = cv2.filter2D(gray_img, -1, kernel_emboss_2) + 128 \n",
    "output_3 = cv2.filter2D(gray_img, -1, kernel_emboss_3) + 128 \n",
    " \n",
    "cv2.imshow('Input', img_emboss_input) \n",
    "cv2.imshow('Embossing - South West', output_1) \n",
    "cv2.imshow('Embossing - South East', output_2) \n",
    "cv2.imshow('Embossing - North West', output_3) \n",
    "\n",
    "cv2.waitKey(5000)\n",
    "cv2.destroyAllWindows()\n",
    "cv2.waitKey(1)"
   ]
  }
 ],
 "metadata": {
  "kernelspec": {
   "display_name": "master-ai-tec",
   "language": "python",
   "name": "python3"
  },
  "language_info": {
   "codemirror_mode": {
    "name": "ipython",
    "version": 3
   },
   "file_extension": ".py",
   "mimetype": "text/x-python",
   "name": "python",
   "nbconvert_exporter": "python",
   "pygments_lexer": "ipython3",
   "version": "3.12.5"
  }
 },
 "nbformat": 4,
 "nbformat_minor": 5
}

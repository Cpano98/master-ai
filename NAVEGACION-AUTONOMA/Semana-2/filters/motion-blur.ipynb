{
 "cells": [
  {
   "cell_type": "code",
   "execution_count": 1,
   "id": "561cc6ee-e4eb-4266-8450-5c3486767436",
   "metadata": {},
   "outputs": [
    {
     "name": "stderr",
     "output_type": "stream",
     "text": [
      "2025-04-22 16:01:01.850 python[42115:151564765] +[IMKClient subclass]: chose IMKClient_Modern\n",
      "2025-04-22 16:01:01.851 python[42115:151564765] +[IMKInputSession subclass]: chose IMKInputSession_Modern\n"
     ]
    },
    {
     "data": {
      "text/plain": [
       "-1"
      ]
     },
     "execution_count": 1,
     "metadata": {},
     "output_type": "execute_result"
    }
   ],
   "source": [
    "import cv2 \n",
    "import numpy as np \n",
    " \n",
    "img = cv2.imread('../../opencv/samples/data/lena.jpg', cv2.IMREAD_GRAYSCALE) \n",
    "cv2.imshow('Original', img) \n",
    " \n",
    "size = 15 \n",
    " \n",
    "# generating the kernel \n",
    "kernel_motion_blur = np.zeros((size, size)) \n",
    "kernel_motion_blur[int((size-1)/2), :] = np.ones(size) \n",
    "kernel_motion_blur = kernel_motion_blur / size \n",
    " \n",
    "# applying the kernel to the input image \n",
    "output = cv2.filter2D(img, -1, kernel_motion_blur) \n",
    " \n",
    "cv2.imshow('Motion Blur', output)\n",
    "\n",
    "cv2.waitKey(5000)\n",
    "cv2.destroyAllWindows()\n",
    "cv2.waitKey(1)"
   ]
  }
 ],
 "metadata": {
  "kernelspec": {
   "display_name": "master-ai-tec",
   "language": "python",
   "name": "python3"
  },
  "language_info": {
   "codemirror_mode": {
    "name": "ipython",
    "version": 3
   },
   "file_extension": ".py",
   "mimetype": "text/x-python",
   "name": "python",
   "nbconvert_exporter": "python",
   "pygments_lexer": "ipython3",
   "version": "3.12.5"
  }
 },
 "nbformat": 4,
 "nbformat_minor": 5
}

{
 "cells": [
  {
   "cell_type": "code",
   "execution_count": 1,
   "id": "561cc6ee-e4eb-4266-8450-5c3486767436",
   "metadata": {},
   "outputs": [
    {
     "name": "stderr",
     "output_type": "stream",
     "text": [
      "2025-04-22 16:01:19.299 python[42461:151566717] +[IMKClient subclass]: chose IMKClient_Modern\n",
      "2025-04-22 16:01:19.299 python[42461:151566717] +[IMKInputSession subclass]: chose IMKInputSession_Modern\n"
     ]
    },
    {
     "data": {
      "text/plain": [
       "-1"
      ]
     },
     "execution_count": 1,
     "metadata": {},
     "output_type": "execute_result"
    }
   ],
   "source": [
    "import cv2 \n",
    "import numpy as np \n",
    " \n",
    "img = cv2.imread('../../opencv/samples/data/lena.jpg', cv2.IMREAD_GRAYSCALE) \n",
    "cv2.imshow('Original', img) \n",
    " \n",
    "# generating the kernels \n",
    "kernel_sharpen_1 = np.array([[-1,-1,-1], [-1,9,-1], [-1,-1,-1]]) \n",
    "kernel_sharpen_2 = np.array([[1,1,1], [1,-7,1], [1,1,1]]) \n",
    "kernel_sharpen_3 = np.array([[-1,-1,-1,-1,-1], \n",
    "                             [-1,2,2,2,-1], \n",
    "                             [-1,2,8,2,-1], \n",
    "                             [-1,2,2,2,-1], \n",
    "                             [-1,-1,-1,-1,-1]]) / 8.0 \n",
    " \n",
    "# applying different kernels to the input image \n",
    "output_1 = cv2.filter2D(img, -1, kernel_sharpen_1) \n",
    "output_2 = cv2.filter2D(img, -1, kernel_sharpen_2) \n",
    "output_3 = cv2.filter2D(img, -1, kernel_sharpen_3) \n",
    " \n",
    "cv2.imshow('Sharpening', output_1) \n",
    "cv2.imshow('Excessive Sharpening', output_2) \n",
    "cv2.imshow('Edge Enhancement', output_3) \n",
    "\n",
    "cv2.waitKey(5000)\n",
    "cv2.destroyAllWindows()\n",
    "cv2.waitKey(1)"
   ]
  }
 ],
 "metadata": {
  "kernelspec": {
   "display_name": "master-ai-tec",
   "language": "python",
   "name": "python3"
  },
  "language_info": {
   "codemirror_mode": {
    "name": "ipython",
    "version": 3
   },
   "file_extension": ".py",
   "mimetype": "text/x-python",
   "name": "python",
   "nbconvert_exporter": "python",
   "pygments_lexer": "ipython3",
   "version": "3.12.5"
  }
 },
 "nbformat": 4,
 "nbformat_minor": 5
}

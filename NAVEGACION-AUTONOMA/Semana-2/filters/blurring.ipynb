{
 "cells": [
  {
   "cell_type": "code",
   "execution_count": 1,
   "id": "561cc6ee-e4eb-4266-8450-5c3486767436",
   "metadata": {},
   "outputs": [
    {
     "name": "stderr",
     "output_type": "stream",
     "text": [
      "2025-04-22 15:57:25.563 python[39194:151550920] +[IMKClient subclass]: chose IMKClient_Modern\n",
      "2025-04-22 15:57:25.563 python[39194:151550920] +[IMKInputSession subclass]: chose IMKInputSession_Modern\n"
     ]
    },
    {
     "data": {
      "text/plain": [
       "-1"
      ]
     },
     "execution_count": 1,
     "metadata": {},
     "output_type": "execute_result"
    },
    {
     "ename": "",
     "evalue": "",
     "output_type": "error",
     "traceback": [
      "\u001b[1;31mThe Kernel crashed while executing code in the current cell or a previous cell. \n",
      "\u001b[1;31mPlease review the code in the cell(s) to identify a possible cause of the failure. \n",
      "\u001b[1;31mClick <a href='https://aka.ms/vscodeJupyterKernelCrash'>here</a> for more info. \n",
      "\u001b[1;31mView Jupyter <a href='command:jupyter.viewOutput'>log</a> for further details."
     ]
    }
   ],
   "source": [
    "import cv2 \n",
    "import numpy as np \n",
    " \n",
    "img = cv2.imread('../../opencv/samples/data/lena.jpg', cv2.IMREAD_GRAYSCALE) \n",
    "rows, cols = img.shape[:2] \n",
    "\n",
    "kernel_identity = np.array([[0,0,0], [0,1,0], [0,0,0]]) \n",
    "kernel_3x3 = np.ones((3,3), np.float32) / 9.0 # Divide by 9 to normalize the kernel\n",
    "kernel_5x5 = np.ones((5,5), np.float32) / 25.0 # Divide by 25 to normalize the kernel\n",
    " \n",
    "cv2.imshow('Original', img) \n",
    "\n",
    "# value -1 is to maintain source image depth\n",
    "output = cv2.filter2D(img, -1, kernel_identity) \n",
    "cv2.imshow('Identity filter', output) \n",
    "\n",
    "output = cv2.filter2D(img, -1, kernel_3x3) \n",
    "cv2.imshow('3x3 filter', output) \n",
    "\n",
    "output = cv2.filter2D(img, -1, kernel_5x5) \n",
    "cv2.imshow('5x5 filter', output) \n",
    "\n",
    "cv2.waitKey(5000)\n",
    "cv2.destroyAllWindows()\n",
    "cv2.waitKey(1)"
   ]
  }
 ],
 "metadata": {
  "kernelspec": {
   "display_name": "master-ai-tec",
   "language": "python",
   "name": "python3"
  },
  "language_info": {
   "codemirror_mode": {
    "name": "ipython",
    "version": 3
   },
   "file_extension": ".py",
   "mimetype": "text/x-python",
   "name": "python",
   "nbconvert_exporter": "python",
   "pygments_lexer": "ipython3",
   "version": "3.12.5"
  }
 },
 "nbformat": 4,
 "nbformat_minor": 5
}

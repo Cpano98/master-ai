{
 "cells": [
  {
   "cell_type": "code",
   "execution_count": null,
   "id": "561cc6ee-e4eb-4266-8450-5c3486767436",
   "metadata": {},
   "outputs": [
    {
     "name": "stderr",
     "output_type": "stream",
     "text": [
      "2025-04-22 15:51:22.651 python[34180:151526598] +[IMKClient subclass]: chose IMKClient_Modern\n",
      "2025-04-22 15:51:22.651 python[34180:151526598] +[IMKInputSession subclass]: chose IMKInputSession_Modern\n"
     ]
    },
    {
     "ename": "",
     "evalue": "",
     "output_type": "error",
     "traceback": [
      "\u001b[1;31mThe Kernel crashed while executing code in the current cell or a previous cell. \n",
      "\u001b[1;31mPlease review the code in the cell(s) to identify a possible cause of the failure. \n",
      "\u001b[1;31mClick <a href='https://aka.ms/vscodeJupyterKernelCrash'>here</a> for more info. \n",
      "\u001b[1;31mView Jupyter <a href='command:jupyter.viewOutput'>log</a> for further details."
     ]
    }
   ],
   "source": [
    "import cv2 \n",
    "import numpy as np \n",
    " \n",
    "img = cv2.imread('../../opencv/samples/data/lena.jpg', cv2.IMREAD_GRAYSCALE) \n",
    "rows, cols = img.shape \n",
    "\n",
    "# It is used depth of cv2.CV_64F.\n",
    "sobel_horizontal = cv2.Sobel(img, cv2.CV_64F, 1, 0, ksize=5)\n",
    "# Kernel size can be: 1,3,5 or 7.\n",
    "sobel_vertical = cv2.Sobel(img, cv2.CV_64F, 0, 1, ksize=5) \n",
    " \n",
    "cv2.imshow('Original', img) \n",
    "cv2.imshow('Sobel horizontal', sobel_horizontal) \n",
    "cv2.imshow('Sobel vertical', sobel_vertical) \n",
    "\n",
    "cv2.waitKey(5000)\n",
    "cv2.destroyAllWindows()\n",
    "cv2.waitKey(1)"
   ]
  }
 ],
 "metadata": {
  "kernelspec": {
   "display_name": "master-ai-tec",
   "language": "python",
   "name": "python3"
  },
  "language_info": {
   "codemirror_mode": {
    "name": "ipython",
    "version": 3
   },
   "file_extension": ".py",
   "mimetype": "text/x-python",
   "name": "python",
   "nbconvert_exporter": "python",
   "pygments_lexer": "ipython3",
   "version": "3.12.5"
  }
 },
 "nbformat": 4,
 "nbformat_minor": 5
}

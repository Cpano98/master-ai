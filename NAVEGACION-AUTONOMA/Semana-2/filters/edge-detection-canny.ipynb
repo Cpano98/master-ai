{
 "cells": [
  {
   "cell_type": "code",
   "execution_count": 1,
   "id": "561cc6ee-e4eb-4266-8450-5c3486767436",
   "metadata": {},
   "outputs": [
    {
     "name": "stderr",
     "output_type": "stream",
     "text": [
      "2025-04-22 16:34:26.207 python[44850:151578240] +[IMKClient subclass]: chose IMKClient_Modern\n",
      "2025-04-22 16:34:26.207 python[44850:151578240] +[IMKInputSession subclass]: chose IMKInputSession_Modern\n"
     ]
    },
    {
     "data": {
      "text/plain": [
       "-1"
      ]
     },
     "execution_count": 1,
     "metadata": {},
     "output_type": "execute_result"
    }
   ],
   "source": [
    "import cv2 \n",
    "import numpy as np \n",
    " \n",
    "img = cv2.imread('../../opencv/samples/data/lena.jpg', cv2.IMREAD_GRAYSCALE) \n",
    "rows, cols = img.shape \n",
    "\n",
    "canny = cv2.Canny(img, 50, 240) \n",
    " \n",
    "cv2.imshow('Original', img) \n",
    "cv2.imshow('canny', canny) \n",
    "\n",
    "cv2.waitKey(5000)\n",
    "cv2.destroyAllWindows()\n",
    "cv2.waitKey(1)"
   ]
  }
 ],
 "metadata": {
  "kernelspec": {
   "display_name": "master-ai-tec",
   "language": "python",
   "name": "python3"
  },
  "language_info": {
   "codemirror_mode": {
    "name": "ipython",
    "version": 3
   },
   "file_extension": ".py",
   "mimetype": "text/x-python",
   "name": "python",
   "nbconvert_exporter": "python",
   "pygments_lexer": "ipython3",
   "version": "3.12.5"
  }
 },
 "nbformat": 4,
 "nbformat_minor": 5
}

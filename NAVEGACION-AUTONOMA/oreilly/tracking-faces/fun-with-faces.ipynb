{
 "cells": [
  {
   "cell_type": "code",
   "execution_count": 1,
   "id": "561cc6ee-e4eb-4266-8450-5c3486767436",
   "metadata": {},
   "outputs": [
    {
     "name": "stdout",
     "output_type": "stream",
     "text": [
      "Ignoring arithmentic exceptions: OpenCV(4.11.0) /Users/xperience/GHA-Actions-OpenCV/_work/opencv-python/opencv-python/opencv/modules/core/src/arithm.cpp:230: error: (-215:Assertion failed) (mtype == CV_8U || mtype == CV_8S) && _mask.sameSize(*psrc1) in function 'binary_op'\n",
      "\n"
     ]
    },
    {
     "ename": "NameError",
     "evalue": "name 'masked_frame' is not defined",
     "output_type": "error",
     "traceback": [
      "\u001b[0;31m---------------------------------------------------------------------------\u001b[0m",
      "\u001b[0;31mNameError\u001b[0m                                 Traceback (most recent call last)",
      "Cell \u001b[0;32mIn[1], line 57\u001b[0m\n\u001b[1;32m     54\u001b[0m         \u001b[38;5;28mprint\u001b[39m(\u001b[38;5;124m'\u001b[39m\u001b[38;5;124mIgnoring arithmentic exceptions: \u001b[39m\u001b[38;5;124m'\u001b[39m\u001b[38;5;241m+\u001b[39m \u001b[38;5;28mstr\u001b[39m(e))\n\u001b[1;32m     56\u001b[0m     \u001b[38;5;66;03m# add the two images to get the final output \u001b[39;00m\n\u001b[0;32m---> 57\u001b[0m     frame[y:y\u001b[38;5;241m+\u001b[39mh, x:x\u001b[38;5;241m+\u001b[39mw] \u001b[38;5;241m=\u001b[39m cv2\u001b[38;5;241m.\u001b[39madd(masked_face, masked_frame)\n\u001b[1;32m     59\u001b[0m cv2\u001b[38;5;241m.\u001b[39mimshow(\u001b[38;5;124m'\u001b[39m\u001b[38;5;124mFace Detector\u001b[39m\u001b[38;5;124m'\u001b[39m, frame) \n\u001b[1;32m     61\u001b[0m c \u001b[38;5;241m=\u001b[39m cv2\u001b[38;5;241m.\u001b[39mwaitKey(\u001b[38;5;241m1\u001b[39m) \n",
      "\u001b[0;31mNameError\u001b[0m: name 'masked_frame' is not defined"
     ]
    }
   ],
   "source": [
    "import cv2 \n",
    "import numpy as np \n",
    " \n",
    "face_cascade = cv2.CascadeClassifier('python-opencv-detect-master/haarcascade_frontalface_alt.xml') \n",
    "\n",
    "face_mask = cv2.imread('mask_hannibal.png') \n",
    "\n",
    "h_mask, w_mask = face_mask.shape[:2] \n",
    " \n",
    "if face_cascade.empty(): \n",
    "    raise IOError('Unable to load the face cascade classifier xml file') \n",
    " \n",
    "cap = cv2.VideoCapture(0) \n",
    "scaling_factor = 0.5 \n",
    " \n",
    "while True: \n",
    "    ret, frame = cap.read() \n",
    "    frame = cv2.resize(frame, None, fx=scaling_factor, fy=scaling_factor, interpolation=cv2.INTER_AREA)\n",
    " \n",
    "    face_rects = face_cascade.detectMultiScale(frame, scaleFactor=1.3, minNeighbors=3) \n",
    "    for (x,y,w,h) in face_rects: \n",
    "        if h <= 0 or w <= 0: pass\n",
    "        # Adjust the height and weight parameters depending on the sizes and the locations. \n",
    "        # You need to play around with these to make sure you get it right. \n",
    "        h, w = int(1.0*h), int(1.0*w) \n",
    "        y -= int(-0.2*h)\n",
    "        x = int(x)\n",
    "        \n",
    "        # Extract the region of interest from the image \n",
    "        frame_roi = frame[y:y+h, x:x+w] \n",
    "        face_mask_small = cv2.resize(face_mask, (w, h), interpolation=cv2.INTER_AREA) \n",
    "\n",
    "        # Convert color image to grayscale and threshold it \n",
    "        gray_mask = cv2.cvtColor(face_mask_small, cv2.COLOR_BGR2GRAY) \n",
    "        ret, mask = cv2.threshold(gray_mask, 180, 255, cv2.THRESH_BINARY_INV) \n",
    "\n",
    "        # Create an inverse mask \n",
    "        mask_inv = cv2.bitwise_not(mask) \n",
    "\n",
    "        try:\n",
    "            # Use the mask to extract the face mask region of interest \n",
    "            masked_face = cv2.bitwise_and(face_mask_small, face_mask_small, mask=mask) \n",
    "            # Use the inverse mask to get the remaining part of the image \n",
    "            masked_frame = cv2.bitwise_and(frame_roi, frame_roi, mask=mask_inv) \n",
    "        except cv2.error as e:\n",
    "            print('Ignoring arithmentic exceptions: '+ str(e))\n",
    "\n",
    "        # add the two images to get the final output \n",
    "        frame[y:y+h, x:x+w] = cv2.add(masked_face, masked_frame)\n",
    " \n",
    "    cv2.imshow('Face Detector', frame) \n",
    " \n",
    "    c = cv2.waitKey(1) \n",
    "    if c == 27: \n",
    "        break \n",
    "\n",
    "\n",
    "cap.release() \n",
    "cv2.destroyAllWindows()\n",
    "cv2.waitKey(1)"
   ]
  }
 ],
 "metadata": {
  "kernelspec": {
   "display_name": "master-ai-tec",
   "language": "python",
   "name": "python3"
  },
  "language_info": {
   "codemirror_mode": {
    "name": "ipython",
    "version": 3
   },
   "file_extension": ".py",
   "mimetype": "text/x-python",
   "name": "python",
   "nbconvert_exporter": "python",
   "pygments_lexer": "ipython3",
   "version": "3.12.5"
  }
 },
 "nbformat": 4,
 "nbformat_minor": 5
}

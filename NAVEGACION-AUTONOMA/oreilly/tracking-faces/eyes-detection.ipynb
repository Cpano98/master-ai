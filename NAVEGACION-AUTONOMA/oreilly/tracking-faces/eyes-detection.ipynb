{
 "cells": [
  {
   "cell_type": "code",
   "execution_count": 1,
   "id": "561cc6ee-e4eb-4266-8450-5c3486767436",
   "metadata": {},
   "outputs": [
    {
     "name": "stderr",
     "output_type": "stream",
     "text": [
      "2025-04-22 16:30:39.281 python[66818:151686091] +[IMKClient subclass]: chose IMKClient_Modern\n",
      "2025-04-22 16:30:39.281 python[66818:151686091] +[IMKInputSession subclass]: chose IMKInputSession_Modern\n"
     ]
    },
    {
     "data": {
      "text/plain": [
       "-1"
      ]
     },
     "execution_count": 1,
     "metadata": {},
     "output_type": "execute_result"
    }
   ],
   "source": [
    "import cv2 \n",
    "import numpy as np \n",
    " \n",
    "face_cascade = cv2.CascadeClassifier('python-opencv-detect-master/haarcascade_frontalface_alt.xml') \n",
    "eye_cascade = cv2.CascadeClassifier('python-opencv-detect-master/haarcascade_eye.xml') \n",
    "\n",
    "if face_cascade.empty(): \n",
    "  raise IOError('Unable to load the face cascade classifier xml file') \n",
    " \n",
    "if eye_cascade.empty(): \n",
    "  raise IOError('Unable to load the eye cascade classifier xml file') \n",
    " \n",
    "cap = cv2.VideoCapture(0) \n",
    "ds_factor = 0.5 \n",
    " \n",
    "while True: \n",
    "    ret, frame = cap.read() \n",
    "    frame = cv2.resize(frame, None, fx=ds_factor, fy=ds_factor, interpolation=cv2.INTER_AREA) \n",
    "    gray = cv2.cvtColor(frame, cv2.COLOR_BGR2GRAY) \n",
    " \n",
    "    faces = face_cascade.detectMultiScale(gray, scaleFactor=1.3, minNeighbors=1) \n",
    "    for (x,y,w,h) in faces: \n",
    "        roi_gray = gray[y:y+h, x:x+w] \n",
    "        roi_color = frame[y:y+h, x:x+w] \n",
    "        eyes = eye_cascade.detectMultiScale(roi_gray) \n",
    "        for (x_eye,y_eye,w_eye,h_eye) in eyes: \n",
    "            center = (int(x_eye + 0.5*w_eye), int(y_eye + 0.5*h_eye)) \n",
    "            radius = int(0.3 * (w_eye + h_eye)) \n",
    "            color = (0, 255, 0) \n",
    "            thickness = 3 \n",
    "            cv2.circle(roi_color, center, radius, color, thickness) \n",
    " \n",
    "    cv2.imshow('Eye Detector', frame) \n",
    " \n",
    "    c = cv2.waitKey(1) \n",
    "    if c == 27: \n",
    "        break\n",
    "\n",
    "cap.release() \n",
    "cv2.destroyAllWindows()\n",
    "cv2.waitKey(1)"
   ]
  }
 ],
 "metadata": {
  "kernelspec": {
   "display_name": "master-ai-tec",
   "language": "python",
   "name": "python3"
  },
  "language_info": {
   "codemirror_mode": {
    "name": "ipython",
    "version": 3
   },
   "file_extension": ".py",
   "mimetype": "text/x-python",
   "name": "python",
   "nbconvert_exporter": "python",
   "pygments_lexer": "ipython3",
   "version": "3.12.5"
  }
 },
 "nbformat": 4,
 "nbformat_minor": 5
}
